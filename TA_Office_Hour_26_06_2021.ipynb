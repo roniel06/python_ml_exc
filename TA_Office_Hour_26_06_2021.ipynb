{
  "nbformat": 4,
  "nbformat_minor": 0,
  "metadata": {
    "colab": {
      "name": "TA Office Hour 26-06-2021.ipynb",
      "provenance": [],
      "collapsed_sections": [],
      "authorship_tag": "ABX9TyPuHkLOkjeS5yQ7nCQwvnv1",
      "include_colab_link": true
    },
    "kernelspec": {
      "name": "python3",
      "display_name": "Python 3"
    },
    "language_info": {
      "name": "python"
    }
  },
  "cells": [
    {
      "cell_type": "markdown",
      "metadata": {
        "id": "view-in-github",
        "colab_type": "text"
      },
      "source": [
        "<a href=\"https://colab.research.google.com/github/roniel06/python_ml_exc/blob/main/TA_Office_Hour_26_06_2021.ipynb\" target=\"_parent\"><img src=\"https://colab.research.google.com/assets/colab-badge.svg\" alt=\"Open In Colab\"/></a>"
      ]
    },
    {
      "cell_type": "markdown",
      "metadata": {
        "id": "dV2j6bAQb8c9"
      },
      "source": [
        "# Repaso\n"
      ]
    },
    {
      "cell_type": "code",
      "metadata": {
        "id": "yCu9Rr7Pqrlk"
      },
      "source": [
        "import matplotlib.pyplot as plt"
      ],
      "execution_count": null,
      "outputs": []
    },
    {
      "cell_type": "markdown",
      "metadata": {
        "id": "0HeH7qpgb_mt"
      },
      "source": [
        "## Probabilidad Frecuentista"
      ]
    },
    {
      "cell_type": "code",
      "metadata": {
        "colab": {
          "base_uri": "https://localhost:8080/"
        },
        "id": "HizSCo_obaVp",
        "outputId": "4a45b59a-1bf8-46aa-b496-029a0d4c1ee4"
      },
      "source": [
        "import random\n",
        "\n",
        "D =[1,2,3,4,5,6]\n",
        "N = 10000\n",
        "obs =0\n",
        "for n in range(N):\n",
        "  o_i =random.randint(1,6)\n",
        "  if o_i % 2 == 0:\n",
        "    obs+=1\n",
        "  \n",
        "Fr= obs/N\n",
        "print(\"Probability \", Fr )\n",
        "\n",
        "\n",
        "\n"
      ],
      "execution_count": null,
      "outputs": [
        {
          "output_type": "stream",
          "text": [
            "Probability  0.5039\n"
          ],
          "name": "stdout"
        }
      ]
    },
    {
      "cell_type": "markdown",
      "metadata": {
        "id": "bzi9fN-hdd5s"
      },
      "source": [
        "## Combinations\n",
        "\n",
        "conjunto potencia es todos los conjuntos que puedes formar con un conjunto\n"
      ]
    },
    {
      "cell_type": "markdown",
      "metadata": {
        "id": "euNVLkrCeiID"
      },
      "source": [
        ""
      ]
    },
    {
      "cell_type": "code",
      "metadata": {
        "colab": {
          "base_uri": "https://localhost:8080/"
        },
        "id": "qSTh5ytCd5-d",
        "outputId": "a943a395-6aea-4cfd-a35c-1607c5356c6b"
      },
      "source": [
        "from itertools import *\n",
        "A = set(list('ABCDEFGHIJKLMNÑOPQRSTUVWXYZ'))\n",
        "def powerset(iterable):\n",
        "  s = list(iterable)\n",
        "  return chain.from_iterable(combinations(s,r) for r in range(len(s)+1))\n",
        "\n",
        "list(powerset({'A,b,C'}))\n"
      ],
      "execution_count": null,
      "outputs": [
        {
          "output_type": "execute_result",
          "data": {
            "text/plain": [
              "[(), ('A,b,C',)]"
            ]
          },
          "metadata": {
            "tags": []
          },
          "execution_count": 12
        }
      ]
    },
    {
      "cell_type": "markdown",
      "metadata": {
        "id": "jjz-sfv1fdqP"
      },
      "source": [
        "Producto cardinal, el tamaño del set, va a ser la multiplicacion del tamaño de A por B\n"
      ]
    },
    {
      "cell_type": "code",
      "metadata": {
        "colab": {
          "base_uri": "https://localhost:8080/"
        },
        "id": "qAGv5NoPfLh7",
        "outputId": "5e3eb014-c58a-4f56-8f0a-88d2dcb4b7e3"
      },
      "source": [
        "n =len(A)\n",
        "k =3\n",
        "for comb in combinations(A,k):\n",
        "  print(comb)\n",
        "  break\n"
      ],
      "execution_count": null,
      "outputs": [
        {
          "output_type": "stream",
          "text": [
            "('Ñ', 'J', 'H')\n"
          ],
          "name": "stdout"
        }
      ]
    },
    {
      "cell_type": "code",
      "metadata": {
        "id": "6ykDXyQPfyjx"
      },
      "source": [
        "import math\n",
        "\n",
        "def count_combination(n,k):\n",
        "  res = math.factorial(n)\n",
        "  res //= math.factorial(k) * matho.factorial(n-k)\n",
        "  return res\n",
        "\n",
        "def count_permutation(n,k):\n",
        "  return count_combination(n,k) * math.factorial(k)"
      ],
      "execution_count": null,
      "outputs": []
    },
    {
      "cell_type": "markdown",
      "metadata": {
        "id": "gKG7tOP0lYHT"
      },
      "source": [
        "## Random Variables"
      ]
    },
    {
      "cell_type": "code",
      "metadata": {
        "colab": {
          "base_uri": "https://localhost:8080/",
          "height": 197
        },
        "id": "DYBVGorijjGF",
        "outputId": "159fa574-98e4-4a5c-ada0-187f69d41964"
      },
      "source": [
        "import pandas as pd\n",
        "X =pd.read_csv('https://pastebin.com/raw/9ARcdPy0',delimiter='\\t', header=None, index_col=None)\n",
        "X =X.rename({0:'EDUCATION',1:'SOUTH',2:'SEX',3:'EXPERIENCE',4:'UNION',5:'WAGE',6:'AGE',7:'RACE',8:'OCCUPATION',9:'SECTOR',10:'MARR'}, axis='columns')\n",
        "X.head()\n"
      ],
      "execution_count": null,
      "outputs": [
        {
          "output_type": "execute_result",
          "data": {
            "text/html": [
              "<div>\n",
              "<style scoped>\n",
              "    .dataframe tbody tr th:only-of-type {\n",
              "        vertical-align: middle;\n",
              "    }\n",
              "\n",
              "    .dataframe tbody tr th {\n",
              "        vertical-align: top;\n",
              "    }\n",
              "\n",
              "    .dataframe thead th {\n",
              "        text-align: right;\n",
              "    }\n",
              "</style>\n",
              "<table border=\"1\" class=\"dataframe\">\n",
              "  <thead>\n",
              "    <tr style=\"text-align: right;\">\n",
              "      <th></th>\n",
              "      <th>EDUCATION</th>\n",
              "      <th>SOUTH</th>\n",
              "      <th>SEX</th>\n",
              "      <th>EXPERIENCE</th>\n",
              "      <th>UNION</th>\n",
              "      <th>WAGE</th>\n",
              "      <th>AGE</th>\n",
              "      <th>RACE</th>\n",
              "      <th>OCCUPATION</th>\n",
              "      <th>SECTOR</th>\n",
              "      <th>MARR</th>\n",
              "    </tr>\n",
              "  </thead>\n",
              "  <tbody>\n",
              "    <tr>\n",
              "      <th>0</th>\n",
              "      <td>8</td>\n",
              "      <td>0</td>\n",
              "      <td>1</td>\n",
              "      <td>21</td>\n",
              "      <td>0</td>\n",
              "      <td>5.10</td>\n",
              "      <td>35</td>\n",
              "      <td>2</td>\n",
              "      <td>6</td>\n",
              "      <td>1</td>\n",
              "      <td>1</td>\n",
              "    </tr>\n",
              "    <tr>\n",
              "      <th>1</th>\n",
              "      <td>9</td>\n",
              "      <td>0</td>\n",
              "      <td>1</td>\n",
              "      <td>42</td>\n",
              "      <td>0</td>\n",
              "      <td>4.95</td>\n",
              "      <td>57</td>\n",
              "      <td>3</td>\n",
              "      <td>6</td>\n",
              "      <td>1</td>\n",
              "      <td>1</td>\n",
              "    </tr>\n",
              "    <tr>\n",
              "      <th>2</th>\n",
              "      <td>12</td>\n",
              "      <td>0</td>\n",
              "      <td>0</td>\n",
              "      <td>1</td>\n",
              "      <td>0</td>\n",
              "      <td>6.67</td>\n",
              "      <td>19</td>\n",
              "      <td>3</td>\n",
              "      <td>6</td>\n",
              "      <td>1</td>\n",
              "      <td>0</td>\n",
              "    </tr>\n",
              "    <tr>\n",
              "      <th>3</th>\n",
              "      <td>12</td>\n",
              "      <td>0</td>\n",
              "      <td>0</td>\n",
              "      <td>4</td>\n",
              "      <td>0</td>\n",
              "      <td>4.00</td>\n",
              "      <td>22</td>\n",
              "      <td>3</td>\n",
              "      <td>6</td>\n",
              "      <td>0</td>\n",
              "      <td>0</td>\n",
              "    </tr>\n",
              "    <tr>\n",
              "      <th>4</th>\n",
              "      <td>12</td>\n",
              "      <td>0</td>\n",
              "      <td>0</td>\n",
              "      <td>17</td>\n",
              "      <td>0</td>\n",
              "      <td>7.50</td>\n",
              "      <td>35</td>\n",
              "      <td>3</td>\n",
              "      <td>6</td>\n",
              "      <td>0</td>\n",
              "      <td>1</td>\n",
              "    </tr>\n",
              "  </tbody>\n",
              "</table>\n",
              "</div>"
            ],
            "text/plain": [
              "   EDUCATION  SOUTH  SEX  EXPERIENCE  ...  RACE  OCCUPATION  SECTOR  MARR\n",
              "0          8      0    1          21  ...     2           6       1     1\n",
              "1          9      0    1          42  ...     3           6       1     1\n",
              "2         12      0    0           1  ...     3           6       1     0\n",
              "3         12      0    0           4  ...     3           6       0     0\n",
              "4         12      0    0          17  ...     3           6       0     1\n",
              "\n",
              "[5 rows x 11 columns]"
            ]
          },
          "metadata": {
            "tags": []
          },
          "execution_count": 22
        }
      ]
    },
    {
      "cell_type": "code",
      "metadata": {
        "colab": {
          "base_uri": "https://localhost:8080/",
          "height": 283
        },
        "id": "1iwMTT4Mlqli",
        "outputId": "ef48d89d-754a-4e1b-d9aa-78e049a30d97"
      },
      "source": [
        "X_occ = X.OCCUPATION.unique()\n",
        "\n",
        "X_occ.sort()\n",
        "prob_occ = (X.OCCUPATION.value_counts() /X.shape[0]).sort_index()\n",
        "\n",
        "plt.bar(X_occ,prob_occ)\n"
      ],
      "execution_count": null,
      "outputs": [
        {
          "output_type": "execute_result",
          "data": {
            "text/plain": [
              "<BarContainer object of 6 artists>"
            ]
          },
          "metadata": {
            "tags": []
          },
          "execution_count": 44
        },
        {
          "output_type": "display_data",
          "data": {
            "image/png": "[encoded data removed]",
            "text/plain": [
              "<Figure size 432x288 with 1 Axes>"
            ]
          },
          "metadata": {
            "tags": [],
            "needs_background": "light"
          }
        }
      ]
    },
    {
      "cell_type": "code",
      "metadata": {
        "colab": {
          "base_uri": "https://localhost:8080/"
        },
        "id": "BzgQzLAYl5j1",
        "outputId": "cfa65268-b563-48f2-8add-85e41103069e"
      },
      "source": [
        "X_occ"
      ],
      "execution_count": null,
      "outputs": [
        {
          "output_type": "execute_result",
          "data": {
            "text/plain": [
              "array([1, 2, 3, 4, 5, 6])"
            ]
          },
          "metadata": {
            "tags": []
          },
          "execution_count": 35
        }
      ]
    },
    {
      "cell_type": "code",
      "metadata": {
        "colab": {
          "base_uri": "https://localhost:8080/",
          "height": 283
        },
        "id": "jeAqcie7pnAY",
        "outputId": "564ea2b8-ecfa-4625-9674-fbc827b3437d"
      },
      "source": [
        "\n",
        "## uso para variables discretas\n",
        "def cum_pmf(X,pr):\n",
        "  F = dict()\n",
        "  for i in X:\n",
        "    F[i] = pr[pr.index <= i].sum()\n",
        "  return pd.Series(F)\n",
        "\n",
        "F_occ =cum_pmf(X_occ, prob_occ)\n",
        "\n",
        "plt.bar(X_occ,F_occ)"
      ],
      "execution_count": null,
      "outputs": [
        {
          "output_type": "execute_result",
          "data": {
            "text/plain": [
              "<BarContainer object of 6 artists>"
            ]
          },
          "metadata": {
            "tags": []
          },
          "execution_count": 42
        },
        {
          "output_type": "display_data",
          "data": {
            "image/png": "[encoded data removed]",
            "text/plain": [
              "<Figure size 432x288 with 1 Axes>"
            ]
          },
          "metadata": {
            "tags": [],
            "needs_background": "light"
          }
        }
      ]
    },
    {
      "cell_type": "code",
      "metadata": {
        "id": "OE7jBMuzl6Wk"
      },
      "source": [
        "X_edu = X.EDUCATION.unique\n",
        "X_wage = X.WAGE.unique"
      ],
      "execution_count": null,
      "outputs": []
    },
    {
      "cell_type": "code",
      "metadata": {
        "id": "7m3JGshJs-PL"
      },
      "source": [
        "# funcion de densidad para variables continuas"
      ],
      "execution_count": null,
      "outputs": []
    },
    {
      "cell_type": "code",
      "metadata": {
        "colab": {
          "base_uri": "https://localhost:8080/",
          "height": 500
        },
        "id": "QbS_z57Ytxqu",
        "outputId": "11307b66-5736-425b-9537-ef0759ef03b7"
      },
      "source": [
        "P_wage, X_wage,_=plt.hist(X.WAGE, bins=100, density=True)\n",
        "X_wage"
      ],
      "execution_count": null,
      "outputs": [
        {
          "output_type": "execute_result",
          "data": {
            "text/plain": [
              "array([ 1.   ,  1.435,  1.87 ,  2.305,  2.74 ,  3.175,  3.61 ,  4.045,\n",
              "        4.48 ,  4.915,  5.35 ,  5.785,  6.22 ,  6.655,  7.09 ,  7.525,\n",
              "        7.96 ,  8.395,  8.83 ,  9.265,  9.7  , 10.135, 10.57 , 11.005,\n",
              "       11.44 , 11.875, 12.31 , 12.745, 13.18 , 13.615, 14.05 , 14.485,\n",
              "       14.92 , 15.355, 15.79 , 16.225, 16.66 , 17.095, 17.53 , 17.965,\n",
              "       18.4  , 18.835, 19.27 , 19.705, 20.14 , 20.575, 21.01 , 21.445,\n",
              "       21.88 , 22.315, 22.75 , 23.185, 23.62 , 24.055, 24.49 , 24.925,\n",
              "       25.36 , 25.795, 26.23 , 26.665, 27.1  , 27.535, 27.97 , 28.405,\n",
              "       28.84 , 29.275, 29.71 , 30.145, 30.58 , 31.015, 31.45 , 31.885,\n",
              "       32.32 , 32.755, 33.19 , 33.625, 34.06 , 34.495, 34.93 , 35.365,\n",
              "       35.8  , 36.235, 36.67 , 37.105, 37.54 , 37.975, 38.41 , 38.845,\n",
              "       39.28 , 39.715, 40.15 , 40.585, 41.02 , 41.455, 41.89 , 42.325,\n",
              "       42.76 , 43.195, 43.63 , 44.065, 44.5  ])"
            ]
          },
          "metadata": {
            "tags": []
          },
          "execution_count": 50
        },
        {
          "output_type": "display_data",
          "data": {
            "image/png": "[encoded data removed]",
            "text/plain": [
              "<Figure size 432x288 with 1 Axes>"
            ]
          },
          "metadata": {
            "tags": [],
            "needs_background": "light"
          }
        }
      ]
    },
    {
      "cell_type": "code",
      "metadata": {
        "id": "JRfRcybCt81L"
      },
      "source": [
        ""
      ],
      "execution_count": null,
      "outputs": []
    }
  ]
}