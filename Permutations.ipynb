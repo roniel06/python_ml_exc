{
  "nbformat": 4,
  "nbformat_minor": 0,
  "metadata": {
    "colab": {
      "name": "Permutations.ipynb",
      "provenance": [],
      "authorship_tag": "ABX9TyNs800EqQbpAipGPRRH1UXu",
      "include_colab_link": true
    },
    "kernelspec": {
      "name": "python3",
      "display_name": "Python 3"
    },
    "language_info": {
      "name": "python"
    }
  },
  "cells": [
    {
      "cell_type": "markdown",
      "metadata": {
        "id": "view-in-github",
        "colab_type": "text"
      },
      "source": [
        "<a href=\"https://colab.research.google.com/github/roniel06/python_ml_exc/blob/main/Permutations.ipynb\" target=\"_parent\"><img src=\"https://colab.research.google.com/assets/colab-badge.svg\" alt=\"Open In Colab\"/></a>"
      ]
    },
    {
      "cell_type": "code",
      "metadata": {
        "colab": {
          "base_uri": "https://localhost:8080/"
        },
        "id": "iTXqkBFPa6vj",
        "outputId": "d562dd7a-df39-4840-87bf-0b93ae1ebe78"
      },
      "source": [
        "from itertools import permutations\n",
        "\n",
        "s='TAPE'\n",
        "perm=list(permutations(s))\n",
        "\n",
        "print(len(perm))\n"
      ],
      "execution_count": null,
      "outputs": [
        {
          "output_type": "stream",
          "text": [
            "24\n"
          ],
          "name": "stdout"
        }
      ]
    },
    {
      "cell_type": "code",
      "metadata": {
        "colab": {
          "base_uri": "https://localhost:8080/"
        },
        "id": "zzYyQSDDdjw5",
        "outputId": "53df0e73-c272-44e4-a242-b74c95d546fa"
      },
      "source": [
        "for item in perm:\n",
        "  print(item)"
      ],
      "execution_count": null,
      "outputs": [
        {
          "output_type": "stream",
          "text": [
            "('T', 'A', 'P', 'E')\n",
            "('T', 'A', 'E', 'P')\n",
            "('T', 'P', 'A', 'E')\n",
            "('T', 'P', 'E', 'A')\n",
            "('T', 'E', 'A', 'P')\n",
            "('T', 'E', 'P', 'A')\n",
            "('A', 'T', 'P', 'E')\n",
            "('A', 'T', 'E', 'P')\n",
            "('A', 'P', 'T', 'E')\n",
            "('A', 'P', 'E', 'T')\n",
            "('A', 'E', 'T', 'P')\n",
            "('A', 'E', 'P', 'T')\n",
            "('P', 'T', 'A', 'E')\n",
            "('P', 'T', 'E', 'A')\n",
            "('P', 'A', 'T', 'E')\n",
            "('P', 'A', 'E', 'T')\n",
            "('P', 'E', 'T', 'A')\n",
            "('P', 'E', 'A', 'T')\n",
            "('E', 'T', 'A', 'P')\n",
            "('E', 'T', 'P', 'A')\n",
            "('E', 'A', 'T', 'P')\n",
            "('E', 'A', 'P', 'T')\n",
            "('E', 'P', 'T', 'A')\n",
            "('E', 'P', 'A', 'T')\n"
          ],
          "name": "stdout"
        }
      ]
    },
    {
      "cell_type": "code",
      "metadata": {
        "colab": {
          "base_uri": "https://localhost:8080/"
        },
        "id": "G2msBQRHeggD",
        "outputId": "7c553190-a272-46f3-eb57-b5fc89c30e7d"
      },
      "source": [
        "perm = list(permutations(s,2))\n",
        "for item in perm:\n",
        "  print(item)"
      ],
      "execution_count": null,
      "outputs": [
        {
          "output_type": "stream",
          "text": [
            "('T', 'A')\n",
            "('T', 'P')\n",
            "('T', 'E')\n",
            "('A', 'T')\n",
            "('A', 'P')\n",
            "('A', 'E')\n",
            "('P', 'T')\n",
            "('P', 'A')\n",
            "('P', 'E')\n",
            "('E', 'T')\n",
            "('E', 'A')\n",
            "('E', 'P')\n"
          ],
          "name": "stdout"
        }
      ]
    },
    {
      "cell_type": "code",
      "metadata": {
        "id": "FzvnJwiqgDde",
        "colab": {
          "base_uri": "https://localhost:8080/"
        },
        "outputId": "fbdb4bad-cf35-4eb9-e1aa-079587c93ff4"
      },
      "source": [
        "import numpy as np\n",
        "import matplotlib as plt\n",
        "\n",
        "mu, sigma = 0, 0.1\n",
        "\n",
        "x = np.random.exponential(scale=60.0, size=5000)\n",
        "y = np.random.exponential(scale=10.0, size=5000)\n",
        "print(r)"
      ],
      "execution_count": null,
      "outputs": [
        {
          "output_type": "stream",
          "text": [
            "[0.304323   2.35567806 0.55036648 0.29251111 0.47187795 0.82505815\n",
            " 2.10476626 1.41099462 0.56294694 0.09727774 0.80668094 0.54470429\n",
            " 0.08336774 1.10476879 0.11702904 1.21092951 4.32741409 0.0254744\n",
            " 0.1300509 ]\n"
          ],
          "name": "stdout"
        }
      ]
    },
    {
      "cell_type": "code",
      "metadata": {
        "colab": {
          "base_uri": "https://localhost:8080/",
          "height": 282
        },
        "id": "DOMkNBwrhiY8",
        "outputId": "e8f74639-a950-4eee-f6d1-c9d6710989f9"
      },
      "source": [
        "plt.pyplot.scatter(x,y)"
      ],
      "execution_count": null,
      "outputs": [
        {
          "output_type": "execute_result",
          "data": {
            "text/plain": [
              "<matplotlib.collections.PathCollection at 0x7f5a068ff7d0>"
            ]
          },
          "metadata": {
            "tags": []
          },
          "execution_count": 29
        },
        {
          "output_type": "display_data",
          "data": {
            "image/png": "[encoded data removed]",
            "text/plain": [
              "<Figure size 432x288 with 1 Axes>"
            ]
          },
          "metadata": {
            "tags": [],
            "needs_background": "light"
          }
        }
      ]
    }
  ]
}