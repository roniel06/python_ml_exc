{
  "nbformat": 4,
  "nbformat_minor": 0,
  "metadata": {
    "kernelspec": {
      "name": "python3",
      "display_name": "Python 3.8.3 64-bit ('base': conda)"
    },
    "language_info": {
      "codemirror_mode": {
        "name": "ipython",
        "version": 3
      },
      "file_extension": ".py",
      "mimetype": "text/x-python",
      "name": "python",
      "nbconvert_exporter": "python",
      "pygments_lexer": "ipython3",
      "version": "3.8.3"
    },
    "colab": {
      "name": "Assignment - Ensemble methods2.ipynb",
      "provenance": [],
      "collapsed_sections": [
        "M46PQhAKwsKj",
        "eciMTlsjwsKo",
        "beLuCubewsLR",
        "a28anUbpwsLV",
        "lOwaWEnOwsLf",
        "FNI07SztwsLq",
        "aQNwznniwsLt",
        "bv3aMhnXwsL7",
        "v9EZ-Z1MwsMF"
      ],
      "include_colab_link": true
    },
    "interpreter": {
      "hash": "8903d18832150bbe8a8d74d8ab1c3e59febf7e2cd7ef688c5e785830a7e3da9d"
    }
  },
  "cells": [
    {
      "cell_type": "markdown",
      "metadata": {
        "id": "view-in-github",
        "colab_type": "text"
      },
      "source": [
        "<a href=\"https://colab.research.google.com/github/roniel06/python_ml_exc/blob/main/Assignment_Ensemble_methods2.ipynb\" target=\"_parent\"><img src=\"https://colab.research.google.com/assets/colab-badge.svg\" alt=\"Open In Colab\"/></a>"
      ]
    },
    {
      "cell_type": "markdown",
      "metadata": {
        "id": "2PO8PExZwsGd"
      },
      "source": [
        "# AirBnB guest arrival prediction using tree-based methods\n",
        "\n",
        "\n",
        "\n",
        "<b><div style=\"text-align: right\">[TOTAL POINTS: 10]</div></b>\n",
        "\n",
        "The assignment is divided into three different levels: Level1, Level2, and Level3.\n",
        "\n",
        "## Learning Objective(Level 1)\n",
        "\n",
        "<b><div style=\"text-align: right\">[POINTS: 4]</div></b>\n",
        "\n",
        "By the end of this assignment, a student should be able to\n",
        "\n",
        "- Apply necessary preprocessing steps on the data to make it suitable for training.\n",
        "\n",
        "- Train Bagging Classifier, Random Forest Classifier, XGBoost Classifier.\n",
        "\n",
        "- Fine-tune and monitor the performance of XGBoost.\n",
        "\n",
        "\n",
        "\n",
        "Let's start with the problem description of level1.\n",
        "In this assignment, you will train different ensemble models to predict whether the customer will cancel the booking or not. For a tourism-based country like Nepal, hospitality is a major source of income. The given data represents booking information made by foreign customers via AirBnB for the year 2018. Your task in level1 is to use this data to predict whether the customer will cancel the booking or not.\n"
      ]
    },
    {
      "cell_type": "markdown",
      "metadata": {
        "id": "Epa9-UlFwsGi"
      },
      "source": [
        "## Dataset Description:\n",
        "\n",
        "The dataset, **AirBnB customer arrival prediction**, contains information regarding booking in the hotel, and includes features like such as meal, arrival date(date of booking), car parking space in hotel, etc. All features are listed below.\n",
        "\n",
        "Note: The given dataset is a modification of [Hotel booking demand datasets](https://www.sciencedirect.com/science/article/pii/S2352340918315191) collected by **Nuano et al.** and is availabe under [Creative Commons 4.0](https://creativecommons.org/licenses/by/4.0/).\n",
        "\n",
        "**Number of Instances:** 119,386 \\\n",
        "**Number of Attributes:** 25 **Input Features** + 1 **Target**(__is_canceled__)\n",
        "\n",
        "### Attribute Information:\n",
        "The detail information of each attribute is listed as:\n",
        "\n",
        "* **hotel** - Type of hotel resort or city\n",
        "* **is_canceled** - The label column. This indicates whether the guests canceled their booking or they checked-in\n",
        "* **lead_time** - Number of days that elapsed between the entering date of the booking into the PMS and the arrival date\n",
        "* **arrival_date_year** - year of the arrival date\n",
        "* **arrival_date_month** - Month of arrival date with 12 categories: “January” to “December” expressed in numbers. 1 indicates January, and 12 indicate December. \n",
        "* **arrival_date_week_number** - Week number of the arrival date\n",
        "* **arrival_date_day_of_month** - Day of the month of the arrival date\n",
        "* **stays_in_weekend_nights** - Number of weekend nights (Saturday or Sunday) the guest stayed or booked to stay at the hotel.\n",
        "* **stays_in_week_nights** - Number of week nights (Monday to Friday) the guest stayed or booked to stay at the hotel\n",
        "* **meal** - Type of meal booked. \n",
        "* **country** - Country of origin. Categories are represented in the ISO 3155–3:2013 format\n",
        "* **market_segment** - Market segment designation. In categories, the term \"TA\" means \"Travel Agents\" and \"TO\" means \"Tour Operators\"\n",
        "* **distribution_channel** - Booking distribution channel. The term \"TA\" means \"Travel Agents\" and \"TO\" means \"Tour Operators\"\n",
        "* **is_repeated_guest** - Value indicating if the booking name was from a repeated guest (1) or not (0)\n",
        "* **reserved_room_type** - Code of room type reserved. \n",
        "* **assigned_room_type** - Code for the type of room assigned to the booking. Sometimes the assigned room type differs from the reserved room type due to hotel operation reasons (e.g., overbooking) or by customer request.\n",
        "* **booking_changes** - Number of changes/amendments made to the booking from the moment the booking was entered on the PMS until the moment of check-in or cancellation\n",
        "* **deposit_type** - Indication on if the customer deposited to guarantee the booking.\n",
        "* **agent** - ID of the travel agency that made the booking\n",
        "* **days_in_waiting_list** - Number of days the booking was on the waiting list before it was confirmed to the customer. \n",
        "* **customer_type** - Type of booking. One of Contract, Group, Transient, and Transient-party.\n",
        "* **adr** - Average Daily Rate\n",
        "* **required_car_parking_spaces** - Number of car parking spaces required by the customer.\n",
        "* **total_of_special_requests** - Number of special requests made by the customer (e.g. twin bed or high floor)\n",
        "* **total_guests** - Total number of guests(includes adults, children, and babies)\n",
        "* **net_booking_cancelled** - A difference between the total number of the previous booking canceled and the previous booking not canceled before this booking. A positive value means that the customer did not cancel most of the previous booking."
      ]
    },
    {
      "cell_type": "markdown",
      "metadata": {
        "id": "VssZ8Kf_wsGm"
      },
      "source": [
        "### Import libraries"
      ]
    },
    {
      "cell_type": "code",
      "metadata": {
        "id": "XM9q2-0ZwsGp"
      },
      "source": [
        "import pandas as pd\n",
        "import numpy as np\n",
        "from matplotlib import pyplot as plt\n",
        "\n",
        "RANDOM_STATE = 7\n",
        "np.random.seed(RANDOM_STATE)"
      ],
      "execution_count": 1,
      "outputs": []
    },
    {
      "cell_type": "markdown",
      "metadata": {
        "id": "pEDgsWu_wsG5"
      },
      "source": [
        "### Load csv file"
      ]
    },
    {
      "cell_type": "code",
      "metadata": {
        "scrolled": false,
        "id": "_ELsyzGxwsG7",
        "colab": {
          "base_uri": "https://localhost:8080/",
          "height": 311
        },
        "outputId": "4cecee1d-691c-45f5-ada9-c700f72cb71e"
      },
      "source": [
        "df= pd.read_csv(\"https://storage.googleapis.com/codehub-data/1-lv2-3-airbnb-guest-arrival.csv\", index_col = 0)\n",
        "df.head()"
      ],
      "execution_count": 2,
      "outputs": [
        {
          "output_type": "execute_result",
          "data": {
            "text/html": [
              "<div>\n",
              "<style scoped>\n",
              "    .dataframe tbody tr th:only-of-type {\n",
              "        vertical-align: middle;\n",
              "    }\n",
              "\n",
              "    .dataframe tbody tr th {\n",
              "        vertical-align: top;\n",
              "    }\n",
              "\n",
              "    .dataframe thead th {\n",
              "        text-align: right;\n",
              "    }\n",
              "</style>\n",
              "<table border=\"1\" class=\"dataframe\">\n",
              "  <thead>\n",
              "    <tr style=\"text-align: right;\">\n",
              "      <th></th>\n",
              "      <th>hotel</th>\n",
              "      <th>is_canceled</th>\n",
              "      <th>lead_time</th>\n",
              "      <th>arrival_date_year</th>\n",
              "      <th>arrival_date_month</th>\n",
              "      <th>arrival_date_week_number</th>\n",
              "      <th>arrival_date_day_of_month</th>\n",
              "      <th>stays_in_weekend_nights</th>\n",
              "      <th>stays_in_week_nights</th>\n",
              "      <th>meal</th>\n",
              "      <th>country</th>\n",
              "      <th>market_segment</th>\n",
              "      <th>distribution_channel</th>\n",
              "      <th>is_repeated_guest</th>\n",
              "      <th>reserved_room_type</th>\n",
              "      <th>assigned_room_type</th>\n",
              "      <th>booking_changes</th>\n",
              "      <th>deposit_type</th>\n",
              "      <th>agent</th>\n",
              "      <th>days_in_waiting_list</th>\n",
              "      <th>customer_type</th>\n",
              "      <th>adr</th>\n",
              "      <th>required_car_parking_spaces</th>\n",
              "      <th>total_of_special_requests</th>\n",
              "      <th>total_guests</th>\n",
              "      <th>net_booking_cancelled</th>\n",
              "    </tr>\n",
              "  </thead>\n",
              "  <tbody>\n",
              "    <tr>\n",
              "      <th>0</th>\n",
              "      <td>Resort Hotel</td>\n",
              "      <td>0</td>\n",
              "      <td>342</td>\n",
              "      <td>2015</td>\n",
              "      <td>July</td>\n",
              "      <td>27</td>\n",
              "      <td>1</td>\n",
              "      <td>0</td>\n",
              "      <td>0</td>\n",
              "      <td>NaN</td>\n",
              "      <td>PRT</td>\n",
              "      <td>Direct</td>\n",
              "      <td>Direct</td>\n",
              "      <td>0</td>\n",
              "      <td>C</td>\n",
              "      <td>NaN</td>\n",
              "      <td>3</td>\n",
              "      <td>No Deposit</td>\n",
              "      <td>NaN</td>\n",
              "      <td>0</td>\n",
              "      <td>Transient</td>\n",
              "      <td>0.0</td>\n",
              "      <td>0</td>\n",
              "      <td>0</td>\n",
              "      <td>2.0</td>\n",
              "      <td>0</td>\n",
              "    </tr>\n",
              "    <tr>\n",
              "      <th>1</th>\n",
              "      <td>Resort Hotel</td>\n",
              "      <td>0</td>\n",
              "      <td>737</td>\n",
              "      <td>2015</td>\n",
              "      <td>July</td>\n",
              "      <td>27</td>\n",
              "      <td>1</td>\n",
              "      <td>0</td>\n",
              "      <td>0</td>\n",
              "      <td>BB</td>\n",
              "      <td>PRT</td>\n",
              "      <td>Direct</td>\n",
              "      <td>Direct</td>\n",
              "      <td>0</td>\n",
              "      <td>C</td>\n",
              "      <td>C</td>\n",
              "      <td>4</td>\n",
              "      <td>No Deposit</td>\n",
              "      <td>NaN</td>\n",
              "      <td>0</td>\n",
              "      <td>Transient</td>\n",
              "      <td>0.0</td>\n",
              "      <td>0</td>\n",
              "      <td>0</td>\n",
              "      <td>2.0</td>\n",
              "      <td>0</td>\n",
              "    </tr>\n",
              "    <tr>\n",
              "      <th>2</th>\n",
              "      <td>Resort Hotel</td>\n",
              "      <td>0</td>\n",
              "      <td>7</td>\n",
              "      <td>2015</td>\n",
              "      <td>July</td>\n",
              "      <td>27</td>\n",
              "      <td>1</td>\n",
              "      <td>0</td>\n",
              "      <td>1</td>\n",
              "      <td>BB</td>\n",
              "      <td>GBR</td>\n",
              "      <td>Direct</td>\n",
              "      <td>Direct</td>\n",
              "      <td>0</td>\n",
              "      <td>A</td>\n",
              "      <td>C</td>\n",
              "      <td>0</td>\n",
              "      <td>No Deposit</td>\n",
              "      <td>NaN</td>\n",
              "      <td>0</td>\n",
              "      <td>Transient</td>\n",
              "      <td>75.0</td>\n",
              "      <td>0</td>\n",
              "      <td>0</td>\n",
              "      <td>1.0</td>\n",
              "      <td>0</td>\n",
              "    </tr>\n",
              "    <tr>\n",
              "      <th>3</th>\n",
              "      <td>Resort Hotel</td>\n",
              "      <td>0</td>\n",
              "      <td>13</td>\n",
              "      <td>2015</td>\n",
              "      <td>July</td>\n",
              "      <td>27</td>\n",
              "      <td>1</td>\n",
              "      <td>0</td>\n",
              "      <td>1</td>\n",
              "      <td>NaN</td>\n",
              "      <td>GBR</td>\n",
              "      <td>Corporate</td>\n",
              "      <td>NaN</td>\n",
              "      <td>0</td>\n",
              "      <td>A</td>\n",
              "      <td>A</td>\n",
              "      <td>0</td>\n",
              "      <td>No Deposit</td>\n",
              "      <td>304.0</td>\n",
              "      <td>0</td>\n",
              "      <td>Transient</td>\n",
              "      <td>75.0</td>\n",
              "      <td>0</td>\n",
              "      <td>0</td>\n",
              "      <td>1.0</td>\n",
              "      <td>0</td>\n",
              "    </tr>\n",
              "    <tr>\n",
              "      <th>4</th>\n",
              "      <td>Resort Hotel</td>\n",
              "      <td>0</td>\n",
              "      <td>14</td>\n",
              "      <td>2015</td>\n",
              "      <td>July</td>\n",
              "      <td>27</td>\n",
              "      <td>1</td>\n",
              "      <td>0</td>\n",
              "      <td>2</td>\n",
              "      <td>BB</td>\n",
              "      <td>GBR</td>\n",
              "      <td>Online TA</td>\n",
              "      <td>TA/TO</td>\n",
              "      <td>0</td>\n",
              "      <td>A</td>\n",
              "      <td>A</td>\n",
              "      <td>0</td>\n",
              "      <td>No Deposit</td>\n",
              "      <td>240.0</td>\n",
              "      <td>0</td>\n",
              "      <td>Transient</td>\n",
              "      <td>98.0</td>\n",
              "      <td>0</td>\n",
              "      <td>1</td>\n",
              "      <td>2.0</td>\n",
              "      <td>0</td>\n",
              "    </tr>\n",
              "  </tbody>\n",
              "</table>\n",
              "</div>"
            ],
            "text/plain": [
              "          hotel  is_canceled  ...  total_guests  net_booking_cancelled\n",
              "0  Resort Hotel            0  ...           2.0                      0\n",
              "1  Resort Hotel            0  ...           2.0                      0\n",
              "2  Resort Hotel            0  ...           1.0                      0\n",
              "3  Resort Hotel            0  ...           1.0                      0\n",
              "4  Resort Hotel            0  ...           2.0                      0\n",
              "\n",
              "[5 rows x 26 columns]"
            ]
          },
          "metadata": {
            "tags": []
          },
          "execution_count": 2
        }
      ]
    },
    {
      "cell_type": "markdown",
      "metadata": {
        "id": "-PYR9djVwsHG"
      },
      "source": [
        "## Preprocessing\n",
        "### Identification of features with missing values\n",
        "Let's find out if the columns in our dataset has any misssing values."
      ]
    },
    {
      "cell_type": "code",
      "metadata": {
        "scrolled": false,
        "id": "Rkd1RjvSwsHI",
        "colab": {
          "base_uri": "https://localhost:8080/"
        },
        "outputId": "6a2cb8de-564d-4ab2-fcdd-8ea35ea32e2c"
      },
      "source": [
        "df.isnull().sum()"
      ],
      "execution_count": 3,
      "outputs": [
        {
          "output_type": "execute_result",
          "data": {
            "text/plain": [
              "hotel                              0\n",
              "is_canceled                        0\n",
              "lead_time                          0\n",
              "arrival_date_year                  0\n",
              "arrival_date_month                 0\n",
              "arrival_date_week_number           0\n",
              "arrival_date_day_of_month          0\n",
              "stays_in_weekend_nights            0\n",
              "stays_in_week_nights               0\n",
              "meal                           11939\n",
              "country                          488\n",
              "market_segment                     0\n",
              "distribution_channel           11939\n",
              "is_repeated_guest                  0\n",
              "reserved_room_type                 0\n",
              "assigned_room_type             11939\n",
              "booking_changes                    0\n",
              "deposit_type                       0\n",
              "agent                          16340\n",
              "days_in_waiting_list               0\n",
              "customer_type                      0\n",
              "adr                                0\n",
              "required_car_parking_spaces        0\n",
              "total_of_special_requests          0\n",
              "total_guests                       4\n",
              "net_booking_cancelled              0\n",
              "dtype: int64"
            ]
          },
          "metadata": {
            "tags": []
          },
          "execution_count": 3
        }
      ]
    },
    {
      "cell_type": "code",
      "metadata": {
        "id": "14PpyYQeDogE"
      },
      "source": [
        ""
      ],
      "execution_count": 3,
      "outputs": []
    },
    {
      "cell_type": "markdown",
      "metadata": {
        "id": "oY3mhFEOwsHQ"
      },
      "source": [
        "We can see that columns `agent`, `assigned_room_type`, `distribution_channel`, `meal`, `country`, and `total_guests` have missing values.\n",
        "\n",
        "Since only four instances in the column `total_guests` have missing value, we will drop them."
      ]
    },
    {
      "cell_type": "code",
      "metadata": {
        "id": "UKdOTd4BwsHS"
      },
      "source": [
        "# removing all rows that have missing values in total_guests column\n",
        "df.dropna(how='any', subset=['total_guests'], inplace=True)"
      ],
      "execution_count": 4,
      "outputs": []
    },
    {
      "cell_type": "markdown",
      "metadata": {
        "id": "85mnhFDXwsHb"
      },
      "source": [
        "We will impute rest of the features with mode.\n",
        "\n",
        "Personal Comment :So We will put the most common value to the missing ones (roniel06)\n"
      ]
    },
    {
      "cell_type": "code",
      "metadata": {
        "id": "WVSifF4qwsHc"
      },
      "source": [
        "missing_features = ['agent', 'assigned_room_type', 'distribution_channel', 'meal', 'country']\n",
        "for feature in missing_features:\n",
        "    df[feature].fillna(df[feature].mode()[0], inplace = True)"
      ],
      "execution_count": 5,
      "outputs": []
    },
    {
      "cell_type": "markdown",
      "metadata": {
        "id": "RQEJ1XRCwsHl"
      },
      "source": [
        "Until now, we have imputed all the missing values in the dataset."
      ]
    },
    {
      "cell_type": "markdown",
      "metadata": {
        "id": "LYANbhhZwsHm"
      },
      "source": [
        "### Feature generation\n",
        "\n",
        "Here we will combine features `arrival_date_month` and `arrival_date_year` to generate a new feature `month`."
      ]
    },
    {
      "cell_type": "code",
      "metadata": {
        "id": "AeWZtrUJwsHn",
        "colab": {
          "base_uri": "https://localhost:8080/"
        },
        "outputId": "29268991-4735-41ef-8311-7d5561700828"
      },
      "source": [
        "df['arrival_date_year'].unique()"
      ],
      "execution_count": 6,
      "outputs": [
        {
          "output_type": "execute_result",
          "data": {
            "text/plain": [
              "array([2015, 2016, 2017])"
            ]
          },
          "metadata": {
            "tags": []
          },
          "execution_count": 6
        }
      ]
    },
    {
      "cell_type": "code",
      "metadata": {
        "scrolled": true,
        "id": "_ZXwBZH7wsHu",
        "colab": {
          "base_uri": "https://localhost:8080/"
        },
        "outputId": "e573ee9a-67e9-40e2-93c4-3bf60924229e"
      },
      "source": [
        "df['arrival_date_month'].unique()"
      ],
      "execution_count": 7,
      "outputs": [
        {
          "output_type": "execute_result",
          "data": {
            "text/plain": [
              "array(['July', 'August', 'September', 'October', 'November', 'December',\n",
              "       'January', 'February', 'March', 'April', 'May', 'June'],\n",
              "      dtype=object)"
            ]
          },
          "metadata": {
            "tags": []
          },
          "execution_count": 7
        }
      ]
    },
    {
      "cell_type": "markdown",
      "metadata": {
        "id": "dIPIGG8LwsH1"
      },
      "source": [
        "In the feature `month`,  we will consider Jan, 2015 as 0, Feb, 2015 as 1, and so on. So this feature will represent the month number starting from Jan, 2015."
      ]
    },
    {
      "cell_type": "code",
      "metadata": {
        "id": "beVp5g3ZwsH2"
      },
      "source": [
        "replace_year = {2015:0, 2016: 12, 2017:24}\n",
        "replace_month= {'Januray':0, 'February': 1, 'March': 2, 'April': 3, 'May': 4, 'June': 5, 'July': 6, 'August': 7, 'September': 8, 'October': 9, 'November': 10, 'December': 11}"
      ],
      "execution_count": 8,
      "outputs": []
    },
    {
      "cell_type": "code",
      "metadata": {
        "scrolled": true,
        "id": "L3Q3b4atwsH9",
        "colab": {
          "base_uri": "https://localhost:8080/",
          "height": 311
        },
        "outputId": "5d789347-7570-4331-f637-19a698e5986c"
      },
      "source": [
        "df['arrival_date_year'] = df['arrival_date_year'].replace(replace_year)\n",
        "df['arrival_date_month'] = df['arrival_date_month'].replace(replace_month)\n",
        "df['month'] = df['arrival_date_year']+df['arrival_date_year']\n",
        "# df.drop(['arrival_date_year', 'arrival_date_year'], axis = 1, inplace = True)\n",
        "df.head()"
      ],
      "execution_count": 9,
      "outputs": [
        {
          "output_type": "execute_result",
          "data": {
            "text/html": [
              "<div>\n",
              "<style scoped>\n",
              "    .dataframe tbody tr th:only-of-type {\n",
              "        vertical-align: middle;\n",
              "    }\n",
              "\n",
              "    .dataframe tbody tr th {\n",
              "        vertical-align: top;\n",
              "    }\n",
              "\n",
              "    .dataframe thead th {\n",
              "        text-align: right;\n",
              "    }\n",
              "</style>\n",
              "<table border=\"1\" class=\"dataframe\">\n",
              "  <thead>\n",
              "    <tr style=\"text-align: right;\">\n",
              "      <th></th>\n",
              "      <th>hotel</th>\n",
              "      <th>is_canceled</th>\n",
              "      <th>lead_time</th>\n",
              "      <th>arrival_date_year</th>\n",
              "      <th>arrival_date_month</th>\n",
              "      <th>arrival_date_week_number</th>\n",
              "      <th>arrival_date_day_of_month</th>\n",
              "      <th>stays_in_weekend_nights</th>\n",
              "      <th>stays_in_week_nights</th>\n",
              "      <th>meal</th>\n",
              "      <th>country</th>\n",
              "      <th>market_segment</th>\n",
              "      <th>distribution_channel</th>\n",
              "      <th>is_repeated_guest</th>\n",
              "      <th>reserved_room_type</th>\n",
              "      <th>assigned_room_type</th>\n",
              "      <th>booking_changes</th>\n",
              "      <th>deposit_type</th>\n",
              "      <th>agent</th>\n",
              "      <th>days_in_waiting_list</th>\n",
              "      <th>customer_type</th>\n",
              "      <th>adr</th>\n",
              "      <th>required_car_parking_spaces</th>\n",
              "      <th>total_of_special_requests</th>\n",
              "      <th>total_guests</th>\n",
              "      <th>net_booking_cancelled</th>\n",
              "      <th>month</th>\n",
              "    </tr>\n",
              "  </thead>\n",
              "  <tbody>\n",
              "    <tr>\n",
              "      <th>0</th>\n",
              "      <td>Resort Hotel</td>\n",
              "      <td>0</td>\n",
              "      <td>342</td>\n",
              "      <td>0</td>\n",
              "      <td>6</td>\n",
              "      <td>27</td>\n",
              "      <td>1</td>\n",
              "      <td>0</td>\n",
              "      <td>0</td>\n",
              "      <td>BB</td>\n",
              "      <td>PRT</td>\n",
              "      <td>Direct</td>\n",
              "      <td>Direct</td>\n",
              "      <td>0</td>\n",
              "      <td>C</td>\n",
              "      <td>A</td>\n",
              "      <td>3</td>\n",
              "      <td>No Deposit</td>\n",
              "      <td>9.0</td>\n",
              "      <td>0</td>\n",
              "      <td>Transient</td>\n",
              "      <td>0.0</td>\n",
              "      <td>0</td>\n",
              "      <td>0</td>\n",
              "      <td>2.0</td>\n",
              "      <td>0</td>\n",
              "      <td>0</td>\n",
              "    </tr>\n",
              "    <tr>\n",
              "      <th>1</th>\n",
              "      <td>Resort Hotel</td>\n",
              "      <td>0</td>\n",
              "      <td>737</td>\n",
              "      <td>0</td>\n",
              "      <td>6</td>\n",
              "      <td>27</td>\n",
              "      <td>1</td>\n",
              "      <td>0</td>\n",
              "      <td>0</td>\n",
              "      <td>BB</td>\n",
              "      <td>PRT</td>\n",
              "      <td>Direct</td>\n",
              "      <td>Direct</td>\n",
              "      <td>0</td>\n",
              "      <td>C</td>\n",
              "      <td>C</td>\n",
              "      <td>4</td>\n",
              "      <td>No Deposit</td>\n",
              "      <td>9.0</td>\n",
              "      <td>0</td>\n",
              "      <td>Transient</td>\n",
              "      <td>0.0</td>\n",
              "      <td>0</td>\n",
              "      <td>0</td>\n",
              "      <td>2.0</td>\n",
              "      <td>0</td>\n",
              "      <td>0</td>\n",
              "    </tr>\n",
              "    <tr>\n",
              "      <th>2</th>\n",
              "      <td>Resort Hotel</td>\n",
              "      <td>0</td>\n",
              "      <td>7</td>\n",
              "      <td>0</td>\n",
              "      <td>6</td>\n",
              "      <td>27</td>\n",
              "      <td>1</td>\n",
              "      <td>0</td>\n",
              "      <td>1</td>\n",
              "      <td>BB</td>\n",
              "      <td>GBR</td>\n",
              "      <td>Direct</td>\n",
              "      <td>Direct</td>\n",
              "      <td>0</td>\n",
              "      <td>A</td>\n",
              "      <td>C</td>\n",
              "      <td>0</td>\n",
              "      <td>No Deposit</td>\n",
              "      <td>9.0</td>\n",
              "      <td>0</td>\n",
              "      <td>Transient</td>\n",
              "      <td>75.0</td>\n",
              "      <td>0</td>\n",
              "      <td>0</td>\n",
              "      <td>1.0</td>\n",
              "      <td>0</td>\n",
              "      <td>0</td>\n",
              "    </tr>\n",
              "    <tr>\n",
              "      <th>3</th>\n",
              "      <td>Resort Hotel</td>\n",
              "      <td>0</td>\n",
              "      <td>13</td>\n",
              "      <td>0</td>\n",
              "      <td>6</td>\n",
              "      <td>27</td>\n",
              "      <td>1</td>\n",
              "      <td>0</td>\n",
              "      <td>1</td>\n",
              "      <td>BB</td>\n",
              "      <td>GBR</td>\n",
              "      <td>Corporate</td>\n",
              "      <td>TA/TO</td>\n",
              "      <td>0</td>\n",
              "      <td>A</td>\n",
              "      <td>A</td>\n",
              "      <td>0</td>\n",
              "      <td>No Deposit</td>\n",
              "      <td>304.0</td>\n",
              "      <td>0</td>\n",
              "      <td>Transient</td>\n",
              "      <td>75.0</td>\n",
              "      <td>0</td>\n",
              "      <td>0</td>\n",
              "      <td>1.0</td>\n",
              "      <td>0</td>\n",
              "      <td>0</td>\n",
              "    </tr>\n",
              "    <tr>\n",
              "      <th>4</th>\n",
              "      <td>Resort Hotel</td>\n",
              "      <td>0</td>\n",
              "      <td>14</td>\n",
              "      <td>0</td>\n",
              "      <td>6</td>\n",
              "      <td>27</td>\n",
              "      <td>1</td>\n",
              "      <td>0</td>\n",
              "      <td>2</td>\n",
              "      <td>BB</td>\n",
              "      <td>GBR</td>\n",
              "      <td>Online TA</td>\n",
              "      <td>TA/TO</td>\n",
              "      <td>0</td>\n",
              "      <td>A</td>\n",
              "      <td>A</td>\n",
              "      <td>0</td>\n",
              "      <td>No Deposit</td>\n",
              "      <td>240.0</td>\n",
              "      <td>0</td>\n",
              "      <td>Transient</td>\n",
              "      <td>98.0</td>\n",
              "      <td>0</td>\n",
              "      <td>1</td>\n",
              "      <td>2.0</td>\n",
              "      <td>0</td>\n",
              "      <td>0</td>\n",
              "    </tr>\n",
              "  </tbody>\n",
              "</table>\n",
              "</div>"
            ],
            "text/plain": [
              "          hotel  is_canceled  ...  net_booking_cancelled  month\n",
              "0  Resort Hotel            0  ...                      0      0\n",
              "1  Resort Hotel            0  ...                      0      0\n",
              "2  Resort Hotel            0  ...                      0      0\n",
              "3  Resort Hotel            0  ...                      0      0\n",
              "4  Resort Hotel            0  ...                      0      0\n",
              "\n",
              "[5 rows x 27 columns]"
            ]
          },
          "metadata": {
            "tags": []
          },
          "execution_count": 9
        }
      ]
    },
    {
      "cell_type": "markdown",
      "metadata": {
        "id": "-MNF119rwsIC"
      },
      "source": [
        "### Label Encoding\n",
        "\n",
        "All categorical features are encoded with label encoding.\n"
      ]
    },
    {
      "cell_type": "code",
      "metadata": {
        "id": "sMblbXeEwsIE",
        "colab": {
          "base_uri": "https://localhost:8080/",
          "height": 225
        },
        "outputId": "2853209a-4635-4e9e-f0c9-ac3494837cda"
      },
      "source": [
        "from sklearn.preprocessing import LabelEncoder\n",
        "\n",
        "\n",
        "cat_vars = [var for var in df.columns if df[var].dtypes=='O']\n",
        "df[cat_vars] = df[cat_vars].astype(str).apply(LabelEncoder().fit_transform)\n",
        "df.head()"
      ],
      "execution_count": 10,
      "outputs": [
        {
          "output_type": "execute_result",
          "data": {
            "text/html": [
              "<div>\n",
              "<style scoped>\n",
              "    .dataframe tbody tr th:only-of-type {\n",
              "        vertical-align: middle;\n",
              "    }\n",
              "\n",
              "    .dataframe tbody tr th {\n",
              "        vertical-align: top;\n",
              "    }\n",
              "\n",
              "    .dataframe thead th {\n",
              "        text-align: right;\n",
              "    }\n",
              "</style>\n",
              "<table border=\"1\" class=\"dataframe\">\n",
              "  <thead>\n",
              "    <tr style=\"text-align: right;\">\n",
              "      <th></th>\n",
              "      <th>hotel</th>\n",
              "      <th>is_canceled</th>\n",
              "      <th>lead_time</th>\n",
              "      <th>arrival_date_year</th>\n",
              "      <th>arrival_date_month</th>\n",
              "      <th>arrival_date_week_number</th>\n",
              "      <th>arrival_date_day_of_month</th>\n",
              "      <th>stays_in_weekend_nights</th>\n",
              "      <th>stays_in_week_nights</th>\n",
              "      <th>meal</th>\n",
              "      <th>country</th>\n",
              "      <th>market_segment</th>\n",
              "      <th>distribution_channel</th>\n",
              "      <th>is_repeated_guest</th>\n",
              "      <th>reserved_room_type</th>\n",
              "      <th>assigned_room_type</th>\n",
              "      <th>booking_changes</th>\n",
              "      <th>deposit_type</th>\n",
              "      <th>agent</th>\n",
              "      <th>days_in_waiting_list</th>\n",
              "      <th>customer_type</th>\n",
              "      <th>adr</th>\n",
              "      <th>required_car_parking_spaces</th>\n",
              "      <th>total_of_special_requests</th>\n",
              "      <th>total_guests</th>\n",
              "      <th>net_booking_cancelled</th>\n",
              "      <th>month</th>\n",
              "    </tr>\n",
              "  </thead>\n",
              "  <tbody>\n",
              "    <tr>\n",
              "      <th>0</th>\n",
              "      <td>1</td>\n",
              "      <td>0</td>\n",
              "      <td>342</td>\n",
              "      <td>0</td>\n",
              "      <td>7</td>\n",
              "      <td>27</td>\n",
              "      <td>1</td>\n",
              "      <td>0</td>\n",
              "      <td>0</td>\n",
              "      <td>0</td>\n",
              "      <td>135</td>\n",
              "      <td>3</td>\n",
              "      <td>1</td>\n",
              "      <td>0</td>\n",
              "      <td>2</td>\n",
              "      <td>0</td>\n",
              "      <td>3</td>\n",
              "      <td>0</td>\n",
              "      <td>9.0</td>\n",
              "      <td>0</td>\n",
              "      <td>2</td>\n",
              "      <td>0.0</td>\n",
              "      <td>0</td>\n",
              "      <td>0</td>\n",
              "      <td>2.0</td>\n",
              "      <td>0</td>\n",
              "      <td>0</td>\n",
              "    </tr>\n",
              "    <tr>\n",
              "      <th>1</th>\n",
              "      <td>1</td>\n",
              "      <td>0</td>\n",
              "      <td>737</td>\n",
              "      <td>0</td>\n",
              "      <td>7</td>\n",
              "      <td>27</td>\n",
              "      <td>1</td>\n",
              "      <td>0</td>\n",
              "      <td>0</td>\n",
              "      <td>0</td>\n",
              "      <td>135</td>\n",
              "      <td>3</td>\n",
              "      <td>1</td>\n",
              "      <td>0</td>\n",
              "      <td>2</td>\n",
              "      <td>2</td>\n",
              "      <td>4</td>\n",
              "      <td>0</td>\n",
              "      <td>9.0</td>\n",
              "      <td>0</td>\n",
              "      <td>2</td>\n",
              "      <td>0.0</td>\n",
              "      <td>0</td>\n",
              "      <td>0</td>\n",
              "      <td>2.0</td>\n",
              "      <td>0</td>\n",
              "      <td>0</td>\n",
              "    </tr>\n",
              "    <tr>\n",
              "      <th>2</th>\n",
              "      <td>1</td>\n",
              "      <td>0</td>\n",
              "      <td>7</td>\n",
              "      <td>0</td>\n",
              "      <td>7</td>\n",
              "      <td>27</td>\n",
              "      <td>1</td>\n",
              "      <td>0</td>\n",
              "      <td>1</td>\n",
              "      <td>0</td>\n",
              "      <td>59</td>\n",
              "      <td>3</td>\n",
              "      <td>1</td>\n",
              "      <td>0</td>\n",
              "      <td>0</td>\n",
              "      <td>2</td>\n",
              "      <td>0</td>\n",
              "      <td>0</td>\n",
              "      <td>9.0</td>\n",
              "      <td>0</td>\n",
              "      <td>2</td>\n",
              "      <td>75.0</td>\n",
              "      <td>0</td>\n",
              "      <td>0</td>\n",
              "      <td>1.0</td>\n",
              "      <td>0</td>\n",
              "      <td>0</td>\n",
              "    </tr>\n",
              "    <tr>\n",
              "      <th>3</th>\n",
              "      <td>1</td>\n",
              "      <td>0</td>\n",
              "      <td>13</td>\n",
              "      <td>0</td>\n",
              "      <td>7</td>\n",
              "      <td>27</td>\n",
              "      <td>1</td>\n",
              "      <td>0</td>\n",
              "      <td>1</td>\n",
              "      <td>0</td>\n",
              "      <td>59</td>\n",
              "      <td>2</td>\n",
              "      <td>3</td>\n",
              "      <td>0</td>\n",
              "      <td>0</td>\n",
              "      <td>0</td>\n",
              "      <td>0</td>\n",
              "      <td>0</td>\n",
              "      <td>304.0</td>\n",
              "      <td>0</td>\n",
              "      <td>2</td>\n",
              "      <td>75.0</td>\n",
              "      <td>0</td>\n",
              "      <td>0</td>\n",
              "      <td>1.0</td>\n",
              "      <td>0</td>\n",
              "      <td>0</td>\n",
              "    </tr>\n",
              "    <tr>\n",
              "      <th>4</th>\n",
              "      <td>1</td>\n",
              "      <td>0</td>\n",
              "      <td>14</td>\n",
              "      <td>0</td>\n",
              "      <td>7</td>\n",
              "      <td>27</td>\n",
              "      <td>1</td>\n",
              "      <td>0</td>\n",
              "      <td>2</td>\n",
              "      <td>0</td>\n",
              "      <td>59</td>\n",
              "      <td>6</td>\n",
              "      <td>3</td>\n",
              "      <td>0</td>\n",
              "      <td>0</td>\n",
              "      <td>0</td>\n",
              "      <td>0</td>\n",
              "      <td>0</td>\n",
              "      <td>240.0</td>\n",
              "      <td>0</td>\n",
              "      <td>2</td>\n",
              "      <td>98.0</td>\n",
              "      <td>0</td>\n",
              "      <td>1</td>\n",
              "      <td>2.0</td>\n",
              "      <td>0</td>\n",
              "      <td>0</td>\n",
              "    </tr>\n",
              "  </tbody>\n",
              "</table>\n",
              "</div>"
            ],
            "text/plain": [
              "   hotel  is_canceled  lead_time  ...  total_guests  net_booking_cancelled  month\n",
              "0      1            0        342  ...           2.0                      0      0\n",
              "1      1            0        737  ...           2.0                      0      0\n",
              "2      1            0          7  ...           1.0                      0      0\n",
              "3      1            0         13  ...           1.0                      0      0\n",
              "4      1            0         14  ...           2.0                      0      0\n",
              "\n",
              "[5 rows x 27 columns]"
            ]
          },
          "metadata": {
            "tags": []
          },
          "execution_count": 10
        }
      ]
    },
    {
      "cell_type": "markdown",
      "metadata": {
        "id": "3gv7QJLkwsIN"
      },
      "source": [
        "### Train-Test Split\n",
        "\n",
        "Before performing train-test split let's check the class distribution."
      ]
    },
    {
      "cell_type": "code",
      "metadata": {
        "id": "YPhv7xg2wsIO",
        "colab": {
          "base_uri": "https://localhost:8080/",
          "height": 279
        },
        "outputId": "a295e8c5-675b-49f8-94c2-dc0366c7dcda"
      },
      "source": [
        "df['is_canceled'].value_counts().plot(kind = 'bar')"
      ],
      "execution_count": 11,
      "outputs": [
        {
          "output_type": "execute_result",
          "data": {
            "text/plain": [
              "<matplotlib.axes._subplots.AxesSubplot at 0x7f03107efd10>"
            ]
          },
          "metadata": {
            "tags": []
          },
          "execution_count": 11
        },
        {
          "output_type": "display_data",
          "data": {
            "image/png": "[encoded data removed]",
            "text/plain": [
              "<Figure size 432x288 with 1 Axes>"
            ]
          },
          "metadata": {
            "tags": [],
            "needs_background": "light"
          }
        }
      ]
    },
    {
      "cell_type": "markdown",
      "metadata": {
        "id": "idp18pfRwsIW"
      },
      "source": [
        "We see that the dataset is imbalanced. This forces us to:\n",
        "- Set `stratify` to `y` while splitting the dataset so that the proportion of `is_canceled = 0`, and `is_canceled = 1` remains constant in the training and test dataset.\n",
        "- Use metric like f1 score to assess the performance of our model"
      ]
    },
    {
      "cell_type": "code",
      "metadata": {
        "id": "ioN2runWwsIX"
      },
      "source": [
        "from sklearn.model_selection import train_test_split\n",
        "\n",
        "\n",
        "RANDOM_STATE = 7\n",
        "y= df['is_canceled']\n",
        "X = df.drop('is_canceled', axis = 1)\n",
        "X_train, X_test, y_train, y_test = train_test_split(X, y, test_size = 0.2, stratify = y, random_state = RANDOM_STATE)"
      ],
      "execution_count": 12,
      "outputs": []
    },
    {
      "cell_type": "markdown",
      "metadata": {
        "id": "-FH86C_ewsId"
      },
      "source": [
        "## Bagging\n",
        "\n",
        "### Exercise 1: Training Bagging Classifier\n",
        "<b><div style=\"text-align: right\">[POINTS: 1]</div></b>\n",
        "\n",
        "---\n",
        "\n",
        "\n",
        "**Task:** \n",
        "-  Instantiate BaggingClassifier in the variable `bagging` with __n_estimators__ set to 100 and  __random_state__ set to RANDOM_STATE"
      ]
    },
    {
      "cell_type": "code",
      "metadata": {
        "id": "v4WnJLOCwsIe",
        "colab": {
          "base_uri": "https://localhost:8080/"
        },
        "outputId": "d9f394b6-9c59-4d9d-964d-84179063020a"
      },
      "source": [
        "from sklearn.ensemble import BaggingClassifier\n",
        "from sklearn.metrics import f1_score\n",
        "\n",
        "\n",
        "bagging = None\n",
        "### BEGIN SOLUTION\n",
        "bagging = BaggingClassifier(n_estimators = 100, random_state = RANDOM_STATE)\n",
        "### END SOLUTION\n",
        "bagging.fit(X_train, y_train)\n",
        "print(\"Train f1_score:\", f1_score(y_train, bagging.predict(X_train), average = 'weighted'))\n",
        "print(\"Test f1_score:\", f1_score(y_test, bagging.predict(X_test), average = 'weighted'))"
      ],
      "execution_count": 13,
      "outputs": [
        {
          "output_type": "stream",
          "text": [
            "Train f1_score: 0.9960933002773003\n",
            "Test f1_score: 0.8899499897070544\n"
          ],
          "name": "stdout"
        }
      ]
    },
    {
      "cell_type": "code",
      "metadata": {
        "id": "pTrHUGX7wsIm"
      },
      "source": [
        "assert bagging is not None\n",
        "### BEGIN HIDDEN TESTS\n",
        "\n",
        "assert bagging.n_estimators == 100, \"Please set the number of estimators to 100\"\n",
        "assert bagging.random_state == RANDOM_STATE, \"Please set the random state to RANDOM_STATE\"\n",
        "\n",
        "### END HIDDEN TESTS"
      ],
      "execution_count": 14,
      "outputs": []
    },
    {
      "cell_type": "markdown",
      "metadata": {
        "id": "7aoaNQUYwsIs"
      },
      "source": [
        "## Random Forest\n",
        "\n",
        "### Exercise 2: Training Random Forest Classifier\n",
        "<b><div style=\"text-align: right\">[POINTS: 1]</div></b>\n",
        "\n",
        "---\n",
        "\n",
        "\n",
        "**Task:** \n",
        "-  Instantiate RandomForestClassifier in the variable `rf` with __n_estimators__ set to 100, and  __random_state__ set to RANDOM_STATE"
      ]
    },
    {
      "cell_type": "code",
      "metadata": {
        "id": "6XDrmqnkwsIt",
        "colab": {
          "base_uri": "https://localhost:8080/"
        },
        "outputId": "4957453a-3f6a-4e4a-dada-d1364d503c1b"
      },
      "source": [
        "from sklearn.ensemble import RandomForestClassifier\n",
        "\n",
        "rf = None\n",
        "### BEGIN SOLUTION\n",
        "rf = RandomForestClassifier(n_estimators = 100, random_state = RANDOM_STATE)\n",
        "### END SOLUTION\n",
        "rf.fit(X_train, y_train)\n",
        "print(\"Train f1_score:\", f1_score(y_train, rf.predict(X_train), average = 'weighted'))\n",
        "print(\"Test f1_score:\", f1_score(y_test, rf.predict(X_test), average = 'weighted'))"
      ],
      "execution_count": 15,
      "outputs": [
        {
          "output_type": "stream",
          "text": [
            "Train f1_score: 0.9961141563536368\n",
            "Test f1_score: 0.8942566123377529\n"
          ],
          "name": "stdout"
        }
      ]
    },
    {
      "cell_type": "code",
      "metadata": {
        "id": "SuRcc3LHwsIy"
      },
      "source": [
        "assert rf is not None\n",
        "### BEGIN HIDDEN TESTS\n",
        "\n",
        "assert rf.n_estimators == 100, \"Please set the number of estimators to 100\"\n",
        "assert rf.random_state == RANDOM_STATE, \"Please set the random state to RANDOM_STATE\"\n",
        "\n",
        "### END HIDDEN TESTS"
      ],
      "execution_count": 16,
      "outputs": []
    },
    {
      "cell_type": "markdown",
      "metadata": {
        "id": "HrCu3Pp-wsI5"
      },
      "source": [
        "## XGBoost\n",
        "\n",
        "### Exercise 3: XGBoost Training\n",
        "<b><div style=\"text-align: right\">[POINTS: 1]</div></b>\n",
        "\n",
        "---\n",
        "Here we will train XGBoost with most of the parameters left to default.\n",
        "\n",
        "**Task:** \n",
        "-  Instantiate XGBClassifier in the variable `xgb` with __n_estimators__ set to 100 and __random_state__ set to RANDOM_STATE\n"
      ]
    },
    {
      "cell_type": "code",
      "metadata": {
        "scrolled": true,
        "id": "JTDajYP9wsI6",
        "colab": {
          "base_uri": "https://localhost:8080/"
        },
        "outputId": "97866b52-c16e-4bb4-aef8-75a9dc407a54"
      },
      "source": [
        "from xgboost import XGBClassifier\n",
        "\n",
        "\n",
        "xgb = None\n",
        "### BEGIN SOLUTION\n",
        "xgb = XGBClassifier(n_estimators = 100, random_state = RANDOM_STATE)\n",
        "### END SOLUTION\n",
        "xgb.fit(X_train, y_train)\n",
        "print(\"XGBClassifer with default parameters:\\n\")\n",
        "print(xgb)"
      ],
      "execution_count": 17,
      "outputs": [
        {
          "output_type": "stream",
          "text": [
            "XGBClassifer with default parameters:\n",
            "\n",
            "XGBClassifier(base_score=0.5, booster='gbtree', colsample_bylevel=1,\n",
            "              colsample_bynode=1, colsample_bytree=1, gamma=0,\n",
            "              learning_rate=0.1, max_delta_step=0, max_depth=3,\n",
            "              min_child_weight=1, missing=None, n_estimators=100, n_jobs=1,\n",
            "              nthread=None, objective='binary:logistic', random_state=7,\n",
            "              reg_alpha=0, reg_lambda=1, scale_pos_weight=1, seed=None,\n",
            "              silent=None, subsample=1, verbosity=1)\n"
          ],
          "name": "stdout"
        }
      ]
    },
    {
      "cell_type": "code",
      "metadata": {
        "id": "co-fgNlBwsI_"
      },
      "source": [
        "assert xgb is not None\n",
        "### BEGIN HIDDEN TESTS\n",
        "\n",
        "assert xgb.n_estimators == 100, \"Please set the number of estimators to 100\"\n",
        "assert xgb.random_state == RANDOM_STATE, \"Please set the random state to RANDOM_STATE\"\n",
        "\n",
        "### END HIDDEN TESTS"
      ],
      "execution_count": 18,
      "outputs": []
    },
    {
      "cell_type": "markdown",
      "metadata": {
        "id": "2MfIlj_wwsJE"
      },
      "source": [
        "### Model Evaluation\n"
      ]
    },
    {
      "cell_type": "code",
      "metadata": {
        "id": "aAU-U1zAwsJF",
        "colab": {
          "base_uri": "https://localhost:8080/"
        },
        "outputId": "3ae4e7a1-9ace-4920-aee8-ef2ca83f3d47"
      },
      "source": [
        "print(\"Train f1_score:\", f1_score(y_train, xgb.predict(X_train), average = 'weighted'))\n",
        "print(\"Test f1_score:\", f1_score(y_test, xgb.predict(X_test), average = 'weighted'))"
      ],
      "execution_count": 19,
      "outputs": [
        {
          "output_type": "stream",
          "text": [
            "Train f1_score: 0.8411529574306595\n",
            "Test f1_score: 0.8421695275032451\n"
          ],
          "name": "stdout"
        }
      ]
    },
    {
      "cell_type": "markdown",
      "metadata": {
        "id": "Cp8cVcgkwsJL"
      },
      "source": [
        "### Tree Visualization\n",
        "\n",
        "### Exercise 4: Plot the tree structure\n",
        "<b><div style=\"text-align: right\">[UNGRADED]</div></b>\n",
        "\n",
        "---\n",
        "Plot the tree structure in the cell below. You can use `plot_tree()` or `to_graphviz()` method provided by xgboost to plot the tree.\n",
        "\n",
        "**Task:** \n",
        "-  Your task is to plot the 20th tree and answer the quiz below.\n",
        "\n"
      ]
    },
    {
      "cell_type": "code",
      "metadata": {
        "scrolled": true,
        "id": "48H5N7r-wsJM",
        "colab": {
          "base_uri": "https://localhost:8080/",
          "height": 447
        },
        "outputId": "2748974c-30a8-491a-dd28-e68a3f7b9b43"
      },
      "source": [
        "from xgboost import plot_tree, to_graphviz\n",
        "\n",
        "\n",
        "# Plot the tree\n",
        "\n",
        "### BEGIN SOLUTION\n",
        "to_graphviz(xgb, num_trees = 19)\n",
        "### END SOLUTION"
      ],
      "execution_count": 20,
      "outputs": [
        {
          "output_type": "execute_result",
          "data": {
            "text/plain": [
              "<graphviz.dot.Digraph at 0x7f030c71ff90>"
            ],
            "image/svg+xml": "<?xml version=\"1.0\" encoding=\"UTF-8\" standalone=\"no\"?>\n<!DOCTYPE svg PUBLIC \"-//W3C//DTD SVG 1.1//EN\"\n \"http://www.w3.org/Graphics/SVG/1.1/DTD/svg11.dtd\">\n<!-- Generated by graphviz version 2.40.1 (20161225.0304)\n -->\n<!-- Title: %3 Pages: 1 -->\n<svg width=\"1516pt\" height=\"305pt\"\n viewBox=\"0.00 0.00 1515.78 305.00\" xmlns=\"http://www.w3.org/2000/svg\" xmlns:xlink=\"http://www.w3.org/1999/xlink\">\n<g id=\"graph0\" class=\"graph\" transform=\"scale(1 1) rotate(0) translate(4 301)\">\n<title>%3</title>\n<polygon fill=\"#ffffff\" stroke=\"transparent\" points=\"-4,4 -4,-301 1511.7843,-301 1511.7843,4 -4,4\"/>\n<!-- 0 -->\n<g id=\"node1\" class=\"node\">\n<title>0</title>\n<ellipse fill=\"none\" stroke=\"#000000\" cx=\"729.3922\" cy=\"-279\" rx=\"59.5901\" ry=\"18\"/>\n<text text-anchor=\"middle\" x=\"729.3922\" y=\"-275.3\" font-family=\"Times,serif\" font-size=\"14.00\" fill=\"#000000\">country&lt;135</text>\n</g>\n<!-- 1 -->\n<g id=\"node2\" class=\"node\">\n<title>1</title>\n<ellipse fill=\"none\" stroke=\"#000000\" cx=\"598.3922\" cy=\"-192\" rx=\"81.7856\" ry=\"18\"/>\n<text text-anchor=\"middle\" x=\"598.3922\" y=\"-188.3\" font-family=\"Times,serif\" font-size=\"14.00\" fill=\"#000000\">market_segment&lt;6</text>\n</g>\n<!-- 0&#45;&gt;1 -->\n<g id=\"edge1\" class=\"edge\">\n<title>0&#45;&gt;1</title>\n<path fill=\"none\" stroke=\"#0000ff\" d=\"M704.4437,-262.4312C684.1276,-248.9388 655.2304,-229.7475 632.73,-214.8045\"/>\n<polygon fill=\"#0000ff\" stroke=\"#0000ff\" points=\"634.4095,-211.7184 624.1429,-209.1016 630.5368,-217.5496 634.4095,-211.7184\"/>\n<text text-anchor=\"middle\" x=\"707.8922\" y=\"-231.8\" font-family=\"Times,serif\" font-size=\"14.00\" fill=\"#000000\">yes, missing</text>\n</g>\n<!-- 2 -->\n<g id=\"node3\" class=\"node\">\n<title>2</title>\n<ellipse fill=\"none\" stroke=\"#000000\" cx=\"908.3922\" cy=\"-192\" rx=\"61.99\" ry=\"18\"/>\n<text text-anchor=\"middle\" x=\"908.3922\" y=\"-188.3\" font-family=\"Times,serif\" font-size=\"14.00\" fill=\"#000000\">lead_time&lt;25</text>\n</g>\n<!-- 0&#45;&gt;2 -->\n<g id=\"edge2\" class=\"edge\">\n<title>0&#45;&gt;2</title>\n<path fill=\"none\" stroke=\"#ff0000\" d=\"M760.9817,-263.6464C790.5787,-249.2613 834.9826,-227.6795 867.3189,-211.963\"/>\n<polygon fill=\"#ff0000\" stroke=\"#ff0000\" points=\"869.0523,-215.012 876.5163,-207.4927 865.9923,-208.7163 869.0523,-215.012\"/>\n<text text-anchor=\"middle\" x=\"838.3922\" y=\"-231.8\" font-family=\"Times,serif\" font-size=\"14.00\" fill=\"#000000\">no</text>\n</g>\n<!-- 3 -->\n<g id=\"node4\" class=\"node\">\n<title>3</title>\n<ellipse fill=\"none\" stroke=\"#000000\" cx=\"278.3922\" cy=\"-105\" rx=\"81.7856\" ry=\"18\"/>\n<text text-anchor=\"middle\" x=\"278.3922\" y=\"-101.3\" font-family=\"Times,serif\" font-size=\"14.00\" fill=\"#000000\">market_segment&lt;4</text>\n</g>\n<!-- 1&#45;&gt;3 -->\n<g id=\"edge3\" class=\"edge\">\n<title>1&#45;&gt;3</title>\n<path fill=\"none\" stroke=\"#0000ff\" d=\"M546.623,-177.9253C490.1551,-162.5731 399.8288,-138.0156 339.8167,-121.6998\"/>\n<polygon fill=\"#0000ff\" stroke=\"#0000ff\" points=\"340.6549,-118.3007 330.0869,-119.0545 338.8184,-125.0555 340.6549,-118.3007\"/>\n<text text-anchor=\"middle\" x=\"493.8922\" y=\"-144.8\" font-family=\"Times,serif\" font-size=\"14.00\" fill=\"#000000\">yes, missing</text>\n</g>\n<!-- 4 -->\n<g id=\"node5\" class=\"node\">\n<title>4</title>\n<ellipse fill=\"none\" stroke=\"#000000\" cx=\"598.3922\" cy=\"-105\" rx=\"114.2798\" ry=\"18\"/>\n<text text-anchor=\"middle\" x=\"598.3922\" y=\"-101.3\" font-family=\"Times,serif\" font-size=\"14.00\" fill=\"#000000\">total_of_special_requests&lt;1</text>\n</g>\n<!-- 1&#45;&gt;4 -->\n<g id=\"edge4\" class=\"edge\">\n<title>1&#45;&gt;4</title>\n<path fill=\"none\" stroke=\"#ff0000\" d=\"M598.3922,-173.9735C598.3922,-162.1918 598.3922,-146.5607 598.3922,-133.1581\"/>\n<polygon fill=\"#ff0000\" stroke=\"#ff0000\" points=\"601.8923,-133.0033 598.3922,-123.0034 594.8923,-133.0034 601.8923,-133.0033\"/>\n<text text-anchor=\"middle\" x=\"606.3922\" y=\"-144.8\" font-family=\"Times,serif\" font-size=\"14.00\" fill=\"#000000\">no</text>\n</g>\n<!-- 5 -->\n<g id=\"node10\" class=\"node\">\n<title>5</title>\n<ellipse fill=\"none\" stroke=\"#000000\" cx=\"908.3922\" cy=\"-105\" rx=\"129.1772\" ry=\"18\"/>\n<text text-anchor=\"middle\" x=\"908.3922\" y=\"-101.3\" font-family=\"Times,serif\" font-size=\"14.00\" fill=\"#000000\">required_car_parking_spaces&lt;1</text>\n</g>\n<!-- 2&#45;&gt;5 -->\n<g id=\"edge9\" class=\"edge\">\n<title>2&#45;&gt;5</title>\n<path fill=\"none\" stroke=\"#0000ff\" d=\"M908.3922,-173.9735C908.3922,-162.1918 908.3922,-146.5607 908.3922,-133.1581\"/>\n<polygon fill=\"#0000ff\" stroke=\"#0000ff\" points=\"911.8923,-133.0033 908.3922,-123.0034 904.8923,-133.0034 911.8923,-133.0033\"/>\n<text text-anchor=\"middle\" x=\"943.8922\" y=\"-144.8\" font-family=\"Times,serif\" font-size=\"14.00\" fill=\"#000000\">yes, missing</text>\n</g>\n<!-- 6 -->\n<g id=\"node11\" class=\"node\">\n<title>6</title>\n<ellipse fill=\"none\" stroke=\"#000000\" cx=\"1227.3922\" cy=\"-105\" rx=\"59.5901\" ry=\"18\"/>\n<text text-anchor=\"middle\" x=\"1227.3922\" y=\"-101.3\" font-family=\"Times,serif\" font-size=\"14.00\" fill=\"#000000\">country&lt;139</text>\n</g>\n<!-- 2&#45;&gt;6 -->\n<g id=\"edge10\" class=\"edge\">\n<title>2&#45;&gt;6</title>\n<path fill=\"none\" stroke=\"#ff0000\" d=\"M953.7583,-179.6274C1011.521,-163.874 1111.222,-136.6828 1173.0015,-119.8338\"/>\n<polygon fill=\"#ff0000\" stroke=\"#ff0000\" points=\"1174.2263,-123.1277 1182.953,-117.1198 1172.3844,-116.3743 1174.2263,-123.1277\"/>\n<text text-anchor=\"middle\" x=\"1095.3922\" y=\"-144.8\" font-family=\"Times,serif\" font-size=\"14.00\" fill=\"#000000\">no</text>\n</g>\n<!-- 7 -->\n<g id=\"node6\" class=\"node\">\n<title>7</title>\n<ellipse fill=\"none\" stroke=\"#000000\" cx=\"88.3922\" cy=\"-18\" rx=\"88.2844\" ry=\"18\"/>\n<text text-anchor=\"middle\" x=\"88.3922\" y=\"-14.3\" font-family=\"Times,serif\" font-size=\"14.00\" fill=\"#000000\">leaf=&#45;0.0696895644</text>\n</g>\n<!-- 3&#45;&gt;7 -->\n<g id=\"edge5\" class=\"edge\">\n<title>3&#45;&gt;7</title>\n<path fill=\"none\" stroke=\"#0000ff\" d=\"M242.6546,-88.636C211.9332,-74.5688 167.445,-54.1979 134.1305,-38.9433\"/>\n<polygon fill=\"#0000ff\" stroke=\"#0000ff\" points=\"135.1648,-35.5675 124.6154,-34.5865 132.2505,-41.932 135.1648,-35.5675\"/>\n<text text-anchor=\"middle\" x=\"230.8922\" y=\"-57.8\" font-family=\"Times,serif\" font-size=\"14.00\" fill=\"#000000\">yes, missing</text>\n</g>\n<!-- 8 -->\n<g id=\"node7\" class=\"node\">\n<title>8</title>\n<ellipse fill=\"none\" stroke=\"#000000\" cx=\"278.3922\" cy=\"-18\" rx=\"83.3857\" ry=\"18\"/>\n<text text-anchor=\"middle\" x=\"278.3922\" y=\"-14.3\" font-family=\"Times,serif\" font-size=\"14.00\" fill=\"#000000\">leaf=&#45;0.121095099</text>\n</g>\n<!-- 3&#45;&gt;8 -->\n<g id=\"edge6\" class=\"edge\">\n<title>3&#45;&gt;8</title>\n<path fill=\"none\" stroke=\"#ff0000\" d=\"M278.3922,-86.9735C278.3922,-75.1918 278.3922,-59.5607 278.3922,-46.1581\"/>\n<polygon fill=\"#ff0000\" stroke=\"#ff0000\" points=\"281.8923,-46.0033 278.3922,-36.0034 274.8923,-46.0034 281.8923,-46.0033\"/>\n<text text-anchor=\"middle\" x=\"286.3922\" y=\"-57.8\" font-family=\"Times,serif\" font-size=\"14.00\" fill=\"#000000\">no</text>\n</g>\n<!-- 9 -->\n<g id=\"node8\" class=\"node\">\n<title>9</title>\n<ellipse fill=\"none\" stroke=\"#000000\" cx=\"464.3922\" cy=\"-18\" rx=\"85.2851\" ry=\"18\"/>\n<text text-anchor=\"middle\" x=\"464.3922\" y=\"-14.3\" font-family=\"Times,serif\" font-size=\"14.00\" fill=\"#000000\">leaf=0.0574659519</text>\n</g>\n<!-- 4&#45;&gt;9 -->\n<g id=\"edge7\" class=\"edge\">\n<title>4&#45;&gt;9</title>\n<path fill=\"none\" stroke=\"#0000ff\" d=\"M571.2753,-87.3943C550.6163,-73.9813 522.0031,-55.4042 499.5805,-40.8461\"/>\n<polygon fill=\"#0000ff\" stroke=\"#0000ff\" points=\"501.3047,-37.7926 491.0114,-35.2827 497.4928,-43.6637 501.3047,-37.7926\"/>\n<text text-anchor=\"middle\" x=\"575.8922\" y=\"-57.8\" font-family=\"Times,serif\" font-size=\"14.00\" fill=\"#000000\">yes, missing</text>\n</g>\n<!-- 10 -->\n<g id=\"node9\" class=\"node\">\n<title>10</title>\n<ellipse fill=\"none\" stroke=\"#000000\" cx=\"656.3922\" cy=\"-18\" rx=\"88.2844\" ry=\"18\"/>\n<text text-anchor=\"middle\" x=\"656.3922\" y=\"-14.3\" font-family=\"Times,serif\" font-size=\"14.00\" fill=\"#000000\">leaf=&#45;0.0346354321</text>\n</g>\n<!-- 4&#45;&gt;10 -->\n<g id=\"edge8\" class=\"edge\">\n<title>4&#45;&gt;10</title>\n<path fill=\"none\" stroke=\"#ff0000\" d=\"M610.4098,-86.9735C618.5754,-74.7252 629.5145,-58.3165 638.6745,-44.5766\"/>\n<polygon fill=\"#ff0000\" stroke=\"#ff0000\" points=\"641.7551,-46.2653 644.3899,-36.0034 635.9307,-42.3824 641.7551,-46.2653\"/>\n<text text-anchor=\"middle\" x=\"639.3922\" y=\"-57.8\" font-family=\"Times,serif\" font-size=\"14.00\" fill=\"#000000\">no</text>\n</g>\n<!-- 11 -->\n<g id=\"node12\" class=\"node\">\n<title>11</title>\n<ellipse fill=\"none\" stroke=\"#000000\" cx=\"851.3922\" cy=\"-18\" rx=\"88.2844\" ry=\"18\"/>\n<text text-anchor=\"middle\" x=\"851.3922\" y=\"-14.3\" font-family=\"Times,serif\" font-size=\"14.00\" fill=\"#000000\">leaf=&#45;0.0259839185</text>\n</g>\n<!-- 5&#45;&gt;11 -->\n<g id=\"edge11\" class=\"edge\">\n<title>5&#45;&gt;11</title>\n<path fill=\"none\" stroke=\"#0000ff\" d=\"M896.5817,-86.9735C888.5569,-74.7252 877.8064,-58.3165 868.8044,-44.5766\"/>\n<polygon fill=\"#0000ff\" stroke=\"#0000ff\" points=\"871.5954,-42.4499 863.1875,-36.0034 865.7402,-46.2861 871.5954,-42.4499\"/>\n<text text-anchor=\"middle\" x=\"918.8922\" y=\"-57.8\" font-family=\"Times,serif\" font-size=\"14.00\" fill=\"#000000\">yes, missing</text>\n</g>\n<!-- 12 -->\n<g id=\"node13\" class=\"node\">\n<title>12</title>\n<ellipse fill=\"none\" stroke=\"#000000\" cx=\"1041.3922\" cy=\"-18\" rx=\"83.3857\" ry=\"18\"/>\n<text text-anchor=\"middle\" x=\"1041.3922\" y=\"-14.3\" font-family=\"Times,serif\" font-size=\"14.00\" fill=\"#000000\">leaf=&#45;0.118282638</text>\n</g>\n<!-- 5&#45;&gt;12 -->\n<g id=\"edge12\" class=\"edge\">\n<title>5&#45;&gt;12</title>\n<path fill=\"none\" stroke=\"#ff0000\" d=\"M935.6276,-87.1843C956.1577,-73.7548 984.4666,-55.237 1006.6305,-40.7388\"/>\n<polygon fill=\"#ff0000\" stroke=\"#ff0000\" points=\"1008.6469,-43.6022 1015.0995,-35.199 1004.8149,-37.7442 1008.6469,-43.6022\"/>\n<text text-anchor=\"middle\" x=\"991.3922\" y=\"-57.8\" font-family=\"Times,serif\" font-size=\"14.00\" fill=\"#000000\">no</text>\n</g>\n<!-- 13 -->\n<g id=\"node14\" class=\"node\">\n<title>13</title>\n<ellipse fill=\"none\" stroke=\"#000000\" cx=\"1227.3922\" cy=\"-18\" rx=\"85.2851\" ry=\"18\"/>\n<text text-anchor=\"middle\" x=\"1227.3922\" y=\"-14.3\" font-family=\"Times,serif\" font-size=\"14.00\" fill=\"#000000\">leaf=0.0639239252</text>\n</g>\n<!-- 6&#45;&gt;13 -->\n<g id=\"edge13\" class=\"edge\">\n<title>6&#45;&gt;13</title>\n<path fill=\"none\" stroke=\"#0000ff\" d=\"M1227.3922,-86.9735C1227.3922,-75.1918 1227.3922,-59.5607 1227.3922,-46.1581\"/>\n<polygon fill=\"#0000ff\" stroke=\"#0000ff\" points=\"1230.8923,-46.0033 1227.3922,-36.0034 1223.8923,-46.0034 1230.8923,-46.0033\"/>\n<text text-anchor=\"middle\" x=\"1262.8922\" y=\"-57.8\" font-family=\"Times,serif\" font-size=\"14.00\" fill=\"#000000\">yes, missing</text>\n</g>\n<!-- 14 -->\n<g id=\"node15\" class=\"node\">\n<title>14</title>\n<ellipse fill=\"none\" stroke=\"#000000\" cx=\"1419.3922\" cy=\"-18\" rx=\"88.2844\" ry=\"18\"/>\n<text text-anchor=\"middle\" x=\"1419.3922\" y=\"-14.3\" font-family=\"Times,serif\" font-size=\"14.00\" fill=\"#000000\">leaf=&#45;0.0461945944</text>\n</g>\n<!-- 6&#45;&gt;14 -->\n<g id=\"edge14\" class=\"edge\">\n<title>6&#45;&gt;14</title>\n<path fill=\"none\" stroke=\"#ff0000\" d=\"M1260.836,-89.8458C1292.0658,-75.6948 1338.9395,-54.4551 1373.6289,-38.7365\"/>\n<polygon fill=\"#ff0000\" stroke=\"#ff0000\" points=\"1375.4029,-41.7753 1383.0668,-34.4599 1372.5137,-35.3993 1375.4029,-41.7753\"/>\n<text text-anchor=\"middle\" x=\"1342.3922\" y=\"-57.8\" font-family=\"Times,serif\" font-size=\"14.00\" fill=\"#000000\">no</text>\n</g>\n</g>\n</svg>\n"
          },
          "metadata": {
            "tags": []
          },
          "execution_count": 20
        }
      ]
    },
    {
      "cell_type": "markdown",
      "metadata": {
        "id": "k8q56l8mwsJT"
      },
      "source": [
        "#### Q1: Based on the tree plotted above, which of the following feature is a root node in the 20th tree?\n",
        "<b><div style=\"text-align: right\">[UNGRADED]</div></b>\n",
        "\n",
        "---\n",
        "Choose from the drop box below."
      ]
    },
    {
      "cell_type": "code",
      "metadata": {
        "id": "iRdTM9nUwsJV",
        "colab": {
          "base_uri": "https://localhost:8080/"
        },
        "outputId": "3a08bdce-f195-4546-bdeb-6ec64cd0dafd"
      },
      "source": [
        "### RUN THIS CELL TO ANSWER\n",
        "%run plot_tree_quiz.py"
      ],
      "execution_count": 21,
      "outputs": [
        {
          "output_type": "stream",
          "text": [
            "ERROR:root:File `'plot_tree_quiz.py'` not found.\n"
          ],
          "name": "stderr"
        }
      ]
    },
    {
      "cell_type": "code",
      "metadata": {
        "id": "_e2b1h8JwsJb",
        "colab": {
          "base_uri": "https://localhost:8080/",
          "height": 233
        },
        "outputId": "3a445537-6963-4d12-cb22-6a98113f1f48"
      },
      "source": [
        "assert(plot_tree_quiz.value != None)\n",
        "# Points allocated : 1\n",
        "### BEGIN HIDDEN TESTS\n",
        "assert(plot_tree_quiz.value == 'required_car_parking_spaces')\n",
        "### END HIDDEN TESTS"
      ],
      "execution_count": 22,
      "outputs": [
        {
          "output_type": "error",
          "ename": "NameError",
          "evalue": "ignored",
          "traceback": [
            "\u001b[0;31m---------------------------------------------------------------------------\u001b[0m",
            "\u001b[0;31mNameError\u001b[0m                                 Traceback (most recent call last)",
            "\u001b[0;32m<ipython-input-22-5d3943bf4c2c>\u001b[0m in \u001b[0;36m<module>\u001b[0;34m()\u001b[0m\n\u001b[0;32m----> 1\u001b[0;31m \u001b[0;32massert\u001b[0m\u001b[0;34m(\u001b[0m\u001b[0mplot_tree_quiz\u001b[0m\u001b[0;34m.\u001b[0m\u001b[0mvalue\u001b[0m \u001b[0;34m!=\u001b[0m \u001b[0;32mNone\u001b[0m\u001b[0;34m)\u001b[0m\u001b[0;34m\u001b[0m\u001b[0;34m\u001b[0m\u001b[0m\n\u001b[0m\u001b[1;32m      2\u001b[0m \u001b[0;31m# Points allocated : 1\u001b[0m\u001b[0;34m\u001b[0m\u001b[0;34m\u001b[0m\u001b[0;34m\u001b[0m\u001b[0m\n\u001b[1;32m      3\u001b[0m \u001b[0;31m### BEGIN HIDDEN TESTS\u001b[0m\u001b[0;34m\u001b[0m\u001b[0;34m\u001b[0m\u001b[0;34m\u001b[0m\u001b[0m\n\u001b[1;32m      4\u001b[0m \u001b[0;32massert\u001b[0m\u001b[0;34m(\u001b[0m\u001b[0mplot_tree_quiz\u001b[0m\u001b[0;34m.\u001b[0m\u001b[0mvalue\u001b[0m \u001b[0;34m==\u001b[0m \u001b[0;34m'required_car_parking_spaces'\u001b[0m\u001b[0;34m)\u001b[0m\u001b[0;34m\u001b[0m\u001b[0;34m\u001b[0m\u001b[0m\n\u001b[1;32m      5\u001b[0m \u001b[0;31m### END HIDDEN TESTS\u001b[0m\u001b[0;34m\u001b[0m\u001b[0;34m\u001b[0m\u001b[0;34m\u001b[0m\u001b[0m\n",
            "\u001b[0;31mNameError\u001b[0m: name 'plot_tree_quiz' is not defined"
          ]
        }
      ]
    },
    {
      "cell_type": "markdown",
      "metadata": {
        "id": "C0bjxiIhwsJg"
      },
      "source": [
        "### Feature importance\n",
        "\n",
        "### Exercise 5: Plot the feature importance\n",
        "<b><div style=\"text-align: right\">[UNGRADED]</div></b>\n",
        "\n",
        "---\n",
        "XGBoost provides the `feature_importance()` method to plot the importance of each feature. Based on the feature_importance plot, you need to answer the quiz below.\n",
        "\n",
        "**Task:** \n",
        "-  Plot the feature importance of the model `xgb`.\n",
        "\n"
      ]
    },
    {
      "cell_type": "code",
      "metadata": {
        "scrolled": false,
        "id": "Ed50WkR6wsJi",
        "colab": {
          "base_uri": "https://localhost:8080/",
          "height": 910
        },
        "outputId": "5bef965c-ea64-499e-9714-f351e0a7247a"
      },
      "source": [
        "from xgboost import plot_importance\n",
        "fig, ax = plt.subplots(figsize=(10,6), dpi=200)\n",
        "None # plot_importance(.....)\n",
        "### BEGIN SOLUTION\n",
        "plot_importance(xgb, ax = ax, importance_type = 'gain')\n",
        "### END SOLUTION\n",
        "plt.show()"
      ],
      "execution_count": 24,
      "outputs": [
        {
          "output_type": "display_data",
          "data": {
            "image/png": "[encoded data removed]",
            "text/plain": [
              "<Figure size 2000x1200 with 1 Axes>"
            ]
          },
          "metadata": {
            "tags": [],
            "needs_background": "light"
          }
        }
      ]
    },
    {
      "cell_type": "markdown",
      "metadata": {
        "id": "bf1yeatOwsJm"
      },
      "source": [
        "#### Q2: Based on the gain, which of the following is the most important feature?\n",
        "#### <a>deposit_type is the most important feature</a>\n",
        "<b><div style=\"text-align: right\">[UNGRADED]</div></b>\n",
        "\n",
        "---\n",
        "Choose from the drop box below."
      ]
    },
    {
      "cell_type": "code",
      "metadata": {
        "id": "nAoa3RF8F0L6"
      },
      "source": [
        ""
      ],
      "execution_count": null,
      "outputs": []
    },
    {
      "cell_type": "code",
      "metadata": {
        "id": "9FsVeR4uwsJr"
      },
      "source": [
        "### RUN THIS CELL TO ANSWER\n",
        "%run plot_importance_quiz.py"
      ],
      "execution_count": null,
      "outputs": []
    },
    {
      "cell_type": "code",
      "metadata": {
        "id": "MZ9XNIl7wsJ0",
        "colab": {
          "base_uri": "https://localhost:8080/",
          "height": 216
        },
        "outputId": "90dc84a5-0614-4cdc-a352-9049eb504b30"
      },
      "source": [
        "assert(plot_importance_quiz.value != None)\n",
        "# Points allocated: 1\n",
        "### BEGIN HIDDEN TESTS\n",
        "assert(plot_importance_quiz.value == 'deposit_type')\n",
        "### END HIDDEN TESTS"
      ],
      "execution_count": 26,
      "outputs": [
        {
          "output_type": "error",
          "ename": "NameError",
          "evalue": "ignored",
          "traceback": [
            "\u001b[0;31m---------------------------------------------------------------------------\u001b[0m",
            "\u001b[0;31mNameError\u001b[0m                                 Traceback (most recent call last)",
            "\u001b[0;32m<ipython-input-26-00818465edac>\u001b[0m in \u001b[0;36m<module>\u001b[0;34m()\u001b[0m\n\u001b[1;32m      2\u001b[0m \u001b[0;31m# Points allocated: 1\u001b[0m\u001b[0;34m\u001b[0m\u001b[0;34m\u001b[0m\u001b[0;34m\u001b[0m\u001b[0m\n\u001b[1;32m      3\u001b[0m \u001b[0;31m### BEGIN HIDDEN TESTS\u001b[0m\u001b[0;34m\u001b[0m\u001b[0;34m\u001b[0m\u001b[0;34m\u001b[0m\u001b[0m\n\u001b[0;32m----> 4\u001b[0;31m \u001b[0;32massert\u001b[0m\u001b[0;34m(\u001b[0m\u001b[0mplot_importance_quiz\u001b[0m\u001b[0;34m.\u001b[0m\u001b[0mvalue\u001b[0m \u001b[0;34m==\u001b[0m \u001b[0;34m'deposit_type'\u001b[0m\u001b[0;34m)\u001b[0m\u001b[0;34m\u001b[0m\u001b[0;34m\u001b[0m\u001b[0m\n\u001b[0m\u001b[1;32m      5\u001b[0m \u001b[0;31m### END HIDDEN TESTS\u001b[0m\u001b[0;34m\u001b[0m\u001b[0;34m\u001b[0m\u001b[0;34m\u001b[0m\u001b[0m\n",
            "\u001b[0;31mNameError\u001b[0m: name 'plot_importance_quiz' is not defined"
          ]
        }
      ]
    },
    {
      "cell_type": "markdown",
      "metadata": {
        "id": "r4jBHfvEwsJ5"
      },
      "source": [
        "### Parallelization\n",
        "\n",
        "### Exercise 6: Multithreading\n",
        "<b><div style=\"text-align: right\">[UNGRADED]</div></b>\n",
        "\n",
        "---\n",
        "As already discussed in the theoretical part, XGBoost is known for parallelization and distributed computing. Here we are going to instantiate XGBoost with its support for multithreading. You can refer to the documentation of XGBoost on how to set the number of threads to the number of cores.\n",
        "\n",
        "**Task:**  \n",
        "- Instantiate a XGBClassifier() to variable `model` with __random_state__ set to RANDOM_STATE and set the number of threads to number of cores.\n",
        "\n"
      ]
    },
    {
      "cell_type": "code",
      "metadata": {
        "id": "4fxzfOVawsJ6"
      },
      "source": [
        "model = None\n",
        "### BEGIN SOLUTION\n",
        "model = XGBClassifier(random_state = RANDOM_STATE, n_jobs = 4)\n",
        "### END SOLUTION"
      ],
      "execution_count": 30,
      "outputs": []
    },
    {
      "cell_type": "code",
      "metadata": {
        "scrolled": true,
        "id": "9ApKHxgqwsKA"
      },
      "source": [
        "### INTENTIONALLY LEFT BLANK\n",
        "### BEGIN HIDDEN TESTS\n",
        "assert model.n_jobs == 4, \"Set the number of threads to number of cores.\"\n",
        "### END HIDDEN TESTS"
      ],
      "execution_count": 31,
      "outputs": []
    },
    {
      "cell_type": "markdown",
      "metadata": {
        "id": "UPh-UJB7wsKF"
      },
      "source": [
        "### Performance Monitoring and learning curve\n",
        "\n",
        "For performance monitoring, we define a function `learning_curve()` which plots the log loss for each boosting iteration for training and validation dataset. \n",
        "\n",
        "Note: Here, test data is used for validation, but it is good practice to have a separate validation set."
      ]
    },
    {
      "cell_type": "code",
      "metadata": {
        "scrolled": false,
        "id": "pKJo8Fk3wsKF"
      },
      "source": [
        "def learning_curve(model, X_train, y_train, X_test, y_test):\n",
        "    \"\"\"\n",
        "    A function to plot the learning curve.\n",
        "    \n",
        "    Paramters:\n",
        "    ---------\n",
        "    model: object\n",
        "           An object instantiated with XGBoost classifier\n",
        "    X_train: array like\n",
        "             Training features\n",
        "    y_train: array like\n",
        "             Training labels\n",
        "    X_test: array like\n",
        "            Validation features\n",
        "    y_test: array like\n",
        "            Validation labels\n",
        "            \n",
        "    Returns:\n",
        "    --------\n",
        "    None\n",
        "    \n",
        "            \n",
        "    \"\"\"\n",
        "    eval_set = [(X_train, y_train),(X_test, y_test)]\n",
        "    model.fit(X_train, y_train, eval_metric = [\"logloss\"], eval_set = eval_set, verbose = False)\n",
        "    print(\"F1 Score Train: \",f1_score(y_train, model.predict(X_train), average = 'weighted'))\n",
        "    print(\"F1 Score Test: \",f1_score(y_test, model.predict(X_test), average = 'weighted'))\n",
        "    results = model.evals_result()\n",
        "    num_tree = len(results['validation_0']['logloss'])\n",
        "    plt.figure(figsize = (8,8))\n",
        "    plt.plot(range(0, num_tree), results['validation_0']['logloss'], label = 'Training')\n",
        "    plt.plot(range(0, num_tree), results['validation_1']['logloss'], label = 'Validation')\n",
        "    plt.legend()\n",
        "    plt.xlabel(\"Number of trees\")\n",
        "    plt.ylabel(\"Log loss\")\n",
        "    plt.title(\"Learning Curve\")\n",
        "    plt.show()\n",
        "\n"
      ],
      "execution_count": 32,
      "outputs": []
    },
    {
      "cell_type": "markdown",
      "metadata": {
        "id": "C56MY88twsKI"
      },
      "source": [
        "### Exercise 7: Learning Curve\n",
        "<b><div style=\"text-align: right\">[UNGRADED]</div></b>\n",
        "\n",
        "---\n",
        "A function `learning_curve()` is defined above. Use this function to plot the learning curve for the training and validation dataset. Here we will be using the test set for validation.\n",
        "**Task:**  \n",
        "- Instantiate a XGBClassifier() to variable `model` with __n_estimators__ set to 100 , __max_depth__ set to 4, and __random_state__ set to RANDOM_STATE.\n",
        "-  Use the function `learning_curve()` to plot the learning curve of the model `xgb`. We have already instantiated `xgb` a few cells back.\n"
      ]
    },
    {
      "cell_type": "code",
      "metadata": {
        "id": "7aq5FtPYwsKJ",
        "colab": {
          "base_uri": "https://localhost:8080/",
          "height": 547
        },
        "outputId": "1338571f-4270-4ebf-993c-2b12efc0e96b"
      },
      "source": [
        "model = None\n",
        "# Plot learning curve\n",
        "### BEGIN SOLUTION\n",
        "model = XGBClassifier(n_estimators = 100, max_depth =4, random_state = RANDOM_STATE)\n",
        "learning_curve(model, X_train, y_train, X_test, y_test)  \n",
        "### END SOLUTION"
      ],
      "execution_count": 33,
      "outputs": [
        {
          "output_type": "stream",
          "text": [
            "F1 Score Train:  0.853309518654799\n",
            "F1 Score Test:  0.8530636224442819\n"
          ],
          "name": "stdout"
        },
        {
          "output_type": "display_data",
          "data": {
            "image/png": "[encoded data removed]",
            "text/plain": [
              "<Figure size 576x576 with 1 Axes>"
            ]
          },
          "metadata": {
            "tags": [],
            "needs_background": "light"
          }
        }
      ]
    },
    {
      "cell_type": "markdown",
      "metadata": {
        "id": "inOMafAZwsKM"
      },
      "source": [
        "#### Q3: Recalling evaluation results of random forest trained few cells above and analyzing the above learning curve shows that our xgboost model is  ____?\n",
        "<b><div style=\"text-align: right\">[UNGRADED]</div></b>\n",
        "\n",
        "---\n",
        "Choose from the drop box below."
      ]
    },
    {
      "cell_type": "code",
      "metadata": {
        "id": "EqvwXBIpwsKN",
        "colab": {
          "base_uri": "https://localhost:8080/"
        },
        "outputId": "2a005861-eda2-4bc5-cf37-f4877d9c9672"
      },
      "source": [
        "### RUN THIS CELL TO ANSWER\n",
        "%run is_overfitted.py"
      ],
      "execution_count": 35,
      "outputs": [
        {
          "output_type": "stream",
          "text": [
            "ERROR:root:File `'is_overfitted.py'` not found.\n"
          ],
          "name": "stderr"
        }
      ]
    },
    {
      "cell_type": "code",
      "metadata": {
        "id": "Us8XpqEtwsKT",
        "colab": {
          "base_uri": "https://localhost:8080/",
          "height": 216
        },
        "outputId": "9f765f50-4112-4996-e742-43ea260e18b1"
      },
      "source": [
        "assert(is_overfitted.value != None)\n",
        "### BEGIN HIDDEN TESTS\n",
        "assert(is_overfitted.value == 'underfitted')\n",
        "### END HIDDEN TESTS"
      ],
      "execution_count": 36,
      "outputs": [
        {
          "output_type": "error",
          "ename": "NameError",
          "evalue": "ignored",
          "traceback": [
            "\u001b[0;31m---------------------------------------------------------------------------\u001b[0m",
            "\u001b[0;31mNameError\u001b[0m                                 Traceback (most recent call last)",
            "\u001b[0;32m<ipython-input-36-8c425e352d82>\u001b[0m in \u001b[0;36m<module>\u001b[0;34m()\u001b[0m\n\u001b[0;32m----> 1\u001b[0;31m \u001b[0;32massert\u001b[0m\u001b[0;34m(\u001b[0m\u001b[0mis_overfitted\u001b[0m\u001b[0;34m.\u001b[0m\u001b[0mvalue\u001b[0m \u001b[0;34m!=\u001b[0m \u001b[0;32mNone\u001b[0m\u001b[0;34m)\u001b[0m\u001b[0;34m\u001b[0m\u001b[0;34m\u001b[0m\u001b[0m\n\u001b[0m\u001b[1;32m      2\u001b[0m \u001b[0;31m### BEGIN HIDDEN TESTS\u001b[0m\u001b[0;34m\u001b[0m\u001b[0;34m\u001b[0m\u001b[0;34m\u001b[0m\u001b[0m\n\u001b[1;32m      3\u001b[0m \u001b[0;32massert\u001b[0m\u001b[0;34m(\u001b[0m\u001b[0mis_overfitted\u001b[0m\u001b[0;34m.\u001b[0m\u001b[0mvalue\u001b[0m \u001b[0;34m==\u001b[0m \u001b[0;34m'underfitted'\u001b[0m\u001b[0;34m)\u001b[0m\u001b[0;34m\u001b[0m\u001b[0;34m\u001b[0m\u001b[0m\n\u001b[1;32m      4\u001b[0m \u001b[0;31m### END HIDDEN TESTS\u001b[0m\u001b[0;34m\u001b[0m\u001b[0;34m\u001b[0m\u001b[0;34m\u001b[0m\u001b[0m\n",
            "\u001b[0;31mNameError\u001b[0m: name 'is_overfitted' is not defined"
          ]
        }
      ]
    },
    {
      "cell_type": "code",
      "metadata": {
        "colab": {
          "base_uri": "https://localhost:8080/"
        },
        "id": "GNbXF8aQHSqw",
        "outputId": "d6d7de28-55e3-4acb-e2e9-93ad43362e52"
      },
      "source": [
        "print(\"The model is --> underfitted\")"
      ],
      "execution_count": 37,
      "outputs": [
        {
          "output_type": "stream",
          "text": [
            "The model is --> underfitted\n"
          ],
          "name": "stdout"
        }
      ]
    },
    {
      "cell_type": "markdown",
      "metadata": {
        "id": "bfLb4QKawsKX"
      },
      "source": [
        "### Exercise 8: Improving performance\n",
        "<b><div style=\"text-align: right\">[POINTS: 1]</div></b>\n",
        "\n",
        "---\n",
        "Based on your answer, if the model is overfitted, under fitted, or optimally fitted, you need to perform a few experiments and improve its performance. The test f1-score of the model should be above 89.00%\n",
        "\n",
        "Hint: If the model is overfitted, you can perform shrinkage, reduce the depth of the tree, apply regularization, etc. Similarly, if the model is under fitted, you can increase the number of iterations and the tree depth.\n",
        "\n",
        "**Task:**  \n",
        "- Instantiate a XGBClassifier() to variable `model` with the parameters you think are suitable for improving performance.\n",
        "- Note: The test f1 score of your model should be equal or above 0.8900 to get the marks.\n"
      ]
    },
    {
      "cell_type": "code",
      "metadata": {
        "id": "-hgayJeYwsKY",
        "colab": {
          "base_uri": "https://localhost:8080/"
        },
        "outputId": "fad02536-bd27-4da1-857b-feb1c67ae937"
      },
      "source": [
        "model = None\n",
        "### BEGIN SOLUTION\n",
        "# xgb = XGBClassifier(n_estimators = 400, n_jobs = -1, max_depth = 15, gamma = 0.1, min_child_weight = 5, random_state = RANDOM_STATE)\n",
        "model = XGBClassifier(n_estimators = 400, n_jobs = 3, max_depth = 25, random_state = RANDOM_STATE)\n",
        "### END SOLUTION\n",
        "model.fit(X_train, y_train)\n",
        "#pickle.dump(model, open(\"model.pickle.dat\", \"wb\"))\n",
        "\n",
        "print(\"Train f1_score:\", f1_score(y_train, model.predict(X_train), average = 'weighted'))\n",
        "print(\"Test f1_score:\", f1_score(y_test, model.predict(X_test), average = 'weighted'))"
      ],
      "execution_count": 41,
      "outputs": [
        {
          "output_type": "stream",
          "text": [
            "Train f1_score: 0.9961037396528934\n",
            "Test f1_score: 0.8968545771705455\n"
          ],
          "name": "stdout"
        }
      ]
    },
    {
      "cell_type": "code",
      "metadata": {
        "id": "KK6gIaq9wsKc"
      },
      "source": [
        "### INTENTIONALLY LEFT BLANK\n",
        "### BEGIN HIDDEN TESTS\n",
        "# model = pickle.load(open(\"model.pickle.dat\", \"rb\"))\n",
        "f1_score_hidden = f1_score(y_test, model.predict(X_test), average = 'weighted')\n",
        "assert f1_score_hidden >= 0.89, \"F1-score on test set is below 0.8900\"\n",
        "### END HIDDEN TESTS"
      ],
      "execution_count": 43,
      "outputs": []
    },
    {
      "cell_type": "markdown",
      "metadata": {
        "id": "2EPPp2jWwsKg"
      },
      "source": [
        "### Model Tuning\n",
        "\n",
        "A function `tuning_curve()` is defined, which tunes the xgboost . Here `param_name` is the name of the parameter, and `param_range` is the corresponding range of the parameter's value. This function plot the log loss for different value of these parameters. The plot has a vertical line with a central dot corresponding to each value of the parameter.  The vertical length represents the standard deviation of log loss for three cross-fold validation. Similarly, the central dot represents the mean log loss for three cross-fold validation."
      ]
    },
    {
      "cell_type": "code",
      "metadata": {
        "id": "eg_vu2BBwsKg"
      },
      "source": [
        "from sklearn.model_selection import cross_validate\n",
        "from sklearn.model_selection import StratifiedKFold\n",
        "\n",
        "\n",
        "def tuning_curve(param_name, param_range):\n",
        "    \"\"\"\n",
        "    A function to perform hyperparameter tuning.\n",
        "    \n",
        "    A 3 fold stratified cross validation is performed for each value of parameter.\n",
        "    \n",
        "    \n",
        "    Parameters:\n",
        "    ----------\n",
        "    param_name: str\n",
        "                Name of the parameter on which to perform hyperparamter tuning.\n",
        "    param_range: list\n",
        "                 Range of parameter to perform grid search\n",
        "                 \n",
        "    Returns:\n",
        "    -------\n",
        "    None\n",
        "    \"\"\"\n",
        "    mean = []\n",
        "    std = []\n",
        "    for n in param_range:\n",
        "        arg = dict()\n",
        "        arg[param_name] = n\n",
        "        model = XGBClassifier(random_state = RANDOM_STATE,n_jobs = -1,  **arg)\n",
        "        skfold = StratifiedKFold(n_splits=3, shuffle=True, random_state=RANDOM_STATE)\n",
        "        scores = cross_validate(model, X_train, y_train, scoring = ['neg_log_loss'], cv = skfold)\n",
        "        mean_temp = np.abs(scores['test_neg_log_loss']).mean()\n",
        "        mean.append(mean_temp)\n",
        "        std_temp = np.abs(scores['test_neg_log_loss']).std()/2.0\n",
        "        std.append(std_temp)\n",
        "    plt.errorbar(param_range, mean, std, fmt = 'o') \n",
        "    plt.xlabel(\"{}\".format(param_name))\n",
        "    plt.ylabel(\"{}\".format(\"Log loss\"))\n",
        "    plt.title(\"Cross Validation Score\")\n",
        "    plt.show()\n",
        "\n"
      ],
      "execution_count": 44,
      "outputs": []
    },
    {
      "cell_type": "markdown",
      "metadata": {
        "id": "M46PQhAKwsKj"
      },
      "source": [
        "### Exercise 9: Tuning L1-Regularization term.\n",
        "<b><div style=\"text-align: right\">[UNGRADED]</div></b>\n",
        "\n",
        "---\n",
        "A function `tuning_curve()` is defined above. Use this function to tune L1 regularization term in the range $[0, 0.4, 1, 5, 10]$\n",
        "\n",
        "**Task:**  \n",
        "- Use function `tuning_curve()` to tune the parameter `reg_alpha` in the range $[0, 0.4, 1, 5, 10]$ and answer the following quiz.\n"
      ]
    },
    {
      "cell_type": "code",
      "metadata": {
        "id": "o_ES-JPNwsKl",
        "colab": {
          "base_uri": "https://localhost:8080/",
          "height": 295
        },
        "outputId": "5690a8d2-e4eb-405d-c17c-8b2107fbe680"
      },
      "source": [
        "None # Call function tuning_curve() to tune reg_alpha in the given range\n",
        "\n",
        "### BEGIN SOLUTION\n",
        "tuning_curve(param_name = 'reg_alpha', param_range = [0, 0.4, 1, 5, 10])  \n",
        "### END SOLUTION"
      ],
      "execution_count": 45,
      "outputs": [
        {
          "output_type": "display_data",
          "data": {
            "image/png": "[encoded data removed]",
            "text/plain": [
              "<Figure size 432x288 with 1 Axes>"
            ]
          },
          "metadata": {
            "tags": [],
            "needs_background": "light"
          }
        }
      ]
    },
    {
      "cell_type": "markdown",
      "metadata": {
        "id": "eciMTlsjwsKo"
      },
      "source": [
        "#### Q4: From the above curve, which of the following value of reg_alpha yields the best performance?\n",
        "<b><div style=\"text-align: right\">[UNGRADED]</div></b>\n",
        "\n",
        "---\n",
        "Choose from the drop box below.\n"
      ]
    },
    {
      "cell_type": "code",
      "metadata": {
        "id": "05rB4PBzwsKo"
      },
      "source": [
        "### RUN THIS CELL TO ANSWER\n",
        "%run tuning_alpha.py"
      ],
      "execution_count": null,
      "outputs": []
    },
    {
      "cell_type": "code",
      "metadata": {
        "id": "YvRtF_WRwsKr"
      },
      "source": [
        "assert(tuning_alpha_quiz.value != None)\n",
        "### BEGIN HIDDEN TESTS\n",
        "assert(tuning_alpha_quiz.value == '1')\n",
        "### END HIDDEN TESTS"
      ],
      "execution_count": null,
      "outputs": []
    },
    {
      "cell_type": "markdown",
      "metadata": {
        "id": "Yie7qnu3wsKv"
      },
      "source": [
        "__Congratulation!!!!!!!!!!!!!__\n",
        "\n",
        "__You have completed level 1__"
      ]
    },
    {
      "cell_type": "markdown",
      "metadata": {
        "id": "IX6VJobpwsKw"
      },
      "source": [
        "## Level 2+3\n",
        "\n",
        "## Learning Objective (Level2+Level 3)\n",
        "<b><div style=\"text-align: right\">[POINTS: 6]</div></b>\n",
        "\n",
        "- Implement Gradient Boosting Regressor from scratch.\n",
        "\n",
        "- Compare the performance of gradient boosting regressor implement from scratch with Sklearn's gradient boosting regressor.\n",
        "\n"
      ]
    },
    {
      "cell_type": "markdown",
      "metadata": {
        "id": "V5t25PcIwsKx"
      },
      "source": [
        "### Dataset Description\n",
        "\n",
        "We will use a synthetic dataset for this part. A synthetic dataset is generated using Sklearn's `make_regression()` method.\n",
        "\n",
        "---\n",
        "Number of Instances: 100\n",
        "\n",
        "Number of Attributes:4\n",
        "\n",
        "---\n",
        "The features are labeled `x1`, `x2`,`x3`,`x4`, and the output value is labeled `target`.\n"
      ]
    },
    {
      "cell_type": "code",
      "metadata": {
        "scrolled": true,
        "id": "MDvsa8egwsKx",
        "colab": {
          "base_uri": "https://localhost:8080/",
          "height": 205
        },
        "outputId": "6d9ecf14-c013-4cf9-a07d-dbef727a8de8"
      },
      "source": [
        "from sklearn.datasets import make_regression\n",
        "\n",
        "\n",
        "RANDOM_STATE = 7\n",
        "X, y = make_regression(n_samples=100, n_features=4, n_informative=3, bias = 2,noise=0.05, random_state = RANDOM_STATE)\n",
        "df = pd.DataFrame(X, columns = ['x1', 'x2', 'x3', 'x4'])\n",
        "df['target']= y\n",
        "df.head()"
      ],
      "execution_count": 46,
      "outputs": [
        {
          "output_type": "execute_result",
          "data": {
            "text/html": [
              "<div>\n",
              "<style scoped>\n",
              "    .dataframe tbody tr th:only-of-type {\n",
              "        vertical-align: middle;\n",
              "    }\n",
              "\n",
              "    .dataframe tbody tr th {\n",
              "        vertical-align: top;\n",
              "    }\n",
              "\n",
              "    .dataframe thead th {\n",
              "        text-align: right;\n",
              "    }\n",
              "</style>\n",
              "<table border=\"1\" class=\"dataframe\">\n",
              "  <thead>\n",
              "    <tr style=\"text-align: right;\">\n",
              "      <th></th>\n",
              "      <th>x1</th>\n",
              "      <th>x2</th>\n",
              "      <th>x3</th>\n",
              "      <th>x4</th>\n",
              "      <th>target</th>\n",
              "    </tr>\n",
              "  </thead>\n",
              "  <tbody>\n",
              "    <tr>\n",
              "      <th>0</th>\n",
              "      <td>-0.192855</td>\n",
              "      <td>-1.778013</td>\n",
              "      <td>0.735027</td>\n",
              "      <td>0.331974</td>\n",
              "      <td>55.859210</td>\n",
              "    </tr>\n",
              "    <tr>\n",
              "      <th>1</th>\n",
              "      <td>0.396565</td>\n",
              "      <td>1.171393</td>\n",
              "      <td>0.097020</td>\n",
              "      <td>0.973093</td>\n",
              "      <td>119.860365</td>\n",
              "    </tr>\n",
              "    <tr>\n",
              "      <th>2</th>\n",
              "      <td>1.503319</td>\n",
              "      <td>-0.212733</td>\n",
              "      <td>1.438240</td>\n",
              "      <td>0.108648</td>\n",
              "      <td>166.927654</td>\n",
              "    </tr>\n",
              "    <tr>\n",
              "      <th>3</th>\n",
              "      <td>-0.000890</td>\n",
              "      <td>-1.754724</td>\n",
              "      <td>0.002066</td>\n",
              "      <td>-0.788923</td>\n",
              "      <td>-71.091021</td>\n",
              "    </tr>\n",
              "    <tr>\n",
              "      <th>4</th>\n",
              "      <td>0.032820</td>\n",
              "      <td>0.407516</td>\n",
              "      <td>-0.465937</td>\n",
              "      <td>1.690526</td>\n",
              "      <td>138.727129</td>\n",
              "    </tr>\n",
              "  </tbody>\n",
              "</table>\n",
              "</div>"
            ],
            "text/plain": [
              "         x1        x2        x3        x4      target\n",
              "0 -0.192855 -1.778013  0.735027  0.331974   55.859210\n",
              "1  0.396565  1.171393  0.097020  0.973093  119.860365\n",
              "2  1.503319 -0.212733  1.438240  0.108648  166.927654\n",
              "3 -0.000890 -1.754724  0.002066 -0.788923  -71.091021\n",
              "4  0.032820  0.407516 -0.465937  1.690526  138.727129"
            ]
          },
          "metadata": {
            "tags": []
          },
          "execution_count": 46
        }
      ]
    },
    {
      "cell_type": "markdown",
      "metadata": {
        "id": "L9fe-DOjwsK1"
      },
      "source": [
        "### Scatter plot"
      ]
    },
    {
      "cell_type": "markdown",
      "metadata": {
        "id": "gCJllXViwsK1"
      },
      "source": [
        "If you would like, you could visualize the scatter plot of individual features with respect to the target variable. Moreover, if you like to understand better the distribution of the data, you can experiment yourself."
      ]
    },
    {
      "cell_type": "code",
      "metadata": {
        "scrolled": false,
        "id": "EPrD4CUZwsK3",
        "colab": {
          "base_uri": "https://localhost:8080/",
          "height": 280
        },
        "outputId": "c9edef4d-bb61-4c44-b8f6-43e348fca1b5"
      },
      "source": [
        "# Perform experiment to understand data distribution if needed.\n",
        "plt.scatter(X[:,0], y)\n",
        "plt.ylabel(\"Output/independent variable\")\n",
        "plt.xlabel(\"Input/dependet variable\")\n",
        "plt.show()"
      ],
      "execution_count": 47,
      "outputs": [
        {
          "output_type": "display_data",
          "data": {
            "image/png": "[encoded data removed]",
            "text/plain": [
              "<Figure size 432x288 with 1 Axes>"
            ]
          },
          "metadata": {
            "tags": [],
            "needs_background": "light"
          }
        }
      ]
    },
    {
      "cell_type": "code",
      "metadata": {
        "colab": {
          "base_uri": "https://localhost:8080/",
          "height": 403
        },
        "id": "f7BCf1zZPh2X",
        "outputId": "a7d619c7-3e32-4b1d-f4d9-2eec63d1abf0"
      },
      "source": [
        "plt.hist(X)"
      ],
      "execution_count": 48,
      "outputs": [
        {
          "output_type": "execute_result",
          "data": {
            "text/plain": [
              "(array([[ 0.,  4.,  9., 10., 27., 28.,  9.,  8.,  4.,  1.],\n",
              "        [ 0.,  1., 11., 13., 21., 21., 18.,  8.,  7.,  0.],\n",
              "        [ 0.,  5., 10., 12., 21., 22., 23.,  5.,  2.,  0.],\n",
              "        [ 1.,  2.,  7., 11., 23., 20., 21.,  9.,  5.,  1.]]),\n",
              " array([-3.08250477, -2.48814757, -1.89379037, -1.29943318, -0.70507598,\n",
              "        -0.11071879,  0.48363841,  1.0779956 ,  1.6723528 ,  2.26671   ,\n",
              "         2.86106719]),\n",
              " <a list of 4 Lists of Patches objects>)"
            ]
          },
          "metadata": {
            "tags": []
          },
          "execution_count": 48
        },
        {
          "output_type": "display_data",
          "data": {
            "image/png": "[encoded data removed]",
            "text/plain": [
              "<Figure size 432x288 with 1 Axes>"
            ]
          },
          "metadata": {
            "tags": [],
            "needs_background": "light"
          }
        }
      ]
    },
    {
      "cell_type": "markdown",
      "metadata": {
        "id": "HQxBrCMAwsK7"
      },
      "source": [
        "### Train Test Split\n",
        "As usual, we will keep 80% of the data for training and the rest for testing."
      ]
    },
    {
      "cell_type": "code",
      "metadata": {
        "id": "sHr2YzgbwsK8"
      },
      "source": [
        "from sklearn.model_selection import train_test_split\n",
        "\n",
        "\n",
        "X_train, X_test, y_train, y_test = train_test_split(X, y, test_size = 0.2, random_state = RANDOM_STATE)"
      ],
      "execution_count": 49,
      "outputs": []
    },
    {
      "cell_type": "markdown",
      "metadata": {
        "id": "OdD_9-8twsK_"
      },
      "source": [
        "## Gradient Boosting Regressor from scratch\n",
        "In this section, we will implement a gradient boosting regressor from scratch. Each base learner will be a decision tree. For this, we will use Sklearn's `DecisionTreeRegressor()` object.\n",
        "\n",
        "Here is a pseudo-code for gradient boosting regressor.\n",
        "```\n",
        "Algorithm:\n",
        "```\n",
        "> 1. initialize $F_0= \\frac{1}{N}\\sum_{i=1}^N y_i$\n",
        "2. for $t=1$ to $M$ do\n",
        "3. > calculate negative gradients $-g(\\mathbf{x_i})$; where $-g(\\mathbf{x_i})= -\\frac{\\partial L(y_i, F(\\mathbf{x_i}))}{\\partial F(\\mathbf{x_i})}\\bigg{|}_{F = F_{t-1}}$\n",
        "4. > fit a base-learner model $h$ to negative gradients $-g(\\mathbf{x_i})$\n",
        "5. > update the function: $F_t=F_{t-1} + \\alpha h(\\mathbf{x})$; where $\\alpha$ is a shrinkage\n",
        "6. end for"
      ]
    },
    {
      "cell_type": "markdown",
      "metadata": {
        "id": "078dpGJLwsLA"
      },
      "source": [
        "Below is a skeleton class for the gradient boosting regressor. We have already defined a constructor for initializing different attributes like `learning_rate`, `max_depth` of each tree, and `n_estimators` for the number of boosting iterations. The attribute `estimators` is a list of each trained base learner.\n",
        "\n",
        "### Exercise 10: Gradient Boosting Regressor from scratch\n",
        "<b><div style=\"text-align: right\">[POINTS: 1+3+1]</div></b>\n",
        "\n",
        "---\n",
        "This exercise is divided into three different tasks. Through these three tasks, you will create a gradient boosting regressor.\n",
        "\n",
        "**Task 1: Computation of negative gradient** \n",
        "<b><div style=\"text-align: right\">[POINTS: 1]</div></b>\n",
        "\n",
        "We have defined a static method `negative_gradient` which should return the negative gradient when actual label $y$ and predicted label $\\hat{y}$ are given. You need to complete this function.\n",
        "\n",
        "-  Your task is to assign the negative gradient the the variable `grad`. Suppose we are using the following loss function $$L(y,\\hat{y})= \\frac{1}{2}(y-\\hat{y})^2$$ \n",
        "where, $y$ is the actual label and $\\hat{y}$ is the predicted label.\n",
        "\n",
        "\n",
        "**Task 2: Fit the model** \n",
        "\n",
        "<b><div style=\"text-align: right\">[POINTS: 3]</div></b>\n",
        "\n",
        "\n",
        "In this task, we are going to fit our model with the training dataset. We have defined a function `fit(X,y)` in the class `Gradient_Boosting_Regressor` where, X is the training features, and y is the training label. As already discussed in the reading material, the first prediction is the average of output label. Here we have defined two attributes, `average` and `base_prediction`. `base_prediction` is a vector of average value with a length equal to the number of instances in the training data. \n",
        "\n",
        "\n",
        "- Compute the negative_gradient using the above defined function and put it in the variable `pseduo_residual`.\n",
        "- Instantiate a decision tree regressor(from sklearn) on variable `tree` setting `max_depth` to the variable provided in the class constructor and setting `random_state` to RANDOM_STATE.\n",
        "- Fit the tree on input X and pseudo_residual as a target.\n",
        "- Update `base_prediction` with the prediction of the current tree. Note: The prediction of each tree should be downscaled by shrinkage. Please replace 0 with your own code.\n",
        "\n",
        "**Task 3: Prediction by model** \n",
        "\n",
        "<b><div style=\"text-align: right\">[POINTS: 1]</div></b>\n",
        "\n",
        "\n",
        "In this exercise, we are going to make a prediction based on the input data. We have defined a function `predict(X)` in the class `Gradient_Boosting_Regressor` where, X is a feature for which we want to make a prediction. Here we have initialized the variable `predictions` by the average value of the training label. We want to return the final prediction made by the model.\n",
        "\n",
        "\n",
        "- The average prediction is already assigned to the variable `predictions`. Your task is to add the predictions made by each estimator to the variable `predictions`. Please replace 0 with your code.\n",
        "\n",
        "\n",
        "The last method, `staged_predict()` is a generator that returns the prediction for each boosting iterations."
      ]
    },
    {
      "cell_type": "code",
      "metadata": {
        "id": "NOP9uMawwsLA"
      },
      "source": [
        "from sklearn.tree import DecisionTreeRegressor\n",
        "\n",
        "class Gradient_Boosting_Regressor:\n",
        "    \"\"\"\n",
        "    Gradient boosting for regression.\n",
        "    \n",
        "    This implementation uses a mean square error loss function.\n",
        "    \n",
        "    Parameters:\n",
        "    ----------\n",
        "    learning_rate: int\n",
        "                   Learning rate or shrinkage parameter (the default is 0.1)\n",
        "    max_depth: int\n",
        "               Maximum allowed depth for each tree (the default value is 4)\n",
        "    n_estimators: int\n",
        "                  The total number of boosting operations (the default value is 5)  \n",
        "                   \n",
        "    \"\"\"\n",
        "    def __init__(self, learning_rate = 0.1, max_depth = 3, n_estimators = 5):\n",
        "        self.learning_rate = learning_rate\n",
        "        self.max_depth = max_depth\n",
        "        self.n_estimators = n_estimators\n",
        "        self.estimators = []\n",
        "        \n",
        "        \n",
        "    @staticmethod\n",
        "    def negative_gradient(y, y_pred):\n",
        "        \"\"\"Compute and return the negative gradient. \"\"\"\n",
        "        grad = None\n",
        "        ### BEGIN SOLUTION\n",
        "        grad = y-y_pred\n",
        "        ### END SOLUTION\n",
        "        return grad\n",
        "    \n",
        "    \n",
        "    def fit(self, X, y):\n",
        "        \"\"\"Fit the model on data X and y\"\"\"\n",
        "        self.average = np.mean(y)\n",
        "        self.base_prediction = np.array([np.mean(y)]*len(y))\n",
        "        \n",
        "        for estimators in range(self.n_estimators):\n",
        "            pseudo_residuals = None\n",
        "            tree = None \n",
        "            None # tree.fit(...)\n",
        "            self.base_prediction += 0 # None ########### WHAT IS THE USE OF THIS LINE?\n",
        "            ### BEGIN SOLUTION\n",
        "            pseudo_residuals = self.negative_gradient(y, self.base_prediction)\n",
        "            tree = DecisionTreeRegressor(max_depth = self.max_depth, random_state = 7)\n",
        "            tree.fit(X, pseudo_residuals)\n",
        "            self.base_prediction += self.learning_rate*tree.predict(X)            \n",
        "            ### END SOLUTION\n",
        "            self.estimators.append(tree)\n",
        "            \n",
        "            \n",
        "    def predict(self, X):\n",
        "        \"\"\"Make prediction by the model on data X.\"\"\"\n",
        "        predictions = np.array([self.average]*X.shape[0])\n",
        "        for estimator in self.estimators:\n",
        "            predictions += 0 # None\n",
        "            ### BEGIN SOLUTION\n",
        "            predictions += self.learning_rate*estimator.predict(X)\n",
        "            ### END SOLUTION\n",
        "        return predictions\n",
        "    \n",
        "    \n",
        "    def staged_predict(self, X):\n",
        "        \"\"\"A generator which returns the prediction at each boosting iteration.\"\"\"\n",
        "        predictions = np.array([self.average]*X.shape[0])\n",
        "        \n",
        "        for estimator in self.estimators:\n",
        "            predictions += self.learning_rate*estimator.predict(X)\n",
        "            yield predictions\n",
        "\n",
        "        "
      ],
      "execution_count": 50,
      "outputs": []
    },
    {
      "cell_type": "code",
      "metadata": {
        "id": "Y9jBuEOTwsLC"
      },
      "source": [
        "assert Gradient_Boosting_Regressor().negative_gradient(y_train, y_train+1) is not None\n",
        "### BEGIN HIDDEN TESTS\n",
        "y_hidden_true = np.array([1.4, 2.0, 3.3, 9.1, 3.4])\n",
        "y_hidden_pred = np.array([0.0, 1.1, 2.4, 4.7, 8.4])\n",
        "gradient_hidden = (y_hidden_true - y_hidden_pred)\n",
        "gradient_hidden_by_student = Gradient_Boosting_Regressor().negative_gradient(y_hidden_true, y_hidden_pred)\n",
        "np.testing.assert_equal(gradient_hidden, gradient_hidden_by_student, err_msg = \"Please check the function negative_gradient().\")\n",
        "### END HIDDEN TESTS"
      ],
      "execution_count": 51,
      "outputs": []
    },
    {
      "cell_type": "code",
      "metadata": {
        "id": "pcndEFghwsLI"
      },
      "source": [
        "model = Gradient_Boosting_Regressor()\n",
        "model.fit(X_train, y_train)\n",
        "assert not np.array_equal(model.predict(X_train), np.array([np.mean(y_train)]*len(y_train))), \"Make sure you have implemented the code for fit and predict methods.\"\n",
        "### BEGIN HIDDEN TESTS\n",
        "\n",
        "class Gradient_Boosting_RegressorT:\n",
        "    \"\"\"\n",
        "    Gradient boosting for regression.\n",
        "    \n",
        "    This implementation uses mean square error loss function.\n",
        "    \n",
        "    Parameters:\n",
        "    ----------\n",
        "    learning_rate: int\n",
        "                   Learning rate or shrinkage parameter (the default is 0.1)\n",
        "    max_depth: int\n",
        "               Maximum allowed depth for each tree (the default value is 4)\n",
        "    n_estimators: int\n",
        "                  The total number of boosting operations (the default value is 5)  \n",
        "                   \n",
        "    \"\"\"\n",
        "    def __init__(self, learning_rate =0.1, max_depth = 3, n_estimators = 5):\n",
        "        self.learning_rate = learning_rate\n",
        "        self.max_depth = max_depth\n",
        "        self.n_estimators = n_estimators\n",
        "        self.estimators = []\n",
        "        \n",
        "        \n",
        "    @staticmethod\n",
        "    def negative_gradient(y, y_pred):\n",
        "        \"\"\"Compute and returns the negative gradient. \"\"\"\n",
        "        grad = y-y_pred\n",
        "        return grad\n",
        "    \n",
        "    \n",
        "    def fit(self, X, y):\n",
        "        \"\"\"Fit the model\"\"\"\n",
        "        self.average = np.mean(y)\n",
        "        self.base_prediction = np.array([np.mean(y)]*len(y))\n",
        "        \n",
        "        for estimators in range(self.n_estimators):\n",
        "            pseudo_residuals = self.negative_gradient(y, self.base_prediction)\n",
        "            \n",
        "            tree = DecisionTreeRegressor(max_depth = self.max_depth, random_state = 7)\n",
        "            tree.fit(X, pseudo_residuals)\n",
        "            self.base_prediction += self.learning_rate*tree.predict(X)\n",
        "            self.estimators.append(tree)\n",
        "            \n",
        "            \n",
        "    def predict(self, X):\n",
        "        \"\"\"Make prediction by the model for input data X.\"\"\"\n",
        "        predictions = np.array([self.average]*X.shape[0])\n",
        "        \n",
        "        for estimator in self.estimators:\n",
        "            predictions += self.learning_rate*estimator.predict(X)\n",
        "        return predictions\n",
        "    \n",
        "    \n",
        "    def staged_predict(self, X):\n",
        "        \"\"\"A generator which returns the prediction at each boosting iteration.\"\"\"\n",
        "        predictions = np.array([self.average]*X.shape[0])\n",
        "        \n",
        "        for estimator in self.estimators:\n",
        "            predictions += self.learning_rate*estimator.predict(X)\n",
        "            yield predictions\n",
        "\n",
        "teacher = Gradient_Boosting_RegressorT()\n",
        "student = Gradient_Boosting_Regressor()\n",
        "teacher.fit(X_train[:20, :], y_train[:20])\n",
        "teacher_prediction_hidden = teacher.predict(X_train[:20, :])\n",
        "\n",
        "student.fit(X_train[:20, :], y_train[:20])\n",
        "student_prediction_hidden = student.predict(X_train[:20, :])\n",
        "\n",
        "# np.testing.assert_almost_equal(teacher_prediction_hidden, student_prediction_hidden, decimal = 3,  err_msg = \"Please check either fit or predict method\" )\n",
        "### END HIDDEN TESTS"
      ],
      "execution_count": 53,
      "outputs": []
    },
    {
      "cell_type": "markdown",
      "metadata": {
        "id": "lZQXk1LKwsLK"
      },
      "source": [
        "## Evaluation and Comparision\n",
        "In this and coming sections, we will first evaluate the gradient boosting regressor that we just built from scratch and then compare it with the Sklearn's gradient boosting regressor."
      ]
    },
    {
      "cell_type": "markdown",
      "metadata": {
        "id": "6lBICO5cwsLL"
      },
      "source": [
        "Let's see how our model has performed."
      ]
    },
    {
      "cell_type": "code",
      "metadata": {
        "scrolled": true,
        "id": "eEDtuZTewsLM",
        "colab": {
          "base_uri": "https://localhost:8080/"
        },
        "outputId": "6bbd93ed-7c72-4500-a0c4-8b7d1d893836"
      },
      "source": [
        "from sklearn.metrics import r2_score\n",
        "\n",
        "custom_gbm = Gradient_Boosting_Regressor(learning_rate = 0.2, max_depth = 3, n_estimators = 4)\n",
        "custom_gbm.fit(X_train, y_train)\n",
        "\n",
        "\n",
        "print(\"r2_score:\", r2_score(y_test, custom_gbm.predict(X_test)))"
      ],
      "execution_count": 54,
      "outputs": [
        {
          "output_type": "stream",
          "text": [
            "r2_score: 0.5787669653951846\n"
          ],
          "name": "stdout"
        }
      ]
    },
    {
      "cell_type": "markdown",
      "metadata": {
        "id": "beLuCubewsLR"
      },
      "source": [
        "### Visualization\n",
        "Let's see if the prediction gets improved with the added estimators. Here we will plot the actual and predicted target value."
      ]
    },
    {
      "cell_type": "code",
      "metadata": {
        "scrolled": false,
        "id": "unyAB9CRwsLS",
        "colab": {
          "base_uri": "https://localhost:8080/",
          "height": 339
        },
        "outputId": "c2b7ab50-2f36-4d9e-abaa-7f34ea90b757"
      },
      "source": [
        "fig, ax = plt.subplots(1,4, figsize = (20,4.5), sharex = True)\n",
        "fig.suptitle(\"Prediction made by our custom gradient boosting regressor\")\n",
        "for i, pred in enumerate(custom_gbm.staged_predict(X_test)):\n",
        "    ax[i].scatter(y_test, pred, marker = 'o')\n",
        "    ax[i].set_title(\"n_estimators={}; r2_score={:04.2f}\".format(i+1, r2_score(y_test, pred)))\n",
        "    ax[i].set_xlabel(\"Actual value\")\n",
        "    ax[i].set_ylabel(\"Predicted value\")\n",
        "plt.show()"
      ],
      "execution_count": 55,
      "outputs": [
        {
          "output_type": "display_data",
          "data": {
            "image/png": "[encoded data removed]",
            "text/plain": [
              "<Figure size 1440x324 with 4 Axes>"
            ]
          },
          "metadata": {
            "tags": [],
            "needs_background": "light"
          }
        }
      ]
    },
    {
      "cell_type": "markdown",
      "metadata": {
        "id": "a28anUbpwsLV"
      },
      "source": [
        "#### Q5: With our custom gradient boosting regressor, the prediction has ______ with boosting iteration?\n",
        "<b><div style=\"text-align: right\">[UNGRADED]</div></b>\n",
        "\n",
        "---\n",
        "Choose from the drop box below to fill in the blank."
      ]
    },
    {
      "cell_type": "code",
      "metadata": {
        "scrolled": true,
        "id": "oQv2PyUWwsLV"
      },
      "source": [
        "### RUN THIS CELL TO ANSWER\n",
        "%run custom_performance.py"
      ],
      "execution_count": null,
      "outputs": []
    },
    {
      "cell_type": "code",
      "metadata": {
        "id": "39wF8tIVwsLa"
      },
      "source": [
        "assert(custom_performance.value != None)\n",
        "\n",
        "### BEGIN HIDDEN TESTS\n",
        "assert(custom_performance.value == 'improved')\n",
        "### END HIDDEN TESTS"
      ],
      "execution_count": null,
      "outputs": []
    },
    {
      "cell_type": "markdown",
      "metadata": {
        "id": "lOwaWEnOwsLf"
      },
      "source": [
        "### Gradient Boosting Regressor in sklearn\n",
        "Let's see how our model compared with the gradient boosting regressor in sklearn.\n",
        "\n",
        "### Exercise 11: Training Sklearn's GradientBoostingRegressor\n",
        "\n",
        "---\n",
        "<b><div style=\"text-align: right\">[POINTS: 1]</div></b>\n",
        "\n",
        "In this exercise, we are going to train Sklearn's GradientBoostingRegressor.\n",
        "\n",
        "**Task:** \n",
        "- Create an object `gbm` of the `GradientBoostingRegressor` class setting criterion to `mse`, n_estimators to 4, max_depth to 3, learning_rate to 0.2 and random_state to RANDOM_STATE.\n",
        "- Fit the object on the training set `X_train`, and `y_train`.\n",
        "\n"
      ]
    },
    {
      "cell_type": "code",
      "metadata": {
        "id": "_se8m4-qwsLf",
        "colab": {
          "base_uri": "https://localhost:8080/"
        },
        "outputId": "109d1554-1559-471c-881f-812b4bbcc723"
      },
      "source": [
        "from sklearn.ensemble import GradientBoostingRegressor\n",
        "\n",
        "gbm = None\n",
        "# Fit the model \n",
        "### BEGIN SOLUTION\n",
        "gbm = GradientBoostingRegressor(criterion = 'mse', n_estimators = 4, max_depth = 3, learning_rate = 0.2, random_state = RANDOM_STATE)\n",
        "gbm.fit(X_train, y_train)\n",
        "\n",
        "### END SOLTUION\n",
        "print(\"r2_score: \", r2_score(y_test, gbm.predict(X_test)))"
      ],
      "execution_count": 57,
      "outputs": [
        {
          "output_type": "stream",
          "text": [
            "r2_score:  0.5787669653951846\n"
          ],
          "name": "stdout"
        }
      ]
    },
    {
      "cell_type": "code",
      "metadata": {
        "id": "5P9ZkU5TwsLl"
      },
      "source": [
        "assert gbm is not None\n",
        "### BEGIN HIDDEN TESTS\n",
        "from sklearn.exceptions import NotFittedError\n",
        "\n",
        "\n",
        "assert gbm.criterion == 'mse', \"Please set the criterion to mse\"\n",
        "assert gbm.n_estimators == 4, \"Please set the number of estimators to 4\"\n",
        "assert gbm.learning_rate ==0.2, \"Please set the learning rate to 0.2\"\n",
        "assert gbm.random_state == RANDOM_STATE, \"Please set the random state to RANDOM_STATE\"\n",
        "\n",
        "try:\n",
        "    gbm.predict(X_test)\n",
        "except NotFittedError as e:\n",
        "    raise \"Model is not fitted\"\n",
        "### END HIDDEN TESTS"
      ],
      "execution_count": 58,
      "outputs": []
    },
    {
      "cell_type": "markdown",
      "metadata": {
        "id": "FNI07SztwsLq"
      },
      "source": [
        "### Visualization\n",
        "Let's visualize how the prediction made by Sklearn's gradient boosting regressor looks."
      ]
    },
    {
      "cell_type": "code",
      "metadata": {
        "scrolled": true,
        "id": "ZN1qS2i1wsLq",
        "colab": {
          "base_uri": "https://localhost:8080/",
          "height": 369
        },
        "outputId": "b02812b5-d66c-4da9-81b7-23f566afa418"
      },
      "source": [
        "fig, ax = plt.subplots(1,4, figsize = (20,5), sharex = True, sharey=True)\n",
        "fig.suptitle(\"Prediction made by sklearn's gradient boosting regressor\")\n",
        "for i, pred in enumerate(gbm.staged_predict(X_test)):\n",
        "    ax[i].scatter(y_test, pred, marker = 'o')\n",
        "    ax[i].set_title(\"n_estimators={}; r2_score={:04.2f}\".format(i+1, r2_score(y_test, pred)))\n",
        "    ax[i].set_xlabel(\"Actual value\")\n",
        "    ax[i].set_ylabel(\"Predicted value\")\n",
        "plt.show()"
      ],
      "execution_count": 59,
      "outputs": [
        {
          "output_type": "display_data",
          "data": {
            "image/png": "[encoded data removed]",
            "text/plain": [
              "<Figure size 1440x360 with 4 Axes>"
            ]
          },
          "metadata": {
            "tags": [],
            "needs_background": "light"
          }
        }
      ]
    },
    {
      "cell_type": "markdown",
      "metadata": {
        "id": "aQNwznniwsLt"
      },
      "source": [
        "#### Q6: Based on the above two plots, the performance of Sklearn's gradient boosting regressor is ______ our custom gradient boosting regressor?\n",
        "<b><div style=\"text-align: right\">[UNGRADED]</div></b>\n",
        "\n",
        "---\n",
        "Choose from the drop box below to fill in the blank."
      ]
    },
    {
      "cell_type": "code",
      "metadata": {
        "id": "h6-7FqRhwsLu",
        "colab": {
          "base_uri": "https://localhost:8080/"
        },
        "outputId": "cfd1f198-82d8-4863-a380-438afbbae09e"
      },
      "source": [
        "### RUN THIS CELL TO ANSWER\n",
        "%run performance_compare1.py"
      ],
      "execution_count": 60,
      "outputs": [
        {
          "output_type": "stream",
          "text": [
            "ERROR:root:File `'performance_compare1.py'` not found.\n"
          ],
          "name": "stderr"
        }
      ]
    },
    {
      "cell_type": "code",
      "metadata": {
        "id": "JGF7fuyawsL4",
        "colab": {
          "base_uri": "https://localhost:8080/",
          "height": 216
        },
        "outputId": "d5a115b3-a988-490a-eac6-42253e049ef0"
      },
      "source": [
        "assert(performance_compare1.value != None)\n",
        "### BEGIN HIDDEN TESTS\n",
        "assert(performance_compare1.value == 'same as')\n",
        "### END HIDDEN TESTS"
      ],
      "execution_count": 61,
      "outputs": [
        {
          "output_type": "error",
          "ename": "NameError",
          "evalue": "ignored",
          "traceback": [
            "\u001b[0;31m---------------------------------------------------------------------------\u001b[0m",
            "\u001b[0;31mNameError\u001b[0m                                 Traceback (most recent call last)",
            "\u001b[0;32m<ipython-input-61-7004dd666a63>\u001b[0m in \u001b[0;36m<module>\u001b[0;34m()\u001b[0m\n\u001b[0;32m----> 1\u001b[0;31m \u001b[0;32massert\u001b[0m\u001b[0;34m(\u001b[0m\u001b[0mperformance_compare1\u001b[0m\u001b[0;34m.\u001b[0m\u001b[0mvalue\u001b[0m \u001b[0;34m!=\u001b[0m \u001b[0;32mNone\u001b[0m\u001b[0;34m)\u001b[0m\u001b[0;34m\u001b[0m\u001b[0;34m\u001b[0m\u001b[0m\n\u001b[0m\u001b[1;32m      2\u001b[0m \u001b[0;31m### BEGIN HIDDEN TESTS\u001b[0m\u001b[0;34m\u001b[0m\u001b[0;34m\u001b[0m\u001b[0;34m\u001b[0m\u001b[0m\n\u001b[1;32m      3\u001b[0m \u001b[0;32massert\u001b[0m\u001b[0;34m(\u001b[0m\u001b[0mperformance_compare1\u001b[0m\u001b[0;34m.\u001b[0m\u001b[0mvalue\u001b[0m \u001b[0;34m==\u001b[0m \u001b[0;34m'same as'\u001b[0m\u001b[0;34m)\u001b[0m\u001b[0;34m\u001b[0m\u001b[0;34m\u001b[0m\u001b[0m\n\u001b[1;32m      4\u001b[0m \u001b[0;31m### END HIDDEN TESTS\u001b[0m\u001b[0;34m\u001b[0m\u001b[0;34m\u001b[0m\u001b[0;34m\u001b[0m\u001b[0m\n",
            "\u001b[0;31mNameError\u001b[0m: name 'performance_compare1' is not defined"
          ]
        }
      ]
    },
    {
      "cell_type": "markdown",
      "metadata": {
        "id": "bv3aMhnXwsL7"
      },
      "source": [
        "### Loss vs. boosting iterations\n",
        "We will plot the value of mse loss at different iterations to visualize how the model's performance has improved. The function `learning_curve()` plots the mse of training and test data at each boosting iteration."
      ]
    },
    {
      "cell_type": "code",
      "metadata": {
        "id": "IMxRSx_CwsL8"
      },
      "source": [
        "from sklearn.metrics import mean_squared_error as mse\n",
        "\n",
        "\n",
        "def learning_curve(clf):\n",
        "    train_mse = []\n",
        "    test_mse = []\n",
        "    for pred in clf.staged_predict(X_train):\n",
        "        train_mse.append(mse(y_train, pred))\n",
        "    for pred in clf.staged_predict(X_test):\n",
        "        test_mse.append(mse(y_test, pred))\n",
        "    plt.plot(np.arange(clf.n_estimators)+1, train_mse, 'r', label= \"Training\")\n",
        "    plt.plot(np.arange(clf.n_estimators)+1, test_mse, 'b', label = \"Testing\")\n",
        "    plt.xlabel(\"Iterations\")\n",
        "    plt.ylabel(\"MSE loss\")\n",
        "    plt.legend()\n",
        "    plt.show()"
      ],
      "execution_count": 62,
      "outputs": []
    },
    {
      "cell_type": "code",
      "metadata": {
        "id": "bKa9EcY0wsL-",
        "colab": {
          "base_uri": "https://localhost:8080/",
          "height": 314
        },
        "outputId": "a3428a2b-81d6-4463-ac00-7c432a0db4c9"
      },
      "source": [
        "custom_clf = Gradient_Boosting_Regressor(n_estimators = 100, max_depth = 1, learning_rate = 0.1)\n",
        "custom_clf.fit(X_train, y_train)\n",
        "learning_curve(custom_clf)\n",
        "print(\"MSE:\" ,mse(y_test, custom_clf.predict(X_test)))\n",
        "print(\"r2_score\" ,r2_score(y_test, custom_clf.predict(X_test)))"
      ],
      "execution_count": 63,
      "outputs": [
        {
          "output_type": "display_data",
          "data": {
            "image/png": "[encoded data removed]",
            "text/plain": [
              "<Figure size 432x288 with 1 Axes>"
            ]
          },
          "metadata": {
            "tags": [],
            "needs_background": "light"
          }
        },
        {
          "output_type": "stream",
          "text": [
            "MSE: 1028.0919898541258\n",
            "r2_score 0.8672168468465088\n"
          ],
          "name": "stdout"
        }
      ]
    },
    {
      "cell_type": "code",
      "metadata": {
        "id": "Yx8n8ElVwsMC",
        "colab": {
          "base_uri": "https://localhost:8080/",
          "height": 314
        },
        "outputId": "61fbde11-af7c-44aa-9505-a435d60e7a6a"
      },
      "source": [
        "clf = GradientBoostingRegressor(n_estimators = 100, max_depth = 1, learning_rate = 0.1, criterion = 'mse')\n",
        "clf.fit(X_train, y_train)\n",
        "learning_curve(clf)\n",
        "print(\"MSE:\", mse(y_test, clf.predict(X_test)))\n",
        "print(\"r2_score\", r2_score(y_test, clf.predict(X_test)))"
      ],
      "execution_count": 64,
      "outputs": [
        {
          "output_type": "display_data",
          "data": {
            "image/png": "[encoded data removed]",
            "text/plain": [
              "<Figure size 432x288 with 1 Axes>"
            ]
          },
          "metadata": {
            "tags": [],
            "needs_background": "light"
          }
        },
        {
          "output_type": "stream",
          "text": [
            "MSE: 1028.0919898541258\n",
            "r2_score 0.8672168468465088\n"
          ],
          "name": "stdout"
        }
      ]
    },
    {
      "cell_type": "markdown",
      "metadata": {
        "id": "v9EZ-Z1MwsMF"
      },
      "source": [
        "#### Q7: Based on the learning curve, the performance of Sklearn's gradient boosting regressor is ______ our custom gradient boosting regressor?\n",
        "<b><div style=\"text-align: right\">[UNGRADED]</div></b>\n",
        "\n",
        "---\n",
        "Choose from the drop box below to fill in the blank."
      ]
    },
    {
      "cell_type": "code",
      "metadata": {
        "id": "46qOOEiywsMF",
        "colab": {
          "base_uri": "https://localhost:8080/"
        },
        "outputId": "36f8cf04-7ade-4a3d-d070-a904442afe45"
      },
      "source": [
        "### RUN THIS CELL TO ANSWER\n",
        "%run performance_compare2.py"
      ],
      "execution_count": 65,
      "outputs": [
        {
          "output_type": "stream",
          "text": [
            "ERROR:root:File `'performance_compare2.py'` not found.\n"
          ],
          "name": "stderr"
        }
      ]
    },
    {
      "cell_type": "code",
      "metadata": {
        "id": "_YBheC4rwsMH",
        "colab": {
          "base_uri": "https://localhost:8080/",
          "height": 216
        },
        "outputId": "41521c4f-4652-44fa-e4a6-c02def24c7ec"
      },
      "source": [
        "assert(performance_compare2.value != None)\n",
        "### BEGIN HIDDEN TESTS\n",
        "assert(performance_compare2.value == 'same as')\n",
        "### END HIDDEN TESTS"
      ],
      "execution_count": 66,
      "outputs": [
        {
          "output_type": "error",
          "ename": "NameError",
          "evalue": "ignored",
          "traceback": [
            "\u001b[0;31m---------------------------------------------------------------------------\u001b[0m",
            "\u001b[0;31mNameError\u001b[0m                                 Traceback (most recent call last)",
            "\u001b[0;32m<ipython-input-66-cb5b0940383f>\u001b[0m in \u001b[0;36m<module>\u001b[0;34m()\u001b[0m\n\u001b[0;32m----> 1\u001b[0;31m \u001b[0;32massert\u001b[0m\u001b[0;34m(\u001b[0m\u001b[0mperformance_compare2\u001b[0m\u001b[0;34m.\u001b[0m\u001b[0mvalue\u001b[0m \u001b[0;34m!=\u001b[0m \u001b[0;32mNone\u001b[0m\u001b[0;34m)\u001b[0m\u001b[0;34m\u001b[0m\u001b[0;34m\u001b[0m\u001b[0m\n\u001b[0m\u001b[1;32m      2\u001b[0m \u001b[0;31m### BEGIN HIDDEN TESTS\u001b[0m\u001b[0;34m\u001b[0m\u001b[0;34m\u001b[0m\u001b[0;34m\u001b[0m\u001b[0m\n\u001b[1;32m      3\u001b[0m \u001b[0;32massert\u001b[0m\u001b[0;34m(\u001b[0m\u001b[0mperformance_compare2\u001b[0m\u001b[0;34m.\u001b[0m\u001b[0mvalue\u001b[0m \u001b[0;34m==\u001b[0m \u001b[0;34m'same as'\u001b[0m\u001b[0;34m)\u001b[0m\u001b[0;34m\u001b[0m\u001b[0;34m\u001b[0m\u001b[0m\n\u001b[1;32m      4\u001b[0m \u001b[0;31m### END HIDDEN TESTS\u001b[0m\u001b[0;34m\u001b[0m\u001b[0;34m\u001b[0m\u001b[0;34m\u001b[0m\u001b[0m\n",
            "\u001b[0;31mNameError\u001b[0m: name 'performance_compare2' is not defined"
          ]
        }
      ]
    },
    {
      "cell_type": "markdown",
      "metadata": {
        "id": "O7Pq0ki3wsMJ"
      },
      "source": [
        "__Congratulation!!!!!!!!!!!!!__\n",
        "\n",
        "__You have completed the assignment__"
      ]
    }
  ]
}