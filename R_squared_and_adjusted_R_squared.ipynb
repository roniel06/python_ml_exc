{
  "nbformat": 4,
  "nbformat_minor": 0,
  "metadata": {
    "colab": {
      "name": "R-squared and adjusted R-squared.ipynb",
      "provenance": [],
      "toc_visible": true,
      "authorship_tag": "ABX9TyO1+tqMAFEDNsaBrZsW9KMS",
      "include_colab_link": true
    },
    "kernelspec": {
      "name": "python3",
      "display_name": "Python 3"
    },
    "language_info": {
      "name": "python"
    }
  },
  "cells": [
    {
      "cell_type": "markdown",
      "metadata": {
        "id": "view-in-github",
        "colab_type": "text"
      },
      "source": [
        "<a href=\"https://colab.research.google.com/github/roniel06/python_ml_exc/blob/main/R_squared_and_adjusted_R_squared.ipynb\" target=\"_parent\"><img src=\"https://colab.research.google.com/assets/colab-badge.svg\" alt=\"Open In Colab\"/></a>"
      ]
    },
    {
      "cell_type": "markdown",
      "metadata": {
        "id": "9W70_ShQ6V1D"
      },
      "source": [
        "# Here We are going to implement the R^2 metric and the Adjusted R^2\n",
        "\n",
        "This is for learning pourpose\n"
      ]
    },
    {
      "cell_type": "markdown",
      "metadata": {
        "id": "JoXDcOON6iMT"
      },
      "source": [
        "### Imports"
      ]
    },
    {
      "cell_type": "code",
      "metadata": {
        "id": "5I3bA7525DrK"
      },
      "source": [
        "import numpy as np\n",
        "import matplotlib.pyplot as plt\n",
        "import matplotlib\n",
        "import pandas as pd\n",
        "from sklearn.linear_model import LinearRegression\n",
        "from sklearn.metrics import mean_absolute_error, mean_squared_error, r2_score\n"
      ],
      "execution_count": 2,
      "outputs": []
    },
    {
      "cell_type": "markdown",
      "metadata": {
        "id": "i1HVodue7F4M"
      },
      "source": [
        " ### Data Gathering"
      ]
    },
    {
      "cell_type": "code",
      "metadata": {
        "colab": {
          "base_uri": "https://localhost:8080/",
          "height": 197
        },
        "id": "Usrf3x-W63aU",
        "outputId": "94af09bb-5e65-41d4-ad44-34df659fefdf"
      },
      "source": [
        "dataset=pd.read_csv('https://pastebin.com/raw/JFACpGgf')\n",
        "dataset.head()"
      ],
      "execution_count": 3,
      "outputs": [
        {
          "output_type": "execute_result",
          "data": {
            "text/html": [
              "<div>\n",
              "<style scoped>\n",
              "    .dataframe tbody tr th:only-of-type {\n",
              "        vertical-align: middle;\n",
              "    }\n",
              "\n",
              "    .dataframe tbody tr th {\n",
              "        vertical-align: top;\n",
              "    }\n",
              "\n",
              "    .dataframe thead th {\n",
              "        text-align: right;\n",
              "    }\n",
              "</style>\n",
              "<table border=\"1\" class=\"dataframe\">\n",
              "  <thead>\n",
              "    <tr style=\"text-align: right;\">\n",
              "      <th></th>\n",
              "      <th>TV</th>\n",
              "      <th>Radio</th>\n",
              "      <th>Newspaper</th>\n",
              "      <th>Sales</th>\n",
              "    </tr>\n",
              "  </thead>\n",
              "  <tbody>\n",
              "    <tr>\n",
              "      <th>0</th>\n",
              "      <td>230.1</td>\n",
              "      <td>37.8</td>\n",
              "      <td>69.2</td>\n",
              "      <td>22.1</td>\n",
              "    </tr>\n",
              "    <tr>\n",
              "      <th>1</th>\n",
              "      <td>44.5</td>\n",
              "      <td>39.3</td>\n",
              "      <td>45.1</td>\n",
              "      <td>10.4</td>\n",
              "    </tr>\n",
              "    <tr>\n",
              "      <th>2</th>\n",
              "      <td>17.2</td>\n",
              "      <td>45.9</td>\n",
              "      <td>69.3</td>\n",
              "      <td>12.0</td>\n",
              "    </tr>\n",
              "    <tr>\n",
              "      <th>3</th>\n",
              "      <td>151.5</td>\n",
              "      <td>41.3</td>\n",
              "      <td>58.5</td>\n",
              "      <td>16.5</td>\n",
              "    </tr>\n",
              "    <tr>\n",
              "      <th>4</th>\n",
              "      <td>180.8</td>\n",
              "      <td>10.8</td>\n",
              "      <td>58.4</td>\n",
              "      <td>17.9</td>\n",
              "    </tr>\n",
              "  </tbody>\n",
              "</table>\n",
              "</div>"
            ],
            "text/plain": [
              "      TV  Radio  Newspaper  Sales\n",
              "0  230.1   37.8       69.2   22.1\n",
              "1   44.5   39.3       45.1   10.4\n",
              "2   17.2   45.9       69.3   12.0\n",
              "3  151.5   41.3       58.5   16.5\n",
              "4  180.8   10.8       58.4   17.9"
            ]
          },
          "metadata": {
            "tags": []
          },
          "execution_count": 3
        }
      ]
    },
    {
      "cell_type": "markdown",
      "metadata": {
        "id": "oiRWo8KY7L7r"
      },
      "source": [
        "### Model Creation"
      ]
    },
    {
      "cell_type": "code",
      "metadata": {
        "colab": {
          "base_uri": "https://localhost:8080/"
        },
        "id": "_Za5WVzB7FR_",
        "outputId": "4b0847a2-e92b-47b8-dca9-6850e5a0b195"
      },
      "source": [
        "linear_regression = LinearRegression()\n",
        "results = {\n",
        "    'R-Squared':list()\n",
        "}\n",
        "\n",
        "\n",
        "y = dataset['Sales']\n",
        "y.head()"
      ],
      "execution_count": 17,
      "outputs": [
        {
          "output_type": "execute_result",
          "data": {
            "text/plain": [
              "0    22.1\n",
              "1    10.4\n",
              "2    12.0\n",
              "3    16.5\n",
              "4    17.9\n",
              "Name: Sales, dtype: float64"
            ]
          },
          "metadata": {
            "tags": []
          },
          "execution_count": 17
        }
      ]
    },
    {
      "cell_type": "markdown",
      "metadata": {
        "id": "8oU4hWRZ7mvM"
      },
      "source": [
        "*Now were going to train the model based in selected features *\n",
        "\n",
        "So, we're going to make some feature combinations in order to check the fitness "
      ]
    },
    {
      "cell_type": "code",
      "metadata": {
        "colab": {
          "base_uri": "https://localhost:8080/"
        },
        "id": "TVdnNJJm7lJd",
        "outputId": "1481e350-5f74-404c-fc98-65d8ca8432bd"
      },
      "source": [
        "# Tv Only \n",
        "\n",
        "linear_regression.fit(dataset[['TV']],dataset[['Sales']])\n",
        "\n",
        "y_pred = linear_regression.predict(dataset[['TV']])\n",
        "tv_fitness_score = r2_score(y, y_pred)\n",
        "\n",
        "results['R-Squared'].append(tv_fitness_score)\n",
        "results"
      ],
      "execution_count": 18,
      "outputs": [
        {
          "output_type": "execute_result",
          "data": {
            "text/plain": [
              "{'R-Squared': [0.8121757029987414]}"
            ]
          },
          "metadata": {
            "tags": []
          },
          "execution_count": 18
        }
      ]
    },
    {
      "cell_type": "code",
      "metadata": {
        "colab": {
          "base_uri": "https://localhost:8080/"
        },
        "id": "gtsnkgwG8zyK",
        "outputId": "bbf58827-d0f9-4ab5-b767-95059aea8cf2"
      },
      "source": [
        "#Radio Only\n",
        "\n",
        "linear_regression.fit(dataset[['Radio']], dataset[['Sales']])\n",
        "y_pred = linear_regression.predict(dataset[['Radio']])\n",
        "radio_fitness_score = r2_score(y, y_pred)\n",
        "\n",
        "results['R-Squared'].append(radio_fitness_score)\n",
        "results"
      ],
      "execution_count": 19,
      "outputs": [
        {
          "output_type": "execute_result",
          "data": {
            "text/plain": [
              "{'R-Squared': [0.8121757029987414, 0.1222419039947863]}"
            ]
          },
          "metadata": {
            "tags": []
          },
          "execution_count": 19
        }
      ]
    },
    {
      "cell_type": "code",
      "metadata": {
        "colab": {
          "base_uri": "https://localhost:8080/"
        },
        "id": "AenPl7li9lqM",
        "outputId": "94d43576-e67d-4d4d-f2d4-dc70c6d80c19"
      },
      "source": [
        "#Newspaper Only\n",
        "\n",
        "linear_regression.fit(dataset[['Newspaper']], dataset[['Sales']])\n",
        "y_pred = linear_regression.predict(dataset[['Newspaper']])\n",
        "newspaper_fitness_score = r2_score(y, y_pred)\n",
        "\n",
        "results['R-Squared'].append(newspaper_fitness_score)\n",
        "results"
      ],
      "execution_count": 20,
      "outputs": [
        {
          "output_type": "execute_result",
          "data": {
            "text/plain": [
              "{'R-Squared': [0.8121757029987414, 0.1222419039947863, 0.024951369862864836]}"
            ]
          },
          "metadata": {
            "tags": []
          },
          "execution_count": 20
        }
      ]
    },
    {
      "cell_type": "markdown",
      "metadata": {
        "id": "z73TkkWl-CMh"
      },
      "source": [
        "**Now we're gonna add some more features to the model**"
      ]
    },
    {
      "cell_type": "code",
      "metadata": {
        "colab": {
          "base_uri": "https://localhost:8080/"
        },
        "id": "vpy40Llo99LZ",
        "outputId": "eb56f76c-9c49-4bee-8c3a-9d39a7755c52"
      },
      "source": [
        "# Tv + Radio\n",
        "\n",
        "features = ['TV','Radio']\n",
        "linear_regression.fit(dataset[features], dataset['Sales'])\n",
        "\n",
        "y_pred = linear_regression.predict(dataset[features])\n",
        "tv_radio_fitness = r2_score(y, y_pred)\n",
        "results['R-Squared'].append(tv_radio_fitness)\n",
        "results"
      ],
      "execution_count": 21,
      "outputs": [
        {
          "output_type": "execute_result",
          "data": {
            "text/plain": [
              "{'R-Squared': [0.8121757029987414,\n",
              "  0.1222419039947863,\n",
              "  0.024951369862864836,\n",
              "  0.9025896186081139]}"
            ]
          },
          "metadata": {
            "tags": []
          },
          "execution_count": 21
        }
      ]
    },
    {
      "cell_type": "code",
      "metadata": {
        "colab": {
          "base_uri": "https://localhost:8080/"
        },
        "id": "zgOADmHr-xS1",
        "outputId": "17d1b1d0-803b-43e0-da5b-aadc82f11b62"
      },
      "source": [
        "features = ['TV','Radio', 'Newspaper']\n",
        "linear_regression.fit(dataset[features], dataset['Sales'])\n",
        "\n",
        "y_pred = linear_regression.predict(dataset[features])\n",
        "tv_radio_newspp_fitness = r2_score(y, y_pred)\n",
        "results['R-Squared'].append(tv_radio_newspp_fitness)\n",
        "results"
      ],
      "execution_count": 22,
      "outputs": [
        {
          "output_type": "execute_result",
          "data": {
            "text/plain": [
              "{'R-Squared': [0.8121757029987414,\n",
              "  0.1222419039947863,\n",
              "  0.024951369862864836,\n",
              "  0.9025896186081139,\n",
              "  0.9025912899684558]}"
            ]
          },
          "metadata": {
            "tags": []
          },
          "execution_count": 22
        }
      ]
    },
    {
      "cell_type": "markdown",
      "metadata": {
        "id": "WTFh1gUa--U1"
      },
      "source": [
        "## Interpreting Results\n",
        "\n"
      ]
    },
    {
      "cell_type": "code",
      "metadata": {
        "colab": {
          "base_uri": "https://localhost:8080/",
          "height": 78
        },
        "id": "T-Fo2zQZ_Bor",
        "outputId": "cf3a2215-9aa8-42e5-b5b8-9f8c650ab546"
      },
      "source": [
        "index_header = ['TV','Radio','Newspaper','TV + Radio', 'TV + Radio + Newspaper']\n",
        "r2_df = pd.DataFrame(results, index=index_header).transpose()\n",
        "display(r2_df)"
      ],
      "execution_count": 23,
      "outputs": [
        {
          "output_type": "display_data",
          "data": {
            "text/html": [
              "<div>\n",
              "<style scoped>\n",
              "    .dataframe tbody tr th:only-of-type {\n",
              "        vertical-align: middle;\n",
              "    }\n",
              "\n",
              "    .dataframe tbody tr th {\n",
              "        vertical-align: top;\n",
              "    }\n",
              "\n",
              "    .dataframe thead th {\n",
              "        text-align: right;\n",
              "    }\n",
              "</style>\n",
              "<table border=\"1\" class=\"dataframe\">\n",
              "  <thead>\n",
              "    <tr style=\"text-align: right;\">\n",
              "      <th></th>\n",
              "      <th>TV</th>\n",
              "      <th>Radio</th>\n",
              "      <th>Newspaper</th>\n",
              "      <th>TV + Radio</th>\n",
              "      <th>TV + Radio + Newspaper</th>\n",
              "    </tr>\n",
              "  </thead>\n",
              "  <tbody>\n",
              "    <tr>\n",
              "      <th>R-Squared</th>\n",
              "      <td>0.812176</td>\n",
              "      <td>0.122242</td>\n",
              "      <td>0.024951</td>\n",
              "      <td>0.90259</td>\n",
              "      <td>0.902591</td>\n",
              "    </tr>\n",
              "  </tbody>\n",
              "</table>\n",
              "</div>"
            ],
            "text/plain": [
              "                 TV     Radio  Newspaper  TV + Radio  TV + Radio + Newspaper\n",
              "R-Squared  0.812176  0.122242   0.024951     0.90259                0.902591"
            ]
          },
          "metadata": {
            "tags": []
          }
        }
      ]
    },
    {
      "cell_type": "markdown",
      "metadata": {
        "id": "CxG6YzJ8Af5u"
      },
      "source": [
        "So in the cell above, you can se how accurate the model is being fited after we started to add some features to the regression. \n",
        "\n",
        "In this case we can concluthe that the accurate combination of features in order to get best sellings is TV, Radio and Newspapers. "
      ]
    },
    {
      "cell_type": "markdown",
      "metadata": {
        "id": "-Rlv-SxXA7hD"
      },
      "source": [
        "## Adjusted R-Squared\n",
        "\n",
        "the formula of Adjusted Rsquare is\n",
        "\n",
        "$$\\bar{R^2} = 1-(1- R^2) \\frac{(n-1)}{n-d-1} $$\n",
        "\n",
        "\n",
        "Here, ($n-1$) is the degrees of freedom that encounters the population variance of dependent output variable\n",
        "whereas ($n-d-1$) is the degrees of freedom that encounters the population variance or error.\n",
        "\n",
        "$\\bar{R^2}$ increases if and only if the increase in $R^2$ is more than one would expect to see by chanse. "
      ]
    },
    {
      "cell_type": "code",
      "metadata": {
        "id": "hCYlGWUJA-wh"
      },
      "source": [
        "adjusted_results ={\n",
        "    \"Rbar\":list()\n",
        "}\n",
        "\n",
        "def adjusted_r2(r2,n,d):\n",
        "  return 1-((1-r2) * (n-1) / (n-d-1))\n",
        "\n"
      ],
      "execution_count": 24,
      "outputs": []
    },
    {
      "cell_type": "code",
      "metadata": {
        "colab": {
          "base_uri": "https://localhost:8080/"
        },
        "id": "5lN54CbBITUo",
        "outputId": "b0d59656-14bf-4246-af48-d88db18305d9"
      },
      "source": [
        "## TV only\n",
        "tv_r2 = r2_df.iloc[0,:]['TV']\n",
        "tv_adj_r2 = adjusted_r2(tv_r2, 200,1)\n",
        "\n",
        "adjusted_results['Rbar'].append(tv_adj_r2)\n",
        "adjusted_results\n"
      ],
      "execution_count": 29,
      "outputs": [
        {
          "output_type": "execute_result",
          "data": {
            "text/plain": [
              "{'Rbar': [0.811227095438129]}"
            ]
          },
          "metadata": {
            "tags": []
          },
          "execution_count": 29
        }
      ]
    },
    {
      "cell_type": "code",
      "metadata": {
        "colab": {
          "base_uri": "https://localhost:8080/"
        },
        "id": "L3E8Zk8JJLxJ",
        "outputId": "ccf46742-f0c1-4539-d227-30d8854b389d"
      },
      "source": [
        "#Radio \n",
        "radio_r2 = r2_df.iloc[0,:]['Radio']\n",
        "radio_adj_r2 = adjusted_r2(radio_r2, 200,1)\n",
        "\n",
        "adjusted_results['Rbar'].append(radio_adj_r2)\n",
        "adjusted_results"
      ],
      "execution_count": 30,
      "outputs": [
        {
          "output_type": "execute_result",
          "data": {
            "text/plain": [
              "{'Rbar': [0.811227095438129, 0.11780878229779024]}"
            ]
          },
          "metadata": {
            "tags": []
          },
          "execution_count": 30
        }
      ]
    },
    {
      "cell_type": "code",
      "metadata": {
        "colab": {
          "base_uri": "https://localhost:8080/"
        },
        "id": "6efrpu7GJXND",
        "outputId": "85ca5120-2c57-4c88-e043-b8729e7fe761"
      },
      "source": [
        "#Newspaper \n",
        "newspaper_r2 = r2_df.iloc[0,:]['Newspaper']\n",
        "newspaper_adj_r2 = adjusted_r2(newspaper_r2, 200,1)\n",
        "\n",
        "adjusted_results['Rbar'].append(newspaper_adj_r2)\n",
        "adjusted_results"
      ],
      "execution_count": 31,
      "outputs": [
        {
          "output_type": "execute_result",
          "data": {
            "text/plain": [
              "{'Rbar': [0.811227095438129, 0.11780878229779024, 0.02002688183186918]}"
            ]
          },
          "metadata": {
            "tags": []
          },
          "execution_count": 31
        }
      ]
    },
    {
      "cell_type": "code",
      "metadata": {
        "colab": {
          "base_uri": "https://localhost:8080/"
        },
        "id": "41XojXmQJeVC",
        "outputId": "fde59206-ee8e-4aaa-fb59-847768bf4552"
      },
      "source": [
        "## Tv + Radio\n",
        "\n",
        "tv_radio_r2 = r2_df.iloc[0,:]['TV + Radio']\n",
        "tv_radio_adj_r2 = adjusted_r2(tv_radio_r2, 200,2)\n",
        "\n",
        "adjusted_results['Rbar'].append(tv_radio_adj_r2)\n",
        "adjusted_results"
      ],
      "execution_count": 33,
      "outputs": [
        {
          "output_type": "execute_result",
          "data": {
            "text/plain": [
              "{'Rbar': [0.811227095438129,\n",
              "  0.11780878229779024,\n",
              "  0.02002688183186918,\n",
              "  0.9016006807259628]}"
            ]
          },
          "metadata": {
            "tags": []
          },
          "execution_count": 33
        }
      ]
    },
    {
      "cell_type": "code",
      "metadata": {
        "colab": {
          "base_uri": "https://localhost:8080/"
        },
        "id": "tmte-AYNJ_W1",
        "outputId": "817c1869-dcd5-43a3-e132-95ca04a8a867"
      },
      "source": [
        "## Tv + Radio + Newspaper\n",
        "\n",
        "tv_radio_news_r2 = r2_df.iloc[0,:]['TV + Radio + Newspaper']\n",
        "tv_radio_news_adj_r2 = adjusted_r2(tv_radio_news_r2, 200,3)\n",
        "\n",
        "adjusted_results['Rbar'].append(tv_radio_news_adj_r2)\n",
        "adjusted_results"
      ],
      "execution_count": 35,
      "outputs": [
        {
          "output_type": "execute_result",
          "data": {
            "text/plain": [
              "{'Rbar': [0.811227095438129,\n",
              "  0.11780878229779024,\n",
              "  0.02002688183186918,\n",
              "  0.9016006807259628,\n",
              "  0.9011003403251159]}"
            ]
          },
          "metadata": {
            "tags": []
          },
          "execution_count": 35
        }
      ]
    },
    {
      "cell_type": "markdown",
      "metadata": {
        "id": "PljWS8HlKXwP"
      },
      "source": [
        "## Intepreting Adjusted Results\n"
      ]
    },
    {
      "cell_type": "code",
      "metadata": {
        "colab": {
          "base_uri": "https://localhost:8080/",
          "height": 78
        },
        "id": "rwOUIv1CKbdI",
        "outputId": "ffb871f2-7828-4539-c2f2-650c0bd8c5ae"
      },
      "source": [
        "index_header = ['TV','Radio','Newspaper','TV + Radio', 'TV + Radio + Newspaper']\n",
        "r2_adj_df = pd.DataFrame(adjusted_results, index=index_header).transpose()\n",
        "display(r2_adj_df)"
      ],
      "execution_count": 36,
      "outputs": [
        {
          "output_type": "display_data",
          "data": {
            "text/html": [
              "<div>\n",
              "<style scoped>\n",
              "    .dataframe tbody tr th:only-of-type {\n",
              "        vertical-align: middle;\n",
              "    }\n",
              "\n",
              "    .dataframe tbody tr th {\n",
              "        vertical-align: top;\n",
              "    }\n",
              "\n",
              "    .dataframe thead th {\n",
              "        text-align: right;\n",
              "    }\n",
              "</style>\n",
              "<table border=\"1\" class=\"dataframe\">\n",
              "  <thead>\n",
              "    <tr style=\"text-align: right;\">\n",
              "      <th></th>\n",
              "      <th>TV</th>\n",
              "      <th>Radio</th>\n",
              "      <th>Newspaper</th>\n",
              "      <th>TV + Radio</th>\n",
              "      <th>TV + Radio + Newspaper</th>\n",
              "    </tr>\n",
              "  </thead>\n",
              "  <tbody>\n",
              "    <tr>\n",
              "      <th>Rbar</th>\n",
              "      <td>0.811227</td>\n",
              "      <td>0.117809</td>\n",
              "      <td>0.020027</td>\n",
              "      <td>0.901601</td>\n",
              "      <td>0.9011</td>\n",
              "    </tr>\n",
              "  </tbody>\n",
              "</table>\n",
              "</div>"
            ],
            "text/plain": [
              "            TV     Radio  Newspaper  TV + Radio  TV + Radio + Newspaper\n",
              "Rbar  0.811227  0.117809   0.020027    0.901601                  0.9011"
            ]
          },
          "metadata": {
            "tags": []
          }
        }
      ]
    },
    {
      "cell_type": "markdown",
      "metadata": {
        "id": "j566yNRiKvUl"
      },
      "source": [
        "## Conclusion\n",
        "Here are the adjusted for each of the input sets. For simple linear regression, TV as input has the highest adjusted $R^2$ so it is to be chosen if we want simple linear regression.  Increasing one independent variable has increased\n",
        "adjusted too, so this feature adds a lot to fit the data points"
      ]
    }
  ]
}