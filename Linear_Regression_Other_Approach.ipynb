{
  "nbformat": 4,
  "nbformat_minor": 0,
  "metadata": {
    "colab": {
      "name": "Linear_Regression_Other_Approach.ipynb",
      "provenance": [],
      "collapsed_sections": [],
      "include_colab_link": true
    },
    "kernelspec": {
      "display_name": "Python 3",
      "language": "python",
      "name": "python3"
    },
    "language_info": {
      "codemirror_mode": {
        "name": "ipython",
        "version": 3
      },
      "file_extension": ".py",
      "mimetype": "text/x-python",
      "name": "python",
      "nbconvert_exporter": "python",
      "pygments_lexer": "ipython3",
      "version": "3.6.8"
    }
  },
  "cells": [
    {
      "cell_type": "markdown",
      "metadata": {
        "id": "view-in-github",
        "colab_type": "text"
      },
      "source": [
        "<a href=\"https://colab.research.google.com/github/roniel06/python_ml_exc/blob/main/Linear_Regression_Other_Approach.ipynb\" target=\"_parent\"><img src=\"https://colab.research.google.com/assets/colab-badge.svg\" alt=\"Open In Colab\"/></a>"
      ]
    },
    {
      "cell_type": "markdown",
      "metadata": {
        "id": "Grc1ft3U3N5h"
      },
      "source": [
        "# Linear Regression Practice\n",
        "### Student: Roniel Polanco\n",
        " <h4>FuseMachines Assignment</h4>\n"
      ]
    },
    {
      "cell_type": "markdown",
      "metadata": {
        "deletable": false,
        "editable": false,
        "id": "OP4RKcmxbYP2",
        "nbgrader": {
          "checksum": "788f7611b1b6f2a8b789cf79357adb1a",
          "grade": false,
          "grade_id": "cell-b6726afbd980198a",
          "locked": true,
          "schema_version": 1,
          "solution": false
        }
      },
      "source": [
        "# Used Motorcycle Price Prediction\n",
        "\n",
        "In this assignment you will implement a number of linear regression models to predict the price of a used motorcycle given its different features and perform necessary evaluations to check the model performance.\n",
        "\n",
        "<b><div style=\"text-align: right\">[TOTAL POINTS: 15]</div></b>\n",
        "\n",
        "### Learning Objective\n",
        "\n",
        "* Test the assumptions of linear regression and transform the dataset accordingly if necessary.\n",
        "\n",
        "* Use the sklearn library to implement linear reression, ridge regression and lasso and evaluate their and calculate their $R^2$ score. \n",
        "\n",
        "* Implement and use the adjusted $R^2$ score to evaluate the performance of models with varying set of features.\n",
        "\n",
        "* Implement the Ordinary Least Squares and Gradient descent method from scratch to find the parameters of Linear Regression.\n",
        "\n",
        "\n",
        "\n",
        "\n"
      ]
    },
    {
      "cell_type": "markdown",
      "metadata": {
        "deletable": false,
        "editable": false,
        "id": "kH4QfoxuB_tR",
        "nbgrader": {
          "checksum": "527b088be65b96c46e169e9979d60fa1",
          "grade": false,
          "grade_id": "cell-dd524d47186722b5",
          "locked": true,
          "schema_version": 1,
          "solution": false
        }
      },
      "source": [
        "## Imports"
      ]
    },
    {
      "cell_type": "code",
      "metadata": {
        "deletable": false,
        "editable": false,
        "id": "pkKSO1_5sTfJ",
        "nbgrader": {
          "checksum": "6fa9396d2fa25972e6745cff5ab229e9",
          "grade": false,
          "grade_id": "cell-0493b09dd705f865",
          "locked": true,
          "schema_version": 1,
          "solution": false
        }
      },
      "source": [
        "import numpy as np\n",
        "import pandas as pd\n",
        "import matplotlib.pyplot as plt\n",
        "from sklearn.datasets import make_regression\n",
        "from sklearn.model_selection import train_test_split\n",
        "from sklearn.linear_model import LinearRegression\n",
        "from sklearn.metrics import r2_score\n",
        "import itertools"
      ],
      "execution_count": 92,
      "outputs": []
    },
    {
      "cell_type": "markdown",
      "metadata": {
        "deletable": false,
        "editable": false,
        "id": "e9sDwvTjWuNR",
        "nbgrader": {
          "checksum": "0b27b5b73155076e3095f924320fb449",
          "grade": false,
          "grade_id": "cell-b62805968ee2f11a",
          "locked": true,
          "schema_version": 1,
          "solution": false
        }
      },
      "source": [
        "## Dataset Description\n",
        "\n",
        "The dataset contains 500 samples of used motorcycle with some of their features and their resale value. The problem here is to predict the resale value of the motorcycle using its features. \n",
        "\n",
        "**Number of Instances:** 500\n",
        "\n",
        "**Number of Attributes:** 5 (Input Features) + 1 (Target)\n",
        "\n"
      ]
    },
    {
      "cell_type": "markdown",
      "metadata": {
        "id": "t398TZYeZqFy"
      },
      "source": [
        "### Attribute Information\n",
        "\n",
        "#### **Input Features**\n",
        "All the feature values have already been scaled to a similar range so that you won't have to apply feature scaling.\n",
        "\n",
        "- **Lot No.:** Lot number of the motorcycle. Higher Lot number signifies newer motorcycle.\n",
        "\n",
        "- **Engine Size:** Size of the eingine of the motorcycle.\n",
        "\n",
        "- **Mileage:** Measure of how long the motorcycle runs for a litre of gas.\n",
        "\n",
        "- **KM Run:** Kilometers run on the motorcycle.\n",
        "\n",
        "- **Max Power:** Maximum power output of the motorcycle.\n",
        "\n",
        "\\\n",
        "\n",
        "#### **Target Variable**\n",
        "\n",
        "- **Price:** Resale value of the motorcycle in thousands. Our target variable.\n"
      ]
    },
    {
      "cell_type": "code",
      "metadata": {
        "deletable": false,
        "editable": false,
        "id": "ypY8Uj_BrMGe",
        "nbgrader": {
          "checksum": "8100933c39322a24a588075eb3168b4d",
          "grade": false,
          "grade_id": "cell-32991d83ab4a4932",
          "locked": true,
          "schema_version": 1,
          "solution": false
        },
        "colab": {
          "base_uri": "https://localhost:8080/",
          "height": 204
        },
        "outputId": "a595192e-3048-4312-d9d0-0c5e9c528cd9"
      },
      "source": [
        "dataset = pd.read_csv('https://storage.googleapis.com/codehub-data/1-lv2-A-2-used_bikes.csv')\n",
        "X = dataset.drop('Price', axis=1)\n",
        "y = dataset['Price'].values.reshape(X.shape[0],1)\n",
        "dataset.head()"
      ],
      "execution_count": 93,
      "outputs": [
        {
          "output_type": "execute_result",
          "data": {
            "text/html": [
              "<div>\n",
              "<style scoped>\n",
              "    .dataframe tbody tr th:only-of-type {\n",
              "        vertical-align: middle;\n",
              "    }\n",
              "\n",
              "    .dataframe tbody tr th {\n",
              "        vertical-align: top;\n",
              "    }\n",
              "\n",
              "    .dataframe thead th {\n",
              "        text-align: right;\n",
              "    }\n",
              "</style>\n",
              "<table border=\"1\" class=\"dataframe\">\n",
              "  <thead>\n",
              "    <tr style=\"text-align: right;\">\n",
              "      <th></th>\n",
              "      <th>Lot No.</th>\n",
              "      <th>Engine Size</th>\n",
              "      <th>Mileage</th>\n",
              "      <th>KM Run</th>\n",
              "      <th>Max Power</th>\n",
              "      <th>Price</th>\n",
              "    </tr>\n",
              "  </thead>\n",
              "  <tbody>\n",
              "    <tr>\n",
              "      <th>0</th>\n",
              "      <td>0.056646</td>\n",
              "      <td>-1.043517</td>\n",
              "      <td>0.797331</td>\n",
              "      <td>-0.222694</td>\n",
              "      <td>-1.863743</td>\n",
              "      <td>45.026610</td>\n",
              "    </tr>\n",
              "    <tr>\n",
              "      <th>1</th>\n",
              "      <td>0.238778</td>\n",
              "      <td>-0.417864</td>\n",
              "      <td>0.000508</td>\n",
              "      <td>0.866960</td>\n",
              "      <td>-0.312565</td>\n",
              "      <td>39.300833</td>\n",
              "    </tr>\n",
              "    <tr>\n",
              "      <th>2</th>\n",
              "      <td>-1.492397</td>\n",
              "      <td>0.936633</td>\n",
              "      <td>0.785432</td>\n",
              "      <td>-0.091035</td>\n",
              "      <td>2.423967</td>\n",
              "      <td>58.923446</td>\n",
              "    </tr>\n",
              "    <tr>\n",
              "      <th>3</th>\n",
              "      <td>1.132288</td>\n",
              "      <td>-0.583562</td>\n",
              "      <td>0.790543</td>\n",
              "      <td>1.262054</td>\n",
              "      <td>-1.121522</td>\n",
              "      <td>52.101286</td>\n",
              "    </tr>\n",
              "    <tr>\n",
              "      <th>4</th>\n",
              "      <td>1.318906</td>\n",
              "      <td>2.024895</td>\n",
              "      <td>0.996975</td>\n",
              "      <td>1.427730</td>\n",
              "      <td>4.410519</td>\n",
              "      <td>79.322492</td>\n",
              "    </tr>\n",
              "  </tbody>\n",
              "</table>\n",
              "</div>"
            ],
            "text/plain": [
              "    Lot No.  Engine Size   Mileage    KM Run  Max Power      Price\n",
              "0  0.056646    -1.043517  0.797331 -0.222694  -1.863743  45.026610\n",
              "1  0.238778    -0.417864  0.000508  0.866960  -0.312565  39.300833\n",
              "2 -1.492397     0.936633  0.785432 -0.091035   2.423967  58.923446\n",
              "3  1.132288    -0.583562  0.790543  1.262054  -1.121522  52.101286\n",
              "4  1.318906     2.024895  0.996975  1.427730   4.410519  79.322492"
            ]
          },
          "metadata": {
            "tags": []
          },
          "execution_count": 93
        }
      ]
    },
    {
      "cell_type": "markdown",
      "metadata": {
        "deletable": false,
        "editable": false,
        "id": "qSdqIHE7NXOL",
        "nbgrader": {
          "checksum": "1b5d7583c220791c02d6fb7b8882f13b",
          "grade": false,
          "grade_id": "cell-4f5bbe0ea558b7c8",
          "locked": true,
          "schema_version": 1,
          "solution": false
        }
      },
      "source": [
        "Let's first calculate the residuals by quickly fitting the linear regression on the whole data using sklearn."
      ]
    },
    {
      "cell_type": "code",
      "metadata": {
        "deletable": false,
        "editable": false,
        "id": "x2LkJ1D795J8",
        "nbgrader": {
          "checksum": "03f5caa1614eec7718321d48d247a69a",
          "grade": false,
          "grade_id": "cell-ab008035339fa824",
          "locked": true,
          "schema_version": 1,
          "solution": false
        }
      },
      "source": [
        "## RUN THIS CELL\n",
        "from sklearn.linear_model import LinearRegression\n",
        "model = LinearRegression().fit(X.values, y)\n",
        "y_hat = model.predict(X.values)\n",
        "residuals = y_hat - y\n"
      ],
      "execution_count": 94,
      "outputs": []
    },
    {
      "cell_type": "markdown",
      "metadata": {
        "deletable": false,
        "editable": false,
        "id": "Imey1oOsxKAr",
        "nbgrader": {
          "checksum": "f5bec1a0e95c4f5a6bc36dd1c7ab95cd",
          "grade": false,
          "grade_id": "cell-783b34fd6fcc3a5a",
          "locked": true,
          "schema_version": 1,
          "solution": false
        }
      },
      "source": [
        "## Part 1: Assumptions"
      ]
    },
    {
      "cell_type": "markdown",
      "metadata": {
        "deletable": false,
        "editable": false,
        "id": "9UE1xm7axKAs",
        "nbgrader": {
          "checksum": "ec1f4f9d24b61d18be8150fe40a88e63",
          "grade": false,
          "grade_id": "cell-ae17146385b3104f",
          "locked": true,
          "schema_version": 1,
          "solution": false
        }
      },
      "source": [
        "### Exercise 1.1: Check for multicollinearity\n",
        "\n",
        "\n",
        "**<div style=\"text-align: right\"> [POINTS: 1]</div>**\n",
        "\n",
        "\n",
        "**Task:**\n",
        "\n",
        "* Import the [`variance_inflation_factor`]() from `statsmodel` library.\n",
        "\n",
        "* Calculate the VIF score for each of the features using the `variance_inflation_factor` function."
      ]
    },
    {
      "cell_type": "code",
      "metadata": {
        "deletable": false,
        "id": "Uwu3IwwHxKAt",
        "nbgrader": {
          "checksum": "674255b7e99dc2839f3a0b68b784dbfc",
          "grade": false,
          "grade_id": "cell-422a17c733ef2dab",
          "locked": false,
          "schema_version": 1,
          "solution": true
        },
        "tags": [
          "Ex-1.1"
        ],
        "colab": {
          "base_uri": "https://localhost:8080/"
        },
        "outputId": "7ecca54f-65bf-4214-e245-580027a64e6f"
      },
      "source": [
        "from statsmodels.stats.outliers_influence import variance_inflation_factor\n",
        "\n",
        "VIF = pd.DataFrame()\n",
        "\n",
        "# YOUR CODE HERE\n",
        "VIF['Factors'] = [variance_inflation_factor(X.values, i) for i in range(X.values.shape[1])] #Calculate VIF Value for each feature\n",
        "VIF['Features'] = X.columns\n",
        "\n",
        "\n",
        "print(VIF.round(1))\n",
        "\n",
        "X = X.values"
      ],
      "execution_count": 95,
      "outputs": [
        {
          "output_type": "stream",
          "text": [
            "   Factors     Features\n",
            "0      1.0      Lot No.\n",
            "1     12.6  Engine Size\n",
            "2      1.0      Mileage\n",
            "3      1.0       KM Run\n",
            "4     12.6    Max Power\n"
          ],
          "name": "stdout"
        }
      ]
    },
    {
      "cell_type": "markdown",
      "metadata": {
        "id": "5v8rwOPTAFvi",
        "nbgrader": {
          "grade": false,
          "grade_id": "cell-67d131839b31876c",
          "locked": true,
          "schema_version": 1,
          "solution": false
        }
      },
      "source": [
        "Which two features are highly correlated?\n",
        "\n",
        " - Feature Index 1 and 4 are Highly Correlated\n",
        "\n"
      ]
    },
    {
      "cell_type": "code",
      "metadata": {
        "id": "zrdkp3ZXk1Yv",
        "colab": {
          "base_uri": "https://localhost:8080/"
        },
        "outputId": "3b4b7767-e700-409b-b0e3-43f13eae5f24"
      },
      "source": [
        "### RUN THIS CELL\n",
        "%run ex1q1.py"
      ],
      "execution_count": 96,
      "outputs": [
        {
          "output_type": "stream",
          "text": [
            "ERROR:root:File `'ex1q1.py'` not found.\n"
          ],
          "name": "stderr"
        }
      ]
    },
    {
      "cell_type": "code",
      "metadata": {
        "deletable": false,
        "editable": false,
        "id": "75-785tsdqaG",
        "nbgrader": {
          "checksum": "38618e30e29ac42b09927ec7a3047d2b",
          "grade": true,
          "grade_id": "cell-838fbd2f25fb97a2",
          "locked": true,
          "points": 1,
          "schema_version": 1,
          "solution": false
        },
        "tags": [
          "Ex-1.1"
        ]
      },
      "source": [
        "### INTENTIONALLY LEFT BLANK"
      ],
      "execution_count": 97,
      "outputs": []
    },
    {
      "cell_type": "markdown",
      "metadata": {
        "deletable": false,
        "editable": false,
        "id": "z-qrRwrekDxf",
        "nbgrader": {
          "checksum": "e49ee806698293cb15239ba797b620c6",
          "grade": false,
          "grade_id": "cell-8084300e4ca45c51",
          "locked": true,
          "schema_version": 1,
          "solution": false
        }
      },
      "source": [
        "**Removing Multicollinearity**"
      ]
    },
    {
      "cell_type": "code",
      "metadata": {
        "deletable": false,
        "editable": false,
        "id": "djB5bxT136bQ",
        "nbgrader": {
          "checksum": "5f3427f7767dfc227c1ad34ae9455454",
          "grade": false,
          "grade_id": "cell-ea2a420f1706a964",
          "locked": true,
          "schema_version": 1,
          "solution": false
        },
        "colab": {
          "base_uri": "https://localhost:8080/"
        },
        "outputId": "a6ca9a23-fae3-4408-8922-c669fbe171e3"
      },
      "source": [
        "### RUN THIS CELL\n",
        "#Inspect X before modify\\\n",
        "print('Shape of X',X.shape)\n",
        "#End inspect\n",
        "X = np.delete(X, 4, 1)\n",
        "print('Values of X Before' ,  X.shape)\n"
      ],
      "execution_count": 98,
      "outputs": [
        {
          "output_type": "stream",
          "text": [
            "Shape of X (500, 5)\n",
            "Values of X Before (500, 4)\n"
          ],
          "name": "stdout"
        }
      ]
    },
    {
      "cell_type": "markdown",
      "metadata": {
        "deletable": false,
        "editable": false,
        "id": "FjFjcqpdxKAx",
        "nbgrader": {
          "checksum": "0578fdb58976d1cb962732647f43882a",
          "grade": false,
          "grade_id": "cell-d75c860758c47627",
          "locked": true,
          "schema_version": 1,
          "solution": false
        }
      },
      "source": [
        "### Exercise 1.2: Check for Homoscedasticity\n",
        "\n",
        "**<div style=\"text-align: right\"> [POINTS: 1]</div>**\n",
        "\n",
        "**Task:**\n",
        "- Assign the appropriate value for the `x_axis` and `y_axis` to plot the scatterplot of the samples (x-axis) and their corresponding residuals (y-axis)."
      ]
    },
    {
      "cell_type": "code",
      "metadata": {
        "deletable": false,
        "id": "bD9vlL8S9BFO",
        "nbgrader": {
          "checksum": "8fd3d6f4507e01bf03c24ba91edd257d",
          "grade": false,
          "grade_id": "cell-3a8596acc63f6010",
          "locked": false,
          "schema_version": 1,
          "solution": true
        },
        "tags": [
          "Ex-1.2"
        ],
        "colab": {
          "base_uri": "https://localhost:8080/",
          "height": 295
        },
        "outputId": "40610709-a78a-4112-a24b-e938792b8dfa"
      },
      "source": [
        "x_axis = y_hat\n",
        "y_axis = residuals[:,0]\n",
        "\n",
        "# YOUR CODE HERE\n",
        "#raise NotImplementedError()\n",
        "\n",
        "plt.scatter(x=x_axis, y=y_axis, alpha=0.4)\n",
        "plt.title('Variance of Residuals')\n",
        "plt.xlabel(\"Fitted Value\")\n",
        "plt.ylabel(\"Residual\")\n",
        "plt.show()"
      ],
      "execution_count": 99,
      "outputs": [
        {
          "output_type": "display_data",
          "data": {
            "image/png": "[encoded data removed]",
            "text/plain": [
              "<Figure size 432x288 with 1 Axes>"
            ]
          },
          "metadata": {
            "tags": [],
            "needs_background": "light"
          }
        }
      ]
    },
    {
      "cell_type": "markdown",
      "metadata": {
        "nbgrader": {
          "grade": false,
          "grade_id": "cell-2bc6ba9e5f98252e",
          "locked": true,
          "schema_version": 1,
          "solution": false
        },
        "id": "6kFDIObWtiXt"
      },
      "source": [
        "Are the variance of the residuals uniform?\n",
        " - No, is not uniform\n",
        " \n"
      ]
    },
    {
      "cell_type": "code",
      "metadata": {
        "id": "kEShw91W3xxn",
        "colab": {
          "base_uri": "https://localhost:8080/"
        },
        "outputId": "e916d0e0-ecfe-4429-f993-9e5efcee55e2"
      },
      "source": [
        "### RUN THIS CELL\n",
        "%run ex1q2.py"
      ],
      "execution_count": 100,
      "outputs": [
        {
          "output_type": "stream",
          "text": [
            "ERROR:root:File `'ex1q2.py'` not found.\n"
          ],
          "name": "stderr"
        }
      ]
    },
    {
      "cell_type": "code",
      "metadata": {
        "deletable": false,
        "editable": false,
        "id": "dm8OUOB9-MBQ",
        "nbgrader": {
          "checksum": "159c97d2f0d29cb8af72140f0c433265",
          "grade": true,
          "grade_id": "cell-189542342fcbbbc3",
          "locked": true,
          "points": 1,
          "schema_version": 1,
          "solution": false
        },
        "tags": [
          "Ex-1.2"
        ]
      },
      "source": [
        "### INTENTIONALLY LEFT BLANK"
      ],
      "execution_count": 101,
      "outputs": []
    },
    {
      "cell_type": "markdown",
      "metadata": {
        "deletable": false,
        "editable": false,
        "id": "M3fV0J4M-xEp",
        "nbgrader": {
          "checksum": "556883f69e08e903112bcab2a0c3a4c1",
          "grade": false,
          "grade_id": "cell-0dffa25e49b54843",
          "locked": true,
          "schema_version": 1,
          "solution": false
        }
      },
      "source": [
        "### Exercise 1.3: Check for Auto-correlation\n",
        "\n",
        "**<div style=\"text-align: right\"> [POINTS: 1]</div>**\n",
        "\n",
        "\n",
        "**Task:**\n",
        "\n",
        "* Import the [`durbin_watson`]() from `statsmodel` library.\n",
        "\n",
        "* Calculate the `durbin_watson_score` of the residuals using the `durbin_watson` function."
      ]
    },
    {
      "cell_type": "code",
      "metadata": {
        "deletable": false,
        "id": "7ubnbDlF-14b",
        "nbgrader": {
          "checksum": "558de5754e8d34c251cf0c0adca70718",
          "grade": false,
          "grade_id": "cell-e9fefc6d6b5ab3eb",
          "locked": false,
          "schema_version": 1,
          "solution": true
        },
        "tags": [
          "Ex-1.3"
        ],
        "colab": {
          "base_uri": "https://localhost:8080/"
        },
        "outputId": "fe6bca84-b312-4135-fc60-ff94a7e59919"
      },
      "source": [
        "from statsmodels.stats.stattools import  durbin_watson\n",
        "\n",
        "\n",
        "# YOUR CODE HERE\n",
        "durbin_watson_score = durbin_watson(residuals)\n",
        "\n",
        "print(\"Durbin Watson Scrore: \",durbin_watson_score)"
      ],
      "execution_count": 102,
      "outputs": [
        {
          "output_type": "stream",
          "text": [
            "Durbin Watson Scrore:  [2.07164064]\n"
          ],
          "name": "stdout"
        }
      ]
    },
    {
      "cell_type": "markdown",
      "metadata": {
        "id": "3dwZuhV4eOLe",
        "nbgrader": {
          "grade": false,
          "grade_id": "cell-0186b64cba41d1f9",
          "locked": true,
          "schema_version": 1,
          "solution": false
        }
      },
      "source": [
        "What type of autocorrelation do the residuals have?\n",
        "\n",
        "\n"
      ]
    },
    {
      "cell_type": "code",
      "metadata": {
        "id": "4658PBhhBPpj",
        "colab": {
          "base_uri": "https://localhost:8080/"
        },
        "outputId": "09cf18e7-cd99-47c2-d696-ab64b28c31d3"
      },
      "source": [
        "### RUN THIS CELL\n",
        "%run ex1q3.py"
      ],
      "execution_count": 103,
      "outputs": [
        {
          "output_type": "stream",
          "text": [
            "ERROR:root:File `'ex1q3.py'` not found.\n"
          ],
          "name": "stderr"
        }
      ]
    },
    {
      "cell_type": "code",
      "metadata": {
        "deletable": false,
        "editable": false,
        "id": "k4P-NXEUfmtN",
        "nbgrader": {
          "checksum": "0a6c5ed3bc805801688146f339ff1341",
          "grade": true,
          "grade_id": "cell-168402cfcfe3e21a",
          "locked": true,
          "points": 1,
          "schema_version": 1,
          "solution": false
        },
        "tags": [
          "Ex-1.3"
        ]
      },
      "source": [
        "### INTENTIONALLY LEFT BLANK"
      ],
      "execution_count": 104,
      "outputs": []
    },
    {
      "cell_type": "markdown",
      "metadata": {
        "deletable": false,
        "editable": false,
        "id": "G3jPbDgq_I-a",
        "nbgrader": {
          "checksum": "ea6b1bbbb0e6f1720c8f970e8280ad97",
          "grade": false,
          "grade_id": "cell-c3b84ef1f069c690",
          "locked": true,
          "schema_version": 1,
          "solution": false
        }
      },
      "source": [
        "### Exercise 1.4: Check for Normality of residuals\n",
        "\n",
        "**<div style=\"text-align: right\"> [POINTS: 1]</div>**\n",
        "\n",
        "**Task:**\n",
        "\n",
        "* Import the [`normal_ad`]() from `statsmodel` library.\n",
        "\n",
        "* Calculate the `p_value` of the residuals using the `normal_ad` function."
      ]
    },
    {
      "cell_type": "code",
      "metadata": {
        "deletable": false,
        "id": "ix2c67dQ_JuA",
        "nbgrader": {
          "checksum": "65bc32591c4e49a1fac1c955617b03be",
          "grade": false,
          "grade_id": "cell-94bf01ebb2bd64e9",
          "locked": false,
          "schema_version": 1,
          "solution": true
        },
        "tags": [
          "Ex-1.4"
        ],
        "colab": {
          "base_uri": "https://localhost:8080/"
        },
        "outputId": "e99b0634-16f6-4507-d6dd-13e6c184dcea"
      },
      "source": [
        "from statsmodels.stats.diagnostic import normal_ad\n",
        "\n",
        "ret = normal_ad(X, axis=0)\n",
        "\n",
        "p_value = ret[1]\n",
        "\n",
        "print('P-Values for AD: ',p_value)"
      ],
      "execution_count": 105,
      "outputs": [
        {
          "output_type": "stream",
          "text": [
            "P-Values for AD:  [0.50851249 0.34172107 0.70407811 0.51228264]\n"
          ],
          "name": "stdout"
        }
      ]
    },
    {
      "cell_type": "code",
      "metadata": {
        "deletable": false,
        "editable": false,
        "id": "V522d0KM5LMC",
        "nbgrader": {
          "checksum": "0a473c35b2c1293dcf4ea87d4ec92f58",
          "grade": true,
          "grade_id": "cell-233b453dcaca9a7f",
          "locked": true,
          "points": 1,
          "schema_version": 1,
          "solution": false
        },
        "tags": [
          "Ex-1.4"
        ]
      },
      "source": [
        "### INTENTIONALLY LEFT BLANK "
      ],
      "execution_count": 106,
      "outputs": []
    },
    {
      "cell_type": "code",
      "metadata": {
        "deletable": false,
        "editable": false,
        "id": "vWLbPiGQqcVq",
        "nbgrader": {
          "checksum": "0db66d2b2e518a4cd0ef5e26e172f391",
          "grade": false,
          "grade_id": "cell-94d8bf4762958fd4",
          "locked": true,
          "schema_version": 1,
          "solution": false
        },
        "colab": {
          "base_uri": "https://localhost:8080/",
          "height": 281
        },
        "outputId": "4dc1e943-c742-47b3-b7d8-2001e18bbe02"
      },
      "source": [
        "### RUN THIS CELL\n",
        "plt.title('Distribution of Residuals')\n",
        "plt.hist(residuals)\n",
        "plt.show()"
      ],
      "execution_count": 107,
      "outputs": [
        {
          "output_type": "display_data",
          "data": {
            "image/png": "[encoded data removed]",
            "text/plain": [
              "<Figure size 432x288 with 1 Axes>"
            ]
          },
          "metadata": {
            "tags": [],
            "needs_background": "light"
          }
        }
      ]
    },
    {
      "cell_type": "markdown",
      "metadata": {
        "id": "6joALa_Tpthp"
      },
      "source": [
        "Are the residuals normally distributed?\n",
        "\n",
        " - Yes As you can see in the frequency table it has a Gaussian(normal) Distribution"
      ]
    },
    {
      "cell_type": "code",
      "metadata": {
        "id": "Mje7v9zEpsa8",
        "colab": {
          "base_uri": "https://localhost:8080/"
        },
        "outputId": "9105b5fb-c957-462a-dd7b-60eec4558cf1"
      },
      "source": [
        "### RUN THIS CELL\n",
        "\n",
        "%run ex1q4.py"
      ],
      "execution_count": 108,
      "outputs": [
        {
          "output_type": "stream",
          "text": [
            "ERROR:root:File `'ex1q4.py'` not found.\n"
          ],
          "name": "stderr"
        }
      ]
    },
    {
      "cell_type": "markdown",
      "metadata": {
        "deletable": false,
        "editable": false,
        "id": "iRQ93L5QwXQv",
        "nbgrader": {
          "checksum": "4a7ac043d69e12e464f031f347c50e11",
          "grade": false,
          "grade_id": "cell-4223fc25a791cf18",
          "locked": true,
          "schema_version": 1,
          "solution": false
        }
      },
      "source": [
        "## Train Test Split"
      ]
    },
    {
      "cell_type": "code",
      "metadata": {
        "deletable": false,
        "editable": false,
        "id": "SpFPYbbFxKAm",
        "nbgrader": {
          "checksum": "262c6caad8ae29e13c7143467b9904a1",
          "grade": false,
          "grade_id": "cell-c809c8eeb82bb349",
          "locked": true,
          "schema_version": 1,
          "solution": false
        }
      },
      "source": [
        "X_train, X_test, y_train, y_test = train_test_split(X,y, test_size=0.3, random_state=42)"
      ],
      "execution_count": 109,
      "outputs": []
    },
    {
      "cell_type": "markdown",
      "metadata": {
        "deletable": false,
        "editable": false,
        "id": "7FZS7zOnxKAy",
        "nbgrader": {
          "checksum": "2625eceb6042604cca26e4bedaab7e44",
          "grade": false,
          "grade_id": "cell-fdf5498ae35bd975",
          "locked": true,
          "schema_version": 1,
          "solution": false
        }
      },
      "source": [
        "## Part 2: Implementation using Sklearn\n",
        "\n",
        "In this section, you will implement and validate linear regression using sklearn. You will use the easy and quick interface of sklearn to try out models with different combinations of the features and select the best combination of features using the Adjusted $R^2$ score. "
      ]
    },
    {
      "cell_type": "markdown",
      "metadata": {
        "deletable": false,
        "editable": false,
        "id": "bed8MTVQxKAy",
        "nbgrader": {
          "checksum": "d72546edd5a4953327da092a30e832a4",
          "grade": false,
          "grade_id": "cell-f2ac39f2c3a8829f",
          "locked": true,
          "schema_version": 1,
          "solution": false
        }
      },
      "source": [
        "### Exercise 2.1: Adjusted $R^2$\n",
        "\n",
        "**<div style=\"text-align: right\"> [POINTS: 1]</div>**\n",
        "\n",
        "The sklearn library has a number of functions to calculate different performance metrics but it misses out on the adjusted $R^2$ score. So in this section you will implement the function `adjusted_r2_score` that computes adjusted $R^2$ score for a model.\n",
        "\n",
        "Recall: $$\\text{Adjusted}\\ {R^2} = 1- (1-R^2)\\frac{n-1}{n-d-1}$$\n",
        "\n",
        "\\\n",
        "\n",
        "**Tasks:** Complete the function `adjusted_r2_score` by computing the adjusted $R^2$ score.\n",
        "\n",
        "* Compute the $R^2$ score using the `r2_score` function from sklearn and store it in `r2`.\n",
        "\n",
        "* Compute the adjusted $R^2$ using the previously calculated $R2$ and store it in `adj_r2`. "
      ]
    },
    {
      "cell_type": "code",
      "metadata": {
        "deletable": false,
        "id": "BatxD37mxKAz",
        "nbgrader": {
          "checksum": "35c36bd9dea43fc9495aca25a4bc451d",
          "grade": false,
          "grade_id": "cell-83ee2dfb3f1ee209",
          "locked": false,
          "schema_version": 1,
          "solution": true
        },
        "tags": [
          "Ex-2.1"
        ]
      },
      "source": [
        "def adjusted_r2_score(y_test, y_pred):\n",
        "    n = X.shape[0]\n",
        "    d = X.shape[1]\n",
        "\n",
        "    r2 = r2_score(y_test, y_pred)\n",
        "    adj_r2 = 1 - ((1-r2) * (n-1) / (n-d-1))\n",
        "\n",
        "    return adj_r2"
      ],
      "execution_count": 110,
      "outputs": []
    },
    {
      "cell_type": "code",
      "metadata": {
        "colab": {
          "base_uri": "https://localhost:8080/"
        },
        "id": "dpbfKC1lfEZz",
        "outputId": "5c7a6764-b0be-462a-c046-fb2d7610989e"
      },
      "source": [
        "lr = LinearRegression()\n",
        "lr.fit(X_train,y_train)\n",
        "\n",
        "pred =lr.predict(X_test)\n",
        "print('R2:', r2_score(y_test, pred))\n",
        "print('Adjusted R2: ', adjusted_r2_score(y_test, pred))\n"
      ],
      "execution_count": 111,
      "outputs": [
        {
          "output_type": "stream",
          "text": [
            "R2: 0.9746372132291662\n",
            "Adjusted R2:  0.9744322614168767\n"
          ],
          "name": "stdout"
        }
      ]
    },
    {
      "cell_type": "code",
      "metadata": {
        "deletable": false,
        "editable": false,
        "id": "Ty4lY9leBYs_",
        "nbgrader": {
          "checksum": "3214b0ca505c3b38d9260f5b2796672f",
          "grade": true,
          "grade_id": "cell-8f71111613fd9599",
          "locked": true,
          "points": 1,
          "schema_version": 1,
          "solution": false
        },
        "tags": [
          "Ex-2.1"
        ]
      },
      "source": [
        "### INTENTIONALLY LEFT BLANK"
      ],
      "execution_count": 112,
      "outputs": []
    },
    {
      "cell_type": "markdown",
      "metadata": {
        "deletable": false,
        "editable": false,
        "id": "E_sv93VHxKA2",
        "nbgrader": {
          "checksum": "d459af76fc5ffab7e5607ac95d6d4d29",
          "grade": false,
          "grade_id": "cell-fee8a8d6f760f873",
          "locked": true,
          "schema_version": 1,
          "solution": false
        }
      },
      "source": [
        "### Exercise 2.2: Linear Regression using sklearn\n",
        "\n",
        "<b><div style=\"text-align: right\">[POINTS: 2]</div></b>\n",
        "\n",
        "In this exercise, you will use the [`LinearRegression`]() class from sklearn to build a number of linear regression models. Each model will use a particular combination of the available features. You will calculate the adjusted $R^2$ score of each of these models and see which particular combination of the features is the best.\n",
        "\n",
        "\n",
        "**Tasks:** \n",
        "\n",
        "* Instantiate an object `linear_regression` of the `LinearRegression` class.\n",
        "\n",
        "* Fit the object `linear_regression` on the temporary training set `X_train_temp`.\n",
        "\n",
        "* Use the fitted `linear_regression` object to predict the output of the temporary test set `X_test_temp`. Store the predicted values in the variable `y_pred`.\n",
        "\n",
        "* Calculate the adjusted $R^2$ score for the model using the `adjusted_r2_score` you defined earlier and store it in `adj_r2`.\n"
      ]
    },
    {
      "cell_type": "code",
      "metadata": {
        "deletable": false,
        "id": "nndNjbharMt7",
        "nbgrader": {
          "checksum": "3b714803dbec3513baa48578a52c4a13",
          "grade": false,
          "grade_id": "cell-4ab5ce07c89e83c4",
          "locked": false,
          "schema_version": 1,
          "solution": true
        },
        "tags": [
          "Ex-2.2"
        ],
        "colab": {
          "base_uri": "https://localhost:8080/"
        },
        "outputId": "e3c9935e-edb1-4bb8-a57a-41efaab7cd83"
      },
      "source": [
        "# Creating random combinations of the features\n",
        "features_combinations = []\n",
        "for L in range(1, X.shape[1]+1):\n",
        "    for subset in itertools.combinations(range(X.shape[1]), L): #Here we make a combination of the diferent models \n",
        "        features_combinations.append(list(subset))\n",
        "\n",
        "models = dict() # dictionary to store the parameters of different models\n",
        "models_r2 = dict() # dictionary to store the different model's adjusted r2 score \n",
        "\n",
        "for features in features_combinations:\n",
        "    X_train_temp = X_train[:, features]\n",
        "    X_test_temp = X_test[:, features]\n",
        "    \n",
        "    linear_regression = LinearRegression().fit(X_train_temp, y_train)\n",
        "    y_pred = linear_regression.predict(X_test_temp)\n",
        "    adj_r2 = adjusted_r2_score(y_test, y_pred)\n",
        "\n",
        "    # YOUR CODE HERE\n",
        "    \n",
        "\n",
        "    models[str(features)] = np.c_[linear_regression.intercept_, linear_regression.coef_]  \n",
        "    models_r2[str(features)] = adj_r2\n",
        "\n",
        "print(\"Different linear regression models and their adjusted r2 score\")\n",
        "for key in models_r2.keys():\n",
        "  print(\"{}: {}\".format(key, models_r2[key]))\n",
        "best = max(models_r2, key=models_r2.get)\n",
        "print(\"Best model: {} Parameters: {}\".format(best, models[best])) "
      ],
      "execution_count": 113,
      "outputs": [
        {
          "output_type": "stream",
          "text": [
            "Different linear regression models and their adjusted r2 score\n",
            "[0]: 0.1359722741951186\n",
            "[1]: 0.2811554123307879\n",
            "[2]: 0.263380957203165\n",
            "[3]: 0.2139019727421716\n",
            "[0, 1]: 0.4196704828783978\n",
            "[0, 2]: 0.47488637964989755\n",
            "[0, 3]: 0.3557706439289616\n",
            "[1, 2]: 0.6185596495462227\n",
            "[1, 3]: 0.5037594011669297\n",
            "[2, 3]: 0.4073443406712832\n",
            "[0, 1, 2]: 0.8404117424466044\n",
            "[0, 1, 3]: 0.639217851526068\n",
            "[0, 2, 3]: 0.6165822910055554\n",
            "[1, 2, 3]: 0.7555098315924497\n",
            "[0, 1, 2, 3]: 0.9744322614168768\n",
            "Best model: [0, 1, 2, 3] Parameters: [[50.25299626  7.25576172  9.57649649 10.0929504  -6.006947  ]]\n"
          ],
          "name": "stdout"
        }
      ]
    },
    {
      "cell_type": "code",
      "metadata": {
        "deletable": false,
        "editable": false,
        "id": "kjerfk4mKPe-",
        "nbgrader": {
          "checksum": "6040aa4bff999597431b8e1875771f5a",
          "grade": true,
          "grade_id": "cell-64a0f3111f3016b7",
          "locked": true,
          "points": 2,
          "schema_version": 1,
          "solution": false
        },
        "tags": [
          "Ex-2.2"
        ]
      },
      "source": [
        "### INTENTIONALLY LEFT BLANK"
      ],
      "execution_count": 114,
      "outputs": []
    },
    {
      "cell_type": "markdown",
      "metadata": {
        "deletable": false,
        "editable": false,
        "id": "fGNKpeH0yCCv",
        "nbgrader": {
          "checksum": "191c01c6c94656f68d2a035b449aa85e",
          "grade": false,
          "grade_id": "cell-9587536ae4d8e81a",
          "locked": true,
          "schema_version": 1,
          "solution": false
        }
      },
      "source": [
        "### Exercise 2.3: Ridge Regression using sklearn\n",
        "\n",
        "<b><div style=\"text-align: right\">[POINTS: 2]</div></b>\n",
        "\n",
        "In this exercise, you will use the [`Ridge`]() class from sklearn to build a ridge regression model. You will use all 4 features as you have seen that they result in the best adjusted $R^2$.\n",
        "\n",
        "**Tasks:** \n",
        "\n",
        "* Import the  `Ridge` class from sklearn and instantiate the class as `ridge_regression`.\n",
        "\n",
        "* Fit the object `rige_regression` on the  training set `X_train`.\n",
        "\n",
        "* Use the fitted `rige_regression` object to predict the output of the  test set `X_test`. Store the predicted values in the variable `y_pred`.\n",
        "\n",
        "* Calculate the $R^2$ score for the model using the [`r2_score`]() function from sklearn and store it in `r2`.\n",
        "\n"
      ]
    },
    {
      "cell_type": "code",
      "metadata": {
        "deletable": false,
        "id": "kr64wmJyutUN",
        "nbgrader": {
          "checksum": "b626a457163a8bf5499e58305447fc3f",
          "grade": false,
          "grade_id": "cell-3f77efddb56dd281",
          "locked": false,
          "schema_version": 1,
          "solution": true
        },
        "tags": [
          "Ex-2.3"
        ],
        "colab": {
          "base_uri": "https://localhost:8080/"
        },
        "outputId": "cc607ada-5127-4533-87a8-38f2fe0dbcc0"
      },
      "source": [
        "from sklearn.linear_model import Ridge\n",
        "ridge_regression = Ridge(alpha=1.0)\n",
        "ridge_regression.fit(X_train, y_train)\n",
        "y_pred = ridge_regression.predict(X_test)\n",
        "r2 = r2_score(y_test, y_pred)\n",
        "\n",
        "\n",
        "# YOUR CODE HERE\n",
        "print(ridge_regression)\n",
        "\n",
        "print(\"R2 score for Ridge Regression: \",r2)\n",
        "print(\"Parameters: \", np.c_[ridge_regression.intercept_, ridge_regression.coef_])"
      ],
      "execution_count": 115,
      "outputs": [
        {
          "output_type": "stream",
          "text": [
            "Ridge(alpha=1.0, copy_X=True, fit_intercept=True, max_iter=None,\n",
            "      normalize=False, random_state=None, solver='auto', tol=0.001)\n",
            "R2 score for Ridge Regression:  0.9746516523387053\n",
            "Parameters:  [[50.2498614   7.23318567  9.54305159 10.06760406 -5.98829548]]\n"
          ],
          "name": "stdout"
        }
      ]
    },
    {
      "cell_type": "code",
      "metadata": {
        "deletable": false,
        "editable": false,
        "id": "SmKOa4CmLaiN",
        "nbgrader": {
          "checksum": "9d8e40dab81a13c3fb045a2ae84b7c81",
          "grade": true,
          "grade_id": "cell-2d9c8e4368cf4997",
          "locked": true,
          "points": 2,
          "schema_version": 1,
          "solution": false
        },
        "tags": [
          "Ex-2.3"
        ]
      },
      "source": [
        "### INTENTIONALLY LEFT BLANK"
      ],
      "execution_count": 116,
      "outputs": []
    },
    {
      "cell_type": "markdown",
      "metadata": {
        "deletable": false,
        "editable": false,
        "id": "9lJ7KCvA6Aw1",
        "nbgrader": {
          "checksum": "101c0e9b6fa730d4973254b1973dc385",
          "grade": false,
          "grade_id": "cell-b168d1d64e24a12d",
          "locked": true,
          "schema_version": 1,
          "solution": false
        }
      },
      "source": [
        "### Exercise 2.4: LASSO Regression using sklearn\n",
        "\n",
        "<b><div style=\"text-align: right\">[POINTS: 2]</div></b>\n",
        "\n",
        "In this exercise, you will use the [`Lasso`]() class from sklearn to build a lasso regression model. You will use all 4 features as you have seen that they result in the best adjusted $R^2$.\n",
        "\n",
        "**Tasks:** \n",
        "\n",
        "* Import the  `Lasso` class from sklearn and instantiate the class as `lasso_regression`\n",
        "\n",
        "* Fit the object `lasso_regression` on the temporary training set `X_train_temp`.\n",
        "\n",
        "* Use the fitted `lasso_regression` object to predict the output of the temporary test set `X_test_temp`. Store the predicted values in the variable `y_pred`.\n",
        "\n",
        "* Calculate the $R^2$ score for the model using the [`r2_score`]() function from sklearn and store it in `r2`.\n",
        "\n"
      ]
    },
    {
      "cell_type": "code",
      "metadata": {
        "deletable": false,
        "id": "OPMOGp05vnNW",
        "nbgrader": {
          "checksum": "356664c8ae22e56a25ae5b8f68af9daf",
          "grade": false,
          "grade_id": "cell-d672323a08606f16",
          "locked": false,
          "schema_version": 1,
          "solution": true
        },
        "tags": [
          "Ex-2.4"
        ],
        "colab": {
          "base_uri": "https://localhost:8080/"
        },
        "outputId": "6af65bcb-d87c-4f0a-ebfd-181d02079326"
      },
      "source": [
        "from sklearn.linear_model import Lasso\n",
        "lasso_regression = Lasso(alpha=0.1)\n",
        "lasso_regression.fit(X_train_temp, y_train)\n",
        "y_pred = lasso_regression.predict(X_test_temp)\n",
        "r2 = r2_score(y_test,y_pred)\n",
        "\n",
        "# YOUR CODE HERE\n",
        "\n",
        "\n",
        "print(\"R2 score for Lasso Regression: \",r2)\n",
        "print(\"Parameters: \", np.r_[lasso_regression.intercept_, lasso_regression.coef_])\n",
        "# lasso.coef_\n",
        "#np.r_[lasso_regression.intercept_, lasso_regression.coef_]"
      ],
      "execution_count": 117,
      "outputs": [
        {
          "output_type": "stream",
          "text": [
            "R2 score for Lasso Regression:  0.9746938727570693\n",
            "Parameters:  [50.2393051   7.15033811  9.44860135 10.00563034 -5.90032349]\n"
          ],
          "name": "stdout"
        }
      ]
    },
    {
      "cell_type": "code",
      "metadata": {
        "deletable": false,
        "editable": false,
        "id": "EznfAsFINxae",
        "nbgrader": {
          "checksum": "8671e3d1bc4279d4c7f9c2dad7b5bbc6",
          "grade": true,
          "grade_id": "cell-6d73ade4caeaf8d3",
          "locked": true,
          "points": 2,
          "schema_version": 1,
          "solution": false
        },
        "tags": [
          "Ex-2.4"
        ]
      },
      "source": [
        "### INTENTIONALLY LEFT BLANK"
      ],
      "execution_count": 118,
      "outputs": []
    },
    {
      "cell_type": "markdown",
      "metadata": {
        "deletable": false,
        "editable": false,
        "id": "iiSf0Wdm7Lqj",
        "nbgrader": {
          "checksum": "def85e4825c0caae5b8b8920c7559f47",
          "grade": false,
          "grade_id": "cell-26f8d24d8dcbb9ea",
          "locked": true,
          "schema_version": 1,
          "solution": false
        }
      },
      "source": [
        "## Part 3: Implementation from Scratch\n",
        "\n",
        "In this section, you will implement the OLS and Gradient descent algorithm from scratch to learn the parameters of the linear regression model. But first let's add the column of ones for intercept in the training and test set."
      ]
    },
    {
      "cell_type": "code",
      "metadata": {
        "deletable": false,
        "editable": false,
        "id": "1vAtvcmC-oGg",
        "nbgrader": {
          "checksum": "ce98ac42b4d7c3d7360ed20e73d2cef4",
          "grade": false,
          "grade_id": "cell-b7b8c90bedcf1369",
          "locked": true,
          "schema_version": 1,
          "solution": false
        }
      },
      "source": [
        "### RUN THIS CELL\n",
        "X_train = np.c_[np.ones((X_train.shape[0], 1)), X_train]\n",
        "X_test = np.c_[np.ones((X_test.shape[0], 1)), X_test]"
      ],
      "execution_count": 119,
      "outputs": []
    },
    {
      "cell_type": "markdown",
      "metadata": {
        "deletable": false,
        "editable": false,
        "id": "kN9ekI1lrA5b",
        "nbgrader": {
          "checksum": "4033495d1a4d7a09615ad392e175f407",
          "grade": false,
          "grade_id": "cell-6545ab12cd16e9a8",
          "locked": true,
          "schema_version": 1,
          "solution": false
        }
      },
      "source": [
        "### Exercise 3.1: Linear Regression using OLS\n",
        "\n",
        "**<div style=\"text-align: right\"> [POINTS: 1]</div>**\n",
        "\n",
        "In this exercise, you will implement the normal equation of OLS to find the parameters of Linear regression.\n",
        "\n",
        "Recall: $$\\boldsymbol{\\beta} =(\\mathbf{X}^T\\mathbf{X})^{-1} \\mathbf{X}^T\\mathbf{y}$$\n",
        "\n",
        "\\\\\n",
        "\n",
        "**Task:**\n",
        "\n",
        "* Complete the function `normal_equation` by implementing the normal equation to find the parameters `betas`."
      ]
    },
    {
      "cell_type": "code",
      "metadata": {
        "deletable": false,
        "id": "rpSF1M03sV5N",
        "nbgrader": {
          "checksum": "f52b2860fdb801b23715be28cd8bb079",
          "grade": false,
          "grade_id": "cell-46e37415db06d702",
          "locked": false,
          "schema_version": 1,
          "solution": true
        },
        "tags": [
          "Ex-3.1"
        ],
        "colab": {
          "base_uri": "https://localhost:8080/",
          "height": 282
        },
        "outputId": "5c5b6a62-8300-4018-96f2-d227855c0785"
      },
      "source": [
        "def normal_equation(X,y):\n",
        "\n",
        "    X_transpose = X.T\n",
        "    betas = np.linalg.inv(X_transpose.dot(X)).dot(X_transpose).dot(y)\n",
        "    # YOUR CODE HERE\n",
        "    return betas\n",
        "\n",
        "model_OLS = normal_equation(X_train,y_train)\n",
        "print(\"Parameters: \", model_OLS.reshape(1,-1))\n",
        "plt.plot(model_OLS)\n",
        "plt.grid()\n",
        "plt.show()"
      ],
      "execution_count": 120,
      "outputs": [
        {
          "output_type": "stream",
          "text": [
            "Parameters:  [[50.25299626  7.25576172  9.57649649 10.0929504  -6.006947  ]]\n"
          ],
          "name": "stdout"
        },
        {
          "output_type": "display_data",
          "data": {
            "image/png": "[encoded data removed]",
            "text/plain": [
              "<Figure size 432x288 with 1 Axes>"
            ]
          },
          "metadata": {
            "tags": [],
            "needs_background": "light"
          }
        }
      ]
    },
    {
      "cell_type": "code",
      "metadata": {
        "deletable": false,
        "editable": false,
        "id": "-bhOOQAqUTKL",
        "nbgrader": {
          "checksum": "3b1a09a14b84eddd5b6a77a7983b2887",
          "grade": true,
          "grade_id": "cell-a5360b24d4331c58",
          "locked": true,
          "points": 1,
          "schema_version": 1,
          "solution": false
        },
        "tags": [
          "Ex-3.1"
        ]
      },
      "source": [
        "### INTENTIONALLY LEFT BLANK"
      ],
      "execution_count": 121,
      "outputs": []
    },
    {
      "cell_type": "markdown",
      "metadata": {
        "deletable": false,
        "editable": false,
        "id": "uWdzcJSJmlXG",
        "nbgrader": {
          "checksum": "3148361bb7886b88c654215823b290ca",
          "grade": false,
          "grade_id": "cell-97b1af6522db2f3c",
          "locked": true,
          "schema_version": 1,
          "solution": false
        }
      },
      "source": [
        "### Exercise 3.2: Linear Regression using Gradient Descent\n",
        "**<div style=\"text-align: right\"> [POINTS: 3]</div>**\n",
        "\n",
        "In this exercise, you will mplement the gradient descent algorithm to find the parameters of linear regression.\n",
        "\n",
        "**Tasks:** Complete the following function to implement the gradient descent algorithm.\n",
        "\n",
        "* Initialize `betas` randomly from values sampled from normal distribution\n",
        "\n",
        "* Calculate the `gradients` for the `betas`. $[\\frac{\\boldsymbol{\\partial J}}{\\boldsymbol{\\partial \\beta}}= \\mathbf{X^T}(\\mathbf{\\hat{y}-y})]$ \n",
        "\n",
        "* Update the `betas` using their `gradients`.$[\\boldsymbol{\\beta} := \\boldsymbol{\\beta} - \\alpha \\boldsymbol{\\frac{\\partial J}{\\partial \\beta}}]$\n",
        "\n",
        "* Calculate the cost for the `betas` using the Linear Regression's cost function. $[J(\\boldsymbol{\\beta}) = \\frac{1}{2}\\ \\sum(\\mathbf{X}\\boldsymbol{\\beta} - \\mathbf{y})^2]$\n",
        "\n"
      ]
    },
    {
      "cell_type": "code",
      "metadata": {
        "id": "Wzh709OdycEZ"
      },
      "source": [
        "def initialize_betas(X,y):\n",
        "  np.random.seed(0)\n",
        "  betas = np.random.randn(X.shape[1],1) #Number of features \n",
        "  return betas\n"
      ],
      "execution_count": 122,
      "outputs": []
    },
    {
      "cell_type": "code",
      "metadata": {
        "colab": {
          "base_uri": "https://localhost:8080/"
        },
        "id": "n7pCuwy70TLB",
        "outputId": "d78172b6-2a6a-4bb0-e623-11acf81c659f"
      },
      "source": [
        "# Inspect Betas\n",
        "initialize_betas(X_train,y_train)"
      ],
      "execution_count": 123,
      "outputs": [
        {
          "output_type": "execute_result",
          "data": {
            "text/plain": [
              "array([[1.76405235],\n",
              "       [0.40015721],\n",
              "       [0.97873798],\n",
              "       [2.2408932 ],\n",
              "       [1.86755799]])"
            ]
          },
          "metadata": {
            "tags": []
          },
          "execution_count": 123
        }
      ]
    },
    {
      "cell_type": "markdown",
      "metadata": {
        "id": "lSFNelFc1r1v"
      },
      "source": [
        "### Cost Function\n",
        "$J(\\beta) = {1\\over{2}} \\sum{(X\\beta - y)^2}$"
      ]
    },
    {
      "cell_type": "code",
      "metadata": {
        "id": "CHE7RYaE1aTh"
      },
      "source": [
        "def calculate_cost(betas,X, y):\n",
        "  dot_product =np.dot(X, betas)\n",
        "  return 1/2 * np.sum(np.square(dot_product - y))"
      ],
      "execution_count": 124,
      "outputs": []
    },
    {
      "cell_type": "code",
      "metadata": {
        "colab": {
          "base_uri": "https://localhost:8080/"
        },
        "id": "OdrrxPZy3LkZ",
        "outputId": "1aa625bf-89ea-4747-f6a4-a78c5ae56e78"
      },
      "source": [
        "# inspect Cost\n",
        "betas =initialize_betas(X_train,y_train)\n",
        "calculate_cost(betas,X_train,y_train)"
      ],
      "execution_count": 125,
      "outputs": [
        {
          "output_type": "execute_result",
          "data": {
            "text/plain": [
              "437173.1511044539"
            ]
          },
          "metadata": {
            "tags": []
          },
          "execution_count": 125
        }
      ]
    },
    {
      "cell_type": "markdown",
      "metadata": {
        "id": "q2sAUvpO4UG8"
      },
      "source": [
        "### Calculate Gradients\n",
        " $[\\frac{\\boldsymbol{\\partial J}}{\\boldsymbol{\\partial \\beta}}= \\mathbf{X^T}(\\mathbf{\\hat{y}-y})]$\n",
        " "
      ]
    },
    {
      "cell_type": "code",
      "metadata": {
        "id": "HWjzTyqx4SwR"
      },
      "source": [
        "def calculate_gradients(betas, X, y):\n",
        "  y_hat = np.dot(X,betas)\n",
        "  return np.dot(X.T, (y_hat - y))\n"
      ],
      "execution_count": 126,
      "outputs": []
    },
    {
      "cell_type": "code",
      "metadata": {
        "deletable": false,
        "id": "CX5--5EQedbV",
        "nbgrader": {
          "checksum": "b8a3e17124a41417edf86522772ef233",
          "grade": false,
          "grade_id": "cell-5a69d73a48281700",
          "locked": false,
          "schema_version": 1,
          "solution": true
        },
        "tags": [
          "Ex-3.2"
        ],
        "colab": {
          "base_uri": "https://localhost:8080/"
        },
        "outputId": "5d6018de-c156-4ae1-e39f-c0f8c2c4c283"
      },
      "source": [
        "def gradient_descent(X, y, alpha=0.0001 , max_iters=10000, precision = 1e-3):\n",
        "  np.random.seed(0)\n",
        "  n = X.shape[0]\n",
        "  d = X.shape[1]\n",
        "\n",
        "  iteration = 0 # no. of iterations\n",
        "  difference = 1 # difference between the cost of current iteration and previous iteration\n",
        "  costs = [1e12] # list containing the history of costs for different iterations \n",
        "  \n",
        "  betas = None\n",
        "  gradients = None\n",
        "  cost = None\n",
        "\n",
        "  # Initialize betas\n",
        "  # YOUR CODE HERE\n",
        "  betas = initialize_betas(X,y)\n",
        "  \n",
        "  while difference > precision and iteration <= max_iters :\n",
        "    \n",
        "    # Calculate gradients\n",
        "    # YOUR CODE HERE\n",
        "    gradients = calculate_gradients(betas,X,y)\n",
        "\n",
        "    # Update betas\n",
        "    # YOUR CODE HERE\n",
        "    betas  = betas - alpha * gradients\n",
        "\n",
        "    # Calculate cost\n",
        "    # YOUR CODE HERE\n",
        "    cost = calculate_cost(betas, X, y)\n",
        "    \n",
        "    difference = np.abs(costs[iteration] - cost) \n",
        "    costs.append(cost)\n",
        "    \n",
        "    iteration += 1\n",
        "    \n",
        "    if(cost == np.infty):\n",
        "      print(\"Cost reached infinity, try smaller learning rate\")\n",
        "      break\n",
        "    \n",
        "  return betas, iteration, costs\n",
        "\n",
        "model_GD, steps, costs = gradient_descent(X_train, y_train, alpha=0.0009)\n",
        "print(\"Parameters: \", model_GD.reshape(1,-1))"
      ],
      "execution_count": 127,
      "outputs": [
        {
          "output_type": "stream",
          "text": [
            "Parameters:  [[50.2517799   7.25534005  9.57489678 10.09293198 -6.00584191]]\n"
          ],
          "name": "stdout"
        }
      ]
    },
    {
      "cell_type": "code",
      "metadata": {
        "colab": {
          "base_uri": "https://localhost:8080/",
          "height": 295
        },
        "id": "4ntOgS3T8B1q",
        "outputId": "716012ce-4f14-4a18-97c6-d39d50dcf62c"
      },
      "source": [
        "#Plotting Costs \n",
        "\n",
        "plt.plot(costs)\n",
        "plt.title('Costs')\n",
        "plt.xlabel('No. Of iterations')\n",
        "plt.ylabel('Cost')\n",
        "plt.ylim(min(costs), 1500)\n",
        "plt.xlim(10,40)\n",
        "plt.grid()\n",
        "plt.show()"
      ],
      "execution_count": 130,
      "outputs": [
        {
          "output_type": "display_data",
          "data": {
            "image/png": "[encoded data removed]",
            "text/plain": [
              "<Figure size 432x288 with 1 Axes>"
            ]
          },
          "metadata": {
            "tags": [],
            "needs_background": "light"
          }
        }
      ]
    },
    {
      "cell_type": "code",
      "metadata": {
        "deletable": false,
        "editable": false,
        "id": "3PWr7HG7a7iy",
        "nbgrader": {
          "checksum": "605317ba077627d131d391401684b90d",
          "grade": true,
          "grade_id": "cell-b499e2072401f33b",
          "locked": true,
          "points": 3,
          "schema_version": 1,
          "solution": false
        },
        "tags": [
          "Ex-3.2"
        ]
      },
      "source": [
        "### INTENTIONALLY LEFT BLANK"
      ],
      "execution_count": 129,
      "outputs": []
    },
    {
      "cell_type": "markdown",
      "metadata": {
        "id": "EZlgJ4YU36xP"
      },
      "source": [
        "#### Well done!"
      ]
    }
  ]
}