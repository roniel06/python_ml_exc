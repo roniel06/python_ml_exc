{
  "nbformat": 4,
  "nbformat_minor": 0,
  "metadata": {
    "colab": {
      "name": "Math_Practice_Puzzles.ipynb",
      "provenance": [],
      "collapsed_sections": [],
      "include_colab_link": true
    },
    "kernelspec": {
      "name": "python3",
      "display_name": "Python 3"
    },
    "language_info": {
      "name": "python"
    }
  },
  "cells": [
    {
      "cell_type": "markdown",
      "metadata": {
        "id": "view-in-github",
        "colab_type": "text"
      },
      "source": [
        "<a href=\"https://colab.research.google.com/github/roniel06/python_ml_exc/blob/main/Math_Practice_Puzzles.ipynb\" target=\"_parent\"><img src=\"https://colab.research.google.com/assets/colab-badge.svg\" alt=\"Open In Colab\"/></a>"
      ]
    },
    {
      "cell_type": "markdown",
      "metadata": {
        "id": "TUHDr2jb0EYZ"
      },
      "source": [
        "# Puzzles Practice\n",
        "## Author: Roniel Polanco\n"
      ]
    },
    {
      "cell_type": "markdown",
      "metadata": {
        "id": "3Ze7DFjn0Tn7"
      },
      "source": [
        "## Imports"
      ]
    },
    {
      "cell_type": "code",
      "metadata": {
        "id": "MeE3UR6jjZw-"
      },
      "source": [
        "import random\n",
        "import numpy as np\n",
        "import math\n",
        "import sympy as sp\n",
        "from itertools import product \n",
        "from matplotlib import pyplot as plt\n",
        "from sympy.plotting import plot\n",
        "\n",
        "\n",
        "\n",
        "random.seed(31)\n",
        "\n",
        "def binom(n,k):\n",
        "  return math.factorial(n)/(math.factorial(n-k)*math.factorial(k))"
      ],
      "execution_count": null,
      "outputs": []
    },
    {
      "cell_type": "markdown",
      "metadata": {
        "id": "ZWjXUvl0BtBN"
      },
      "source": [
        "# Exercise 1.6\n",
        "\n",
        "Two pennies, one with $P(\\mbox{head}) = u$ and one with $P(\\mbox{head}) = w$, are to be tossed together independently. Define:\n",
        "\n",
        "$$p_0 = P(\\mbox{0 heads occur})$$\n",
        "$$p_1 = P(\\mbox{1 heads occur})$$\n",
        "$$p_2 = P(\\mbox{2 heads occur})$$\n",
        "\n",
        "Can $u$ and $w$ be chosen such that $p_0 = p_1 = p_2$?"
      ]
    },
    {
      "cell_type": "code",
      "metadata": {
        "colab": {
          "base_uri": "https://localhost:8080/"
        },
        "id": "zRUrI6GzBsSM",
        "outputId": "3305177e-786f-44c4-b4bf-f4681923e2e4"
      },
      "source": [
        "\n",
        "\n",
        "u,w = 0.5, 0.5\n",
        "C = np.array(['H', 'T'])\n",
        "\n",
        "list(product(C, C))"
      ],
      "execution_count": null,
      "outputs": [
        {
          "output_type": "execute_result",
          "data": {
            "text/plain": [
              "[('H', 'H'), ('H', 'T'), ('T', 'H'), ('T', 'T')]"
            ]
          },
          "metadata": {
            "tags": []
          },
          "execution_count": 4
        }
      ]
    },
    {
      "cell_type": "markdown",
      "metadata": {
        "id": "8VOx12MRme-k"
      },
      "source": [
        "$$p_0 = (1-u)(1-w) = 1 - u - w + uw \\\\\n",
        "p_1 = (1-w)u + (1-u)w = u + w - 2uw \\\\\n",
        "p_2 = uw $$\n",
        "\n",
        "\n",
        "---\n",
        "Asuma que:\n",
        "$$p_0 = p_1 = p_2 = p$$\n",
        "\n",
        "Por lo tanto:\n",
        "$$ p_0 + p_1 + p_2 = 3p = 1$$\n",
        "$$ p = 1/3$$\n",
        "\n",
        "Defina las siguientes ecuaciones a partir de las definiciones de probabilidades mas arriba:\n",
        "\n",
        "$$ uw = \\frac{1}{3}$$\n",
        "$$ u + w - 2uw = 1/3 $$\n",
        "\n",
        "Resuelva para $u$:\n",
        "\n",
        "$$ u + \\frac{1}{3u} - \\frac{2}{3} = \\frac{1}{3} $$\n",
        "\n",
        "$$3u^2 +1 - 2u = u$$\n",
        "\n",
        "debido a que $u$ es una probabilidad debe estar en el rango [0,1] mas sin embargo u no tiene solucion en dicho dominio para el sistema de ecuacion arriba. Por lo tanto $p_0 \\neq p_1$.\n"
      ]
    },
    {
      "cell_type": "code",
      "metadata": {
        "colab": {
          "base_uri": "https://localhost:8080/",
          "height": 300
        },
        "id": "5fldicjuTxEa",
        "outputId": "3fd9b083-8531-41ff-ca83-8503659ceded"
      },
      "source": [
        "fig = plt.figure(figsize=(12,4))\n",
        "\n",
        "u = np.linspace(0, 1)\n",
        "w = np.linspace(0, 1)\n",
        "U, W = np.meshgrid(u, w)\n",
        "\n",
        "P_0 = lambda u,w: (1-u)*(1-w)\n",
        "P_1 = lambda u,w: u*(1-w) + (1-u)*w \n",
        "P_2 = lambda u,w: u*w\n",
        "\n",
        "\n",
        "for i, P in enumerate([P_0, P_1, P_2]):\n",
        "  plt.subplot(131 + i)\n",
        "  countour = plt.contourf(U, W, P(U,W));\n",
        "  plt.xlabel('u')\n",
        "  plt.ylabel('w')\n",
        "\n",
        "\n",
        "fig.subplots_adjust(right=0.8)\n",
        "cbar_ax = fig.add_axes([0.85, 0.12, 0.05, 0.76])\n",
        "fig.colorbar(countour, cax=cbar_ax) "
      ],
      "execution_count": null,
      "outputs": [
        {
          "output_type": "execute_result",
          "data": {
            "text/plain": [
              "<matplotlib.colorbar.Colorbar at 0x7f7876509210>"
            ]
          },
          "metadata": {
            "tags": []
          },
          "execution_count": 5
        },
        {
          "output_type": "display_data",
          "data": {
            "image/png": "[encoded data removed]",
            "text/plain": [
              "<Figure size 864x288 with 4 Axes>"
            ]
          },
          "metadata": {
            "tags": [],
            "needs_background": "light"
          }
        }
      ]
    },
    {
      "cell_type": "markdown",
      "metadata": {
        "id": "uKn8VHcXwRQD"
      },
      "source": [
        "Observe que $u$ y $w$ son distintos en cada grafico para $p_0 = 0.3$, $p_1 = 0.3$, y $p_2 = 0.3$ "
      ]
    },
    {
      "cell_type": "markdown",
      "metadata": {
        "id": "syv68h3qC7Os"
      },
      "source": [
        "# Exercise 1.16\n",
        "How many differenmt sets of initials can be formed if every person has suername and \n",
        "\n",
        "a. exactly two give names?\n",
        "Esto es \\|$A \\times A$\\|\n",
        "\n",
        "b. either one or two given names? Esto es $|A \\times A| + |A \\times A \\times A|$ = 26^2 + 26^3\n",
        "\n",
        "c. either one or two or three given names? Esto es $ |A| + |A \\times A| + |A \\times A \\times A|$ = 26 + 26^2 + 26^3"
      ]
    },
    {
      "cell_type": "code",
      "metadata": {
        "id": "lka644i1DbVu",
        "colab": {
          "base_uri": "https://localhost:8080/"
        },
        "outputId": "04df489c-2871-4ba3-ef8f-ed780c79f4ec"
      },
      "source": [
        "A = list('abcdefghijklmnopqrstuvwxyz') \n",
        "\n",
        "a = list(product(A, A, A))\n",
        "print(a[:10])\n",
        "print(len(a))\n",
        "print(len(a) == 26**3)"
      ],
      "execution_count": null,
      "outputs": [
        {
          "output_type": "stream",
          "text": [
            "[('a', 'a', 'a'), ('a', 'a', 'b'), ('a', 'a', 'c'), ('a', 'a', 'd'), ('a', 'a', 'e'), ('a', 'a', 'f'), ('a', 'a', 'g'), ('a', 'a', 'h'), ('a', 'a', 'i'), ('a', 'a', 'j')]\n",
            "17576\n",
            "True\n"
          ],
          "name": "stdout"
        }
      ]
    },
    {
      "cell_type": "code",
      "metadata": {
        "colab": {
          "base_uri": "https://localhost:8080/"
        },
        "id": "DOGd3_EF43tp",
        "outputId": "792156bd-fe76-45a6-cd61-777c93adc5fd"
      },
      "source": [
        "a = list(product(A, A, A))\n",
        "b = list(product(A, A,))\n",
        "print(a[:10])\n",
        "print(b[:10])\n",
        "print(len(a) + len(b))\n",
        "print(len(a) + len(b) == 26**2 + 26**3)"
      ],
      "execution_count": null,
      "outputs": [
        {
          "output_type": "stream",
          "text": [
            "[('a', 'a', 'a'), ('a', 'a', 'b'), ('a', 'a', 'c'), ('a', 'a', 'd'), ('a', 'a', 'e'), ('a', 'a', 'f'), ('a', 'a', 'g'), ('a', 'a', 'h'), ('a', 'a', 'i'), ('a', 'a', 'j')]\n",
            "[('a', 'a'), ('a', 'b'), ('a', 'c'), ('a', 'd'), ('a', 'e'), ('a', 'f'), ('a', 'g'), ('a', 'h'), ('a', 'i'), ('a', 'j')]\n",
            "18252\n",
            "True\n"
          ],
          "name": "stdout"
        }
      ]
    },
    {
      "cell_type": "markdown",
      "metadata": {
        "id": "nyrJwXks6yC6"
      },
      "source": [
        "# Exercise 1.17\n",
        "In the game of dominoes, each piece is marked with two numbers. The pieces are symmetrical so that the number is not ordered (so, for example (2,6) = (6,2)).\n",
        "\n",
        "How many differente pieces can be formed using the numbers 1,2,...,n?\n"
      ]
    },
    {
      "cell_type": "code",
      "metadata": {
        "id": "e7V7Cz9h8txU"
      },
      "source": [
        "N = 6 # use any number here"
      ],
      "execution_count": null,
      "outputs": []
    },
    {
      "cell_type": "code",
      "metadata": {
        "colab": {
          "base_uri": "https://localhost:8080/"
        },
        "id": "zoJuE-qo6qTn",
        "outputId": "880312e5-7e6a-4fbf-9237-c7070d99ea3e"
      },
      "source": [
        "# brute force approach\n",
        "pieces = []\n",
        "for i in range(1,N+1):\n",
        "  for j in range(i, N+1):\n",
        "    pieces.append((i,j))\n",
        "\n",
        "print(pieces)\n",
        "len(pieces)\n"
      ],
      "execution_count": null,
      "outputs": [
        {
          "output_type": "stream",
          "text": [
            "[(1, 1), (1, 2), (1, 3), (1, 4), (1, 5), (1, 6), (2, 2), (2, 3), (2, 4), (2, 5), (2, 6), (3, 3), (3, 4), (3, 5), (3, 6), (4, 4), (4, 5), (4, 6), (5, 5), (5, 6), (6, 6)]\n"
          ],
          "name": "stdout"
        },
        {
          "output_type": "execute_result",
          "data": {
            "text/plain": [
              "21"
            ]
          },
          "metadata": {
            "tags": []
          },
          "execution_count": 9
        }
      ]
    },
    {
      "cell_type": "markdown",
      "metadata": {
        "id": "lATa8ugt9jgc"
      },
      "source": [
        "Esto es n (piezas con lados iguales) mas la cantidad total de piezas obtenidadas al tomar 2 numeros de un total de n:\n",
        "\n",
        "$$ N + \\binom{n}{2} = \\frac{n!}{(n-2)!2!} = \\frac{n(n-1)}{2}$$"
      ]
    },
    {
      "cell_type": "code",
      "metadata": {
        "colab": {
          "base_uri": "https://localhost:8080/"
        },
        "id": "QgO6fiv39jLm",
        "outputId": "c93838e1-af83-43b4-bdff-a5655457d565"
      },
      "source": [
        "print(\"Cantidad total de piezas que pueden ser formadas: \",N + N*(N-1)/2)"
      ],
      "execution_count": null,
      "outputs": [
        {
          "output_type": "stream",
          "text": [
            "Cantidad total de piezas que pueden ser formadas:  21.0\n"
          ],
          "name": "stdout"
        }
      ]
    },
    {
      "cell_type": "markdown",
      "metadata": {
        "id": "GeT6Bi1VDbmV"
      },
      "source": [
        "# Exercise 1.21\n",
        "A closet contains $n$ pairs of shoes. If $2r$ shoes are chosen at random ($2r \\lt n$) what is the probability that there will be no matching pair in the sample?\n",
        "  \n",
        "\n",
        "\n",
        "\n",
        "\n",
        "\n",
        "\n",
        "\n",
        "\n",
        "\n",
        "\n",
        "\n",
        "\n",
        "\n",
        "\n",
        "\n",
        "\n",
        "\n",
        "\n",
        "\n",
        "\n",
        "\n",
        "\n",
        "\n",
        "\n",
        "\n",
        "\n",
        "\n",
        "\n",
        "  "
      ]
    },
    {
      "cell_type": "code",
      "metadata": {
        "colab": {
          "base_uri": "https://localhost:8080/"
        },
        "id": "JsWyYHqYGtDx",
        "outputId": "b3b0e26d-dc19-484a-9f14-59b59e7974f4"
      },
      "source": [
        "n,r = 5,2\n",
        "#Distribucion Binomial\n",
        "\n",
        "def binom(n,k):\n",
        "  return math.factorial(n)/(math.factorial(n-k)*math.factorial(k))\n",
        "\n",
        "#Calculo de la probabilidad\n",
        "def p(n, r):\n",
        "  return binom(n, 2*r) * 2**(2*r) / binom(2*n, 2*r)\n",
        "\n",
        "p = p(n,r)\n",
        "print(\"La probabilidad de que no hayan pares iguales es:\",p)"
      ],
      "execution_count": null,
      "outputs": [
        {
          "output_type": "stream",
          "text": [
            "La probabilidad de que no hayan pares iguales es: 0.38095238095238093\n"
          ],
          "name": "stdout"
        }
      ]
    },
    {
      "cell_type": "code",
      "metadata": {
        "colab": {
          "base_uri": "https://localhost:8080/"
        },
        "id": "sWp4sFzTX9dH",
        "outputId": "7a79204a-e420-4ba5-e03e-b64c5735eb0b"
      },
      "source": [
        "#En este proceso se puede presentar que mientas mas iteraciones se den, mas se\n",
        "# Mas pequeños son los valores en Y\n",
        "\n",
        "import collections\n",
        "\n",
        "I = lambda S: 0 if any(2*i in S and (2*i+1) in S for i in range(n)) else 1\n",
        "\n",
        "line = []\n",
        "lo, hi = 10, 1000\n",
        "for i in range(lo, hi):\n",
        "  rv = []\n",
        "  for j in range(i):\n",
        "    s = np.random.choice(2*n,2*r,replace=False)\n",
        "    rv.append(I(s))\n",
        "  rv = np.array(rv)\n",
        "  line.append(rv[rv==1].shape[0] / i)\n",
        "\n",
        "print(line[-1])"
      ],
      "execution_count": null,
      "outputs": [
        {
          "output_type": "stream",
          "text": [
            "0.39039039039039036\n"
          ],
          "name": "stdout"
        }
      ]
    },
    {
      "cell_type": "code",
      "metadata": {
        "colab": {
          "base_uri": "https://localhost:8080/",
          "height": 282
        },
        "id": "oKEKeYZjJg8e",
        "outputId": "5144468a-dea7-4dde-f527-4f004f9ee3a8"
      },
      "source": [
        "plt.plot(np.arange(lo, hi), line)\n",
        "plt.plot([lo, hi],[p,p], color='red')\n"
      ],
      "execution_count": null,
      "outputs": [
        {
          "output_type": "execute_result",
          "data": {
            "text/plain": [
              "[<matplotlib.lines.Line2D at 0x7f7875cabb50>]"
            ]
          },
          "metadata": {
            "tags": []
          },
          "execution_count": 13
        },
        {
          "output_type": "display_data",
          "data": {
            "image/png": "[encoded data removed]",
            "text/plain": [
              "<Figure size 432x288 with 1 Axes>"
            ]
          },
          "metadata": {
            "tags": [],
            "needs_background": "light"
          }
        }
      ]
    },
    {
      "cell_type": "markdown",
      "metadata": {
        "id": "0hGAwLJ5yKyn"
      },
      "source": [
        "# Exercise 1.22\n",
        "\n",
        "a. In a draft lottery containing the 366 days of the year (including February 29) what is the probability that first 180 days draw (without replacement) are evenly distribuited among the 12 months.\n",
        "\n",
        "A: Seleccionar 180 dias tal que cada cada mes tenga la misma cantidad de dias.\n",
        "S: Seleccinoar 180 dias de 366.\n",
        "\n",
        "Tienes $\\binom{31}{15}$ formas de seleccionar 15 dias de cada uno de los 7 meses de 31 dias, $\\binom{30}{15}$  formas de seleccionar 15 dias de cada uno de los 4 meses de 30 dias y finalmente $\\binom{29}{15}$ forma de seleccionar 15 dias del mes de febrero. Esto es:\n",
        "\n",
        "$$ |A| = \\binom{31}{15}^7 + \\binom{30}{15}^4 + \\binom{29}{15} $$\n",
        "\n",
        "Ademas el espacio muestral es $|S| = \\binom{366}{180}$. Asi que la probabilidad seria:\n",
        "\n",
        "$$ P(A) = \\frac{|A|}{|S|} = \\frac{\\binom{31}{15}^7 + \\binom{30}{15}^4 + \\binom{29}{15}}{\\binom{366}{180}} $$"
      ]
    },
    {
      "cell_type": "code",
      "metadata": {
        "colab": {
          "base_uri": "https://localhost:8080/"
        },
        "id": "003GTl9DyL10",
        "outputId": "5305c734-bd01-4bbb-923c-518df2d9b4c5"
      },
      "source": [
        "A_card = binom(31,15)**7 * binom(30, 15)**4 * binom(29,15)\n",
        "S_card = binom(366, 180)\n",
        "\n",
        "P = A_card / S_card\n",
        "P"
      ],
      "execution_count": null,
      "outputs": [
        {
          "output_type": "execute_result",
          "data": {
            "text/plain": [
              "1.6672947199721384e-09"
            ]
          },
          "metadata": {
            "tags": []
          },
          "execution_count": 14
        }
      ]
    },
    {
      "cell_type": "markdown",
      "metadata": {
        "id": "sP0PR1zp3NGO"
      },
      "source": [
        "b. What is the probability that the first 30 days drawn contain none from September?\n",
        "\n",
        "B = Primeros 30 dias seleccionado ninguno pertenece al mes de septiembre.\n",
        "\n",
        "S = Seleccionar 30 dias de 366\n",
        "\n",
        "$$ \n",
        "|B| = \\binom{366-30}{30} \\\\\n",
        "|S| = \\binom{366}{30} \\\\\n",
        "P(B) = \\frac{|B|}{|S|} = \\frac{\\binom{335}{30}}{\\binom{366}{30}}\n",
        "$$"
      ]
    },
    {
      "cell_type": "code",
      "metadata": {
        "id": "GWU1XX53oPk-",
        "colab": {
          "base_uri": "https://localhost:8080/"
        },
        "outputId": "df18136e-59c4-4d33-9497-c95c9a61493b"
      },
      "source": [
        "B_card = binom(366-30,30)\n",
        "S2_card = binom(366, 30)\n",
        "\n",
        "P_2 = B_card / S2_card\n",
        "P_2"
      ],
      "execution_count": null,
      "outputs": [
        {
          "output_type": "execute_result",
          "data": {
            "text/plain": [
              "0.06869054127127916"
            ]
          },
          "metadata": {
            "tags": []
          },
          "execution_count": 15
        }
      ]
    },
    {
      "cell_type": "code",
      "metadata": {
        "id": "cK05MlTBfFqU"
      },
      "source": [
        ""
      ],
      "execution_count": null,
      "outputs": []
    },
    {
      "cell_type": "markdown",
      "metadata": {
        "id": "SO7npYE65W_z"
      },
      "source": [
        "# Exercise 1.46\n",
        "\n",
        "Seven balls are distribuited randomly into seven cells. Let $X_i = $ the number of cells containing exactly i balls. What is the probability of $X_3$? (That is, find $P(X_3 = x)$ for every possible $x$.)\n",
        "\n"
      ]
    },
    {
      "cell_type": "code",
      "metadata": {
        "id": "m_NwmYRx45FX"
      },
      "source": [
        ""
      ],
      "execution_count": null,
      "outputs": []
    },
    {
      "cell_type": "code",
      "metadata": {
        "id": "EY5EKDFHFeiq"
      },
      "source": [
        ""
      ],
      "execution_count": null,
      "outputs": []
    },
    {
      "cell_type": "markdown",
      "metadata": {
        "id": "W_wFqCOXxgQG"
      },
      "source": [
        "# Exercise 1.47 \n",
        "Prove that the following functions are cdfs.\n",
        "\n",
        "a. $ \\frac{1}{2} + \\frac{1}{\\pi}\\tan^{-1}(x)$, $x \\in (-\\infty, \\infty)$\n"
      ]
    },
    {
      "cell_type": "code",
      "metadata": {
        "colab": {
          "base_uri": "https://localhost:8080/",
          "height": 37
        },
        "id": "Gw5jkot-wZzg",
        "outputId": "487084f0-d5a9-4a6d-bfe9-cee14e814e15"
      },
      "source": [
        "x = sp.var('x') #Declarar variable simbolica x\n",
        "\n",
        "Fx = 0.5 + (1/sp.pi) * sp.atan(x) #Aplicar la Formula\n",
        "Fx_ninf = Fx.subs({x: -sp.oo}) #Sustituir en x -infinito\n",
        "Fx_ninf\n"
      ],
      "execution_count": null,
      "outputs": [
        {
          "output_type": "execute_result",
          "data": {
            "text/latex": "$\\displaystyle 0$",
            "text/plain": [
              "0"
            ]
          },
          "metadata": {
            "tags": []
          },
          "execution_count": 16
        }
      ]
    },
    {
      "cell_type": "markdown",
      "metadata": {
        "id": "Jh2nMQ2E07K-"
      },
      "source": [
        "*Derivada*\n"
      ]
    },
    {
      "cell_type": "code",
      "metadata": {
        "colab": {
          "base_uri": "https://localhost:8080/",
          "height": 140
        },
        "id": "fw1YxKXH01GV",
        "outputId": "b3743d81-1bdc-45b7-ff18-0c0e74e9916d"
      },
      "source": [
        "Fx_inf = Fx.subs({x: sp.oo}) # Sustituir en x infinito\n",
        "print(\"F(oo)= \",round(Fx_inf))\n",
        "\n",
        "fx = Fx.diff()\n",
        "print(\"\\n\")\n",
        "print(\"Derivada respecto a X en los limites -oo a oo \\n\")\n",
        "\n",
        "fx"
      ],
      "execution_count": null,
      "outputs": [
        {
          "output_type": "stream",
          "text": [
            "F(oo)=  1\n",
            "\n",
            "\n",
            "Derivada respecto a X en los limites -oo a oo \n",
            "\n"
          ],
          "name": "stdout"
        },
        {
          "output_type": "execute_result",
          "data": {
            "text/latex": "$\\displaystyle \\frac{1}{\\pi \\left(x^{2} + 1\\right)}$",
            "text/plain": [
              "1/(pi*(x**2 + 1))"
            ]
          },
          "metadata": {
            "tags": []
          },
          "execution_count": 17
        }
      ]
    },
    {
      "cell_type": "code",
      "metadata": {
        "colab": {
          "base_uri": "https://localhost:8080/",
          "height": 314
        },
        "id": "XvlLBvfmx3P1",
        "outputId": "60f657d5-f927-4f2e-dd62-16faa4640be0"
      },
      "source": [
        "plot(fx,title=\"Grafica de la Derivada\") #Grafica de la derivada\n"
      ],
      "execution_count": null,
      "outputs": [
        {
          "output_type": "display_data",
          "data": {
            "image/png": "[encoded data removed]",
            "text/plain": [
              "<Figure size 432x288 with 1 Axes>"
            ]
          },
          "metadata": {
            "tags": [],
            "needs_background": "light"
          }
        },
        {
          "output_type": "execute_result",
          "data": {
            "text/plain": [
              "<sympy.plotting.plot.Plot at 0x7f7875c8ba10>"
            ]
          },
          "metadata": {
            "tags": []
          },
          "execution_count": 18
        }
      ]
    },
    {
      "cell_type": "markdown",
      "metadata": {
        "id": "YUh13iUZ2fN8"
      },
      "source": [
        "**b.** $ (1-e^{-x})^{-1}$, $ x \\in (0,\\infty)$\n",
        "\n"
      ]
    },
    {
      "cell_type": "code",
      "metadata": {
        "colab": {
          "base_uri": "https://localhost:8080/",
          "height": 61
        },
        "id": "gfKcGLpX1rHj",
        "outputId": "74b9043d-154e-40b2-998c-0eba5d0d08cb"
      },
      "source": [
        "x = sp.var('x')\n",
        "\n",
        "Fx =(1 - sp.E **-x) **-1\n",
        "Fx\n",
        "\n",
        "\n",
        "Fx.subs({x: -sp.oo,x:sp.oo})\n",
        "Fx.diff()\n",
        "\n"
      ],
      "execution_count": null,
      "outputs": [
        {
          "output_type": "execute_result",
          "data": {
            "image/png": "[encoded data removed]",
            "text/latex": "$\\displaystyle - \\frac{e^{- x}}{\\left(1 - e^{- x}\\right)^{2}}$",
            "text/plain": [
              "    -x    \n",
              "  -ℯ      \n",
              "──────────\n",
              "         2\n",
              "⎛     -x⎞ \n",
              "⎝1 - ℯ  ⎠ "
            ]
          },
          "metadata": {
            "tags": []
          },
          "execution_count": 38
        }
      ]
    },
    {
      "cell_type": "code",
      "metadata": {
        "colab": {
          "base_uri": "https://localhost:8080/",
          "height": 61
        },
        "id": "sFmIdx-j4XbN",
        "outputId": "9bde79b3-978b-46d5-8a2c-f9f30bbdb25e"
      },
      "source": [
        ""
      ],
      "execution_count": null,
      "outputs": [
        {
          "output_type": "execute_result",
          "data": {
            "text/latex": "$\\displaystyle - \\frac{e^{- x}}{\\left(1 - e^{- x}\\right)^{2}}$",
            "text/plain": [
              "-exp(-x)/(1 - exp(-x))**2"
            ]
          },
          "metadata": {
            "tags": []
          },
          "execution_count": 20
        }
      ]
    },
    {
      "cell_type": "code",
      "metadata": {
        "colab": {
          "base_uri": "https://localhost:8080/",
          "height": 314
        },
        "id": "d54QCE4i4kER",
        "outputId": "7f1ec03c-00df-4dbe-da52-ed95f6d39650"
      },
      "source": [
        "plot(dy_dx,title='Grafica de la derivada', ylim=[-100,100], xlim=[-10,10], color='red')"
      ],
      "execution_count": null,
      "outputs": [
        {
          "output_type": "display_data",
          "data": {
            "image/png": "[encoded data removed]",
            "text/plain": [
              "<Figure size 432x288 with 1 Axes>"
            ]
          },
          "metadata": {
            "tags": [],
            "needs_background": "light"
          }
        },
        {
          "output_type": "execute_result",
          "data": {
            "text/plain": [
              "<sympy.plotting.plot.Plot at 0x7f7868e583d0>"
            ]
          },
          "metadata": {
            "tags": []
          },
          "execution_count": 39
        }
      ]
    },
    {
      "cell_type": "code",
      "metadata": {
        "colab": {
          "base_uri": "https://localhost:8080/"
        },
        "id": "t6rPFaGGcNhp",
        "outputId": "d9c54d48-53ac-43c2-be91-146eac4178a9"
      },
      "source": [
        "sp.init_printing(use_latex = True)\n",
        "\n",
        "x = sp.symbols('x')\n",
        "\n",
        "print('Satisface', {sp.limit(1 / (1 + sp.exp(-x)), x, -sp.oo), sp.limit(1 / (1 + sp.exp(-x)), x, sp.oo)})\n"
      ],
      "execution_count": null,
      "outputs": [
        {
          "output_type": "stream",
          "text": [
            "Satisface {0, 1}\n"
          ],
          "name": "stdout"
        }
      ]
    },
    {
      "cell_type": "markdown",
      "metadata": {
        "id": "rRINJDes5z8x"
      },
      "source": [
        "c. $ e^{-e^{-x}} $ , $ x \\in (-\\infty , \\infty)$ "
      ]
    },
    {
      "cell_type": "code",
      "metadata": {
        "id": "USmURDAk5yQu",
        "colab": {
          "base_uri": "https://localhost:8080/",
          "height": 348
        },
        "outputId": "a58f2cdd-2456-4f71-ae6a-9b34fc22f31f"
      },
      "source": [
        "x= sp.var('x')\n",
        "\n",
        "Fx= sp.E **(-sp.E **-x)\n",
        "\n",
        "Fx.subs({x: -sp.oo, x: sp.oo})\n",
        "diff = Fx.diff()\n",
        "print(Fx)\n",
        "print(diff)\n",
        "plot(diff,title='Derivada en los limites -oo a oo')"
      ],
      "execution_count": null,
      "outputs": [
        {
          "output_type": "stream",
          "text": [
            "exp(-exp(-x))\n",
            "exp(-x)*exp(-exp(-x))\n"
          ],
          "name": "stdout"
        },
        {
          "output_type": "display_data",
          "data": {
            "image/png": "[encoded data removed]",
            "text/plain": [
              "<Figure size 432x288 with 1 Axes>"
            ]
          },
          "metadata": {
            "tags": [],
            "needs_background": "light"
          }
        },
        {
          "output_type": "execute_result",
          "data": {
            "text/plain": [
              "<sympy.plotting.plot.Plot at 0x7f786ceb0790>"
            ]
          },
          "metadata": {
            "tags": []
          },
          "execution_count": 36
        }
      ]
    },
    {
      "cell_type": "code",
      "metadata": {
        "colab": {
          "base_uri": "https://localhost:8080/"
        },
        "id": "oV0-CkVyfK5-",
        "outputId": "b07793a4-53db-4047-f6d3-0eb50c6f4041"
      },
      "source": [
        "x= sp.var('x')\n",
        "\n",
        "Fx= (1 / (sp.E **(1/(-sp.E **x))))\n",
        "\n",
        "Fx.subs({x: sp.oo})\n",
        "diff = Fx.diff()\n",
        "print(Fx)\n",
        "print(diff)\n",
        "plot(diff,title='Derivada en los limites -oo a oo')"
      ],
      "execution_count": null,
      "outputs": [
        {
          "output_type": "stream",
          "text": [
            "exp(exp(-x))\n",
            "-exp(-x)*exp(exp(-x))\n"
          ],
          "name": "stdout"
        }
      ]
    }
  ]
}