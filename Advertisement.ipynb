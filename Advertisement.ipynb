{
  "nbformat": 4,
  "nbformat_minor": 0,
  "metadata": {
    "colab": {
      "name": "Advertisement.ipynb",
      "provenance": [],
      "collapsed_sections": [],
      "include_colab_link": true
    },
    "kernelspec": {
      "name": "python3",
      "display_name": "Python 3"
    },
    "language_info": {
      "name": "python"
    }
  },
  "cells": [
    {
      "cell_type": "markdown",
      "metadata": {
        "id": "view-in-github",
        "colab_type": "text"
      },
      "source": [
        "<a href=\"https://colab.research.google.com/github/roniel06/python_ml_exc/blob/main/Advertisement.ipynb\" target=\"_parent\"><img src=\"https://colab.research.google.com/assets/colab-badge.svg\" alt=\"Open In Colab\"/></a>"
      ]
    },
    {
      "cell_type": "markdown",
      "metadata": {
        "id": "VI4xDf4wcefd"
      },
      "source": [
        "#  0. Presentación\n",
        "\n",
        "### Roniel Polanco\n",
        "### Practica Individual 1, modelo de prediccion\n",
        "### Regresion Lineal"
      ]
    },
    {
      "cell_type": "markdown",
      "metadata": {
        "id": "gzXBMDttc3i-"
      },
      "source": [
        "# 1. Imports"
      ]
    },
    {
      "cell_type": "code",
      "metadata": {
        "id": "2OdEmX3oc4M-"
      },
      "source": [
        "import numpy as np # linear algebra\n",
        "import pandas as pd # data processing, CSV file I/O (e.g. pd.read_csv)\n",
        "import matplotlib.pyplot as plt\n",
        "from sklearn.linear_model import LinearRegression\n",
        "from sklearn import model_selection\n",
        "from sklearn.metrics import mean_squared_error\n",
        "from math import sqrt"
      ],
      "execution_count": null,
      "outputs": []
    },
    {
      "cell_type": "markdown",
      "metadata": {
        "id": "0x5sZE07dB-u"
      },
      "source": [
        "# 2. Data Gathering"
      ]
    },
    {
      "cell_type": "code",
      "metadata": {
        "colab": {
          "base_uri": "https://localhost:8080/",
          "height": 200
        },
        "id": "cFgfCtRtJsKs",
        "outputId": "480d33a2-ddbc-4188-beb6-f1eacce68747"
      },
      "source": [
        "\n",
        "dataset=pd.read_csv('https://pastebin.com/raw/JFACpGgf')\n",
        "dataset.head()"
      ],
      "execution_count": null,
      "outputs": [
        {
          "output_type": "execute_result",
          "data": {
            "text/html": [
              "<div>\n",
              "<style scoped>\n",
              "    .dataframe tbody tr th:only-of-type {\n",
              "        vertical-align: middle;\n",
              "    }\n",
              "\n",
              "    .dataframe tbody tr th {\n",
              "        vertical-align: top;\n",
              "    }\n",
              "\n",
              "    .dataframe thead th {\n",
              "        text-align: right;\n",
              "    }\n",
              "</style>\n",
              "<table border=\"1\" class=\"dataframe\">\n",
              "  <thead>\n",
              "    <tr style=\"text-align: right;\">\n",
              "      <th></th>\n",
              "      <th>TV</th>\n",
              "      <th>Radio</th>\n",
              "      <th>Newspaper</th>\n",
              "      <th>Sales</th>\n",
              "    </tr>\n",
              "  </thead>\n",
              "  <tbody>\n",
              "    <tr>\n",
              "      <th>0</th>\n",
              "      <td>230.1</td>\n",
              "      <td>37.8</td>\n",
              "      <td>69.2</td>\n",
              "      <td>22.1</td>\n",
              "    </tr>\n",
              "    <tr>\n",
              "      <th>1</th>\n",
              "      <td>44.5</td>\n",
              "      <td>39.3</td>\n",
              "      <td>45.1</td>\n",
              "      <td>10.4</td>\n",
              "    </tr>\n",
              "    <tr>\n",
              "      <th>2</th>\n",
              "      <td>17.2</td>\n",
              "      <td>45.9</td>\n",
              "      <td>69.3</td>\n",
              "      <td>12.0</td>\n",
              "    </tr>\n",
              "    <tr>\n",
              "      <th>3</th>\n",
              "      <td>151.5</td>\n",
              "      <td>41.3</td>\n",
              "      <td>58.5</td>\n",
              "      <td>16.5</td>\n",
              "    </tr>\n",
              "    <tr>\n",
              "      <th>4</th>\n",
              "      <td>180.8</td>\n",
              "      <td>10.8</td>\n",
              "      <td>58.4</td>\n",
              "      <td>17.9</td>\n",
              "    </tr>\n",
              "  </tbody>\n",
              "</table>\n",
              "</div>"
            ],
            "text/plain": [
              "      TV  Radio  Newspaper  Sales\n",
              "0  230.1   37.8       69.2   22.1\n",
              "1   44.5   39.3       45.1   10.4\n",
              "2   17.2   45.9       69.3   12.0\n",
              "3  151.5   41.3       58.5   16.5\n",
              "4  180.8   10.8       58.4   17.9"
            ]
          },
          "metadata": {
            "tags": []
          },
          "execution_count": 2
        }
      ]
    },
    {
      "cell_type": "code",
      "metadata": {
        "colab": {
          "base_uri": "https://localhost:8080/"
        },
        "id": "ib8UsHZ_Stxn",
        "outputId": "7bf68e55-e930-45f3-e194-ba877a3e4527"
      },
      "source": [
        "dataset.shape"
      ],
      "execution_count": null,
      "outputs": [
        {
          "output_type": "execute_result",
          "data": {
            "text/plain": [
              "(200, 4)"
            ]
          },
          "metadata": {
            "tags": []
          },
          "execution_count": 3
        }
      ]
    },
    {
      "cell_type": "markdown",
      "metadata": {
        "id": "xUXpbmhAdTjm"
      },
      "source": [
        "## 3. Data Wrangling/CLEANING"
      ]
    },
    {
      "cell_type": "code",
      "metadata": {
        "colab": {
          "base_uri": "https://localhost:8080/"
        },
        "id": "AcoEdKRcR-qO",
        "outputId": "b9cd71e7-8f56-4deb-ab24-8fc3d76eb39d"
      },
      "source": [
        "\n",
        "print(dataset.isna().any()) # No missing values\n",
        "dataset.dtypes # All are numeric column. Not categorical col is present"
      ],
      "execution_count": null,
      "outputs": [
        {
          "output_type": "stream",
          "text": [
            "TV           False\n",
            "Radio        False\n",
            "Newspaper    False\n",
            "Sales        False\n",
            "dtype: bool\n"
          ],
          "name": "stdout"
        },
        {
          "output_type": "execute_result",
          "data": {
            "text/plain": [
              "TV           float64\n",
              "Radio        float64\n",
              "Newspaper    float64\n",
              "Sales        float64\n",
              "dtype: object"
            ]
          },
          "metadata": {
            "tags": []
          },
          "execution_count": 4
        }
      ]
    },
    {
      "cell_type": "code",
      "metadata": {
        "colab": {
          "base_uri": "https://localhost:8080/"
        },
        "id": "90hw0APtA-7I",
        "outputId": "85f9c83b-82d3-414e-bafb-7ae2eb15eaaf"
      },
      "source": [
        "dataset.info()"
      ],
      "execution_count": null,
      "outputs": [
        {
          "output_type": "stream",
          "text": [
            "<class 'pandas.core.frame.DataFrame'>\n",
            "RangeIndex: 200 entries, 0 to 199\n",
            "Data columns (total 4 columns):\n",
            " #   Column     Non-Null Count  Dtype  \n",
            "---  ------     --------------  -----  \n",
            " 0   TV         200 non-null    float64\n",
            " 1   Radio      200 non-null    float64\n",
            " 2   Newspaper  200 non-null    float64\n",
            " 3   Sales      200 non-null    float64\n",
            "dtypes: float64(4)\n",
            "memory usage: 6.4 KB\n"
          ],
          "name": "stdout"
        }
      ]
    },
    {
      "cell_type": "code",
      "metadata": {
        "colab": {
          "base_uri": "https://localhost:8080/",
          "height": 291
        },
        "id": "hFhxXiypBIOI",
        "outputId": "a442b008-396b-4b7f-df4f-14c01056d7ce"
      },
      "source": [
        "dataset.describe()"
      ],
      "execution_count": null,
      "outputs": [
        {
          "output_type": "execute_result",
          "data": {
            "text/html": [
              "<div>\n",
              "<style scoped>\n",
              "    .dataframe tbody tr th:only-of-type {\n",
              "        vertical-align: middle;\n",
              "    }\n",
              "\n",
              "    .dataframe tbody tr th {\n",
              "        vertical-align: top;\n",
              "    }\n",
              "\n",
              "    .dataframe thead th {\n",
              "        text-align: right;\n",
              "    }\n",
              "</style>\n",
              "<table border=\"1\" class=\"dataframe\">\n",
              "  <thead>\n",
              "    <tr style=\"text-align: right;\">\n",
              "      <th></th>\n",
              "      <th>TV</th>\n",
              "      <th>Radio</th>\n",
              "      <th>Newspaper</th>\n",
              "      <th>Sales</th>\n",
              "    </tr>\n",
              "  </thead>\n",
              "  <tbody>\n",
              "    <tr>\n",
              "      <th>count</th>\n",
              "      <td>200.000000</td>\n",
              "      <td>200.000000</td>\n",
              "      <td>200.000000</td>\n",
              "      <td>200.000000</td>\n",
              "    </tr>\n",
              "    <tr>\n",
              "      <th>mean</th>\n",
              "      <td>147.042500</td>\n",
              "      <td>23.264000</td>\n",
              "      <td>30.554000</td>\n",
              "      <td>15.130500</td>\n",
              "    </tr>\n",
              "    <tr>\n",
              "      <th>std</th>\n",
              "      <td>85.854236</td>\n",
              "      <td>14.846809</td>\n",
              "      <td>21.778621</td>\n",
              "      <td>5.283892</td>\n",
              "    </tr>\n",
              "    <tr>\n",
              "      <th>min</th>\n",
              "      <td>0.700000</td>\n",
              "      <td>0.000000</td>\n",
              "      <td>0.300000</td>\n",
              "      <td>1.600000</td>\n",
              "    </tr>\n",
              "    <tr>\n",
              "      <th>25%</th>\n",
              "      <td>74.375000</td>\n",
              "      <td>9.975000</td>\n",
              "      <td>12.750000</td>\n",
              "      <td>11.000000</td>\n",
              "    </tr>\n",
              "    <tr>\n",
              "      <th>50%</th>\n",
              "      <td>149.750000</td>\n",
              "      <td>22.900000</td>\n",
              "      <td>25.750000</td>\n",
              "      <td>16.000000</td>\n",
              "    </tr>\n",
              "    <tr>\n",
              "      <th>75%</th>\n",
              "      <td>218.825000</td>\n",
              "      <td>36.525000</td>\n",
              "      <td>45.100000</td>\n",
              "      <td>19.050000</td>\n",
              "    </tr>\n",
              "    <tr>\n",
              "      <th>max</th>\n",
              "      <td>296.400000</td>\n",
              "      <td>49.600000</td>\n",
              "      <td>114.000000</td>\n",
              "      <td>27.000000</td>\n",
              "    </tr>\n",
              "  </tbody>\n",
              "</table>\n",
              "</div>"
            ],
            "text/plain": [
              "               TV       Radio   Newspaper       Sales\n",
              "count  200.000000  200.000000  200.000000  200.000000\n",
              "mean   147.042500   23.264000   30.554000   15.130500\n",
              "std     85.854236   14.846809   21.778621    5.283892\n",
              "min      0.700000    0.000000    0.300000    1.600000\n",
              "25%     74.375000    9.975000   12.750000   11.000000\n",
              "50%    149.750000   22.900000   25.750000   16.000000\n",
              "75%    218.825000   36.525000   45.100000   19.050000\n",
              "max    296.400000   49.600000  114.000000   27.000000"
            ]
          },
          "metadata": {
            "tags": []
          },
          "execution_count": 6
        }
      ]
    },
    {
      "cell_type": "markdown",
      "metadata": {
        "id": "YiQymtM4dcsG"
      },
      "source": [
        "#4. Data visualization"
      ]
    },
    {
      "cell_type": "code",
      "metadata": {
        "colab": {
          "base_uri": "https://localhost:8080/",
          "height": 513
        },
        "id": "vvrynIPBS9Wx",
        "outputId": "77a41a53-aa56-41df-fd55-20a01dfab50a"
      },
      "source": [
        "fig,axs= plt.subplots(1,3,sharey=True)\n",
        "dataset.plot(kind=\"scatter\",x='TV',y='Sales',ax=axs[0],figsize=(16,8))\n",
        "dataset.plot(kind=\"scatter\",x='Radio',y='Sales',ax=axs[1],figsize=(16,8))\n",
        "dataset.plot(kind=\"scatter\",x='Newspaper',y='Sales',ax=axs[2],figsize=(16,8))"
      ],
      "execution_count": null,
      "outputs": [
        {
          "output_type": "execute_result",
          "data": {
            "text/plain": [
              "<matplotlib.axes._subplots.AxesSubplot at 0x7f29dd819390>"
            ]
          },
          "metadata": {
            "tags": []
          },
          "execution_count": 7
        },
        {
          "output_type": "display_data",
          "data": {
            "image/png": "[encoded data removed]",
            "text/plain": [
              "<Figure size 1152x576 with 3 Axes>"
            ]
          },
          "metadata": {
            "tags": [],
            "needs_background": "light"
          }
        }
      ]
    },
    {
      "cell_type": "markdown",
      "metadata": {
        "id": "hqQYrOxadj-4"
      },
      "source": [
        "# 5. FEATURES SELECTION"
      ]
    },
    {
      "cell_type": "code",
      "metadata": {
        "colab": {
          "base_uri": "https://localhost:8080/"
        },
        "id": "Cq35Zlx8TLZI",
        "outputId": "6e3ffad3-0cb9-43ba-bb74-51e5391378ad"
      },
      "source": [
        "\n",
        "feature_x=['TV','Radio','Newspaper']\n",
        "X=dataset[feature_x]\n",
        "y=dataset.Sales\n",
        "print(X,y)"
      ],
      "execution_count": null,
      "outputs": [
        {
          "output_type": "stream",
          "text": [
            "        TV  Radio  Newspaper\n",
            "0    230.1   37.8       69.2\n",
            "1     44.5   39.3       45.1\n",
            "2     17.2   45.9       69.3\n",
            "3    151.5   41.3       58.5\n",
            "4    180.8   10.8       58.4\n",
            "..     ...    ...        ...\n",
            "195   38.2    3.7       13.8\n",
            "196   94.2    4.9        8.1\n",
            "197  177.0    9.3        6.4\n",
            "198  283.6   42.0       66.2\n",
            "199  232.1    8.6        8.7\n",
            "\n",
            "[200 rows x 3 columns] 0      22.1\n",
            "1      10.4\n",
            "2      12.0\n",
            "3      16.5\n",
            "4      17.9\n",
            "       ... \n",
            "195     7.6\n",
            "196    14.0\n",
            "197    14.8\n",
            "198    25.5\n",
            "199    18.4\n",
            "Name: Sales, Length: 200, dtype: float64\n"
          ],
          "name": "stdout"
        }
      ]
    },
    {
      "cell_type": "markdown",
      "metadata": {
        "id": "KetFZGk-dp_P"
      },
      "source": [
        "# 6. Data Splitting Train Test"
      ]
    },
    {
      "cell_type": "code",
      "metadata": {
        "colab": {
          "base_uri": "https://localhost:8080/"
        },
        "id": "fvc4by6fTipM",
        "outputId": "1075750e-58e5-4e28-ccca-9d930b36d58b"
      },
      "source": [
        "xtrain,xtest, ytrain, ytest = model_selection.train_test_split(X,y,test_size=0.3,random_state=30)\n",
        "print(xtrain.shape)\n",
        "print(xtest.shape)"
      ],
      "execution_count": null,
      "outputs": [
        {
          "output_type": "stream",
          "text": [
            "(140, 3)\n",
            "(60, 3)\n"
          ],
          "name": "stdout"
        }
      ]
    },
    {
      "cell_type": "markdown",
      "metadata": {
        "id": "dfQ31ZmhdyLp"
      },
      "source": [
        "# 7. Training & Predictions"
      ]
    },
    {
      "cell_type": "code",
      "metadata": {
        "colab": {
          "base_uri": "https://localhost:8080/",
          "height": 909
        },
        "id": "hhEkAxRMWZeU",
        "outputId": "8471bfdc-ba42-4115-95bc-daf9b7ac1cfb"
      },
      "source": [
        "\n",
        "\n",
        "lm = []\n",
        "fig, axs = plt.subplots(1,3)\n",
        "fig.set_size_inches(16,8)\n",
        "for i in range(X.shape[1]):\n",
        "  print(\"Linear Model for variable #{}\".format(i))\n",
        "  lm.append(LinearRegression())\n",
        "  lm[i].fit(xtrain.iloc[:, [i]], ytrain)\n",
        "  y_pred = lm[i].predict(xtest.iloc[:, [i]])\n",
        "  print(lm[i].intercept_, lm[i].coef_)\n",
        "  print(\"MSE:\", mean_squared_error(ytest,y_pred))\n",
        "  print(\"STD:\", sqrt(mean_squared_error(ytest,y_pred)))\n",
        "  print(\"r2:\", lm[i].score(xtest.iloc[:, [i]], ytest))\n",
        "  print(\"\\n\")\n",
        "  sqr_error = (y_pred - ytest)\n",
        "  \n",
        "  axs[i].hist(sqr_error)\n",
        "  \n",
        "\n",
        "\n",
        "\n",
        "#Model Prediction\n",
        "x_new=pd.DataFrame({'TV':[50],\n",
        "                   'Newspaper':[50],\n",
        "                   'Radio':[50]})\n",
        "x_new.head()"
      ],
      "execution_count": 33,
      "outputs": [
        {
          "output_type": "stream",
          "text": [
            "Linear Model for variable #0\n",
            "6.832604053989313 [0.05560761]\n",
            "MSE: 5.686866311580136\n",
            "STD: 2.3847151426491457\n",
            "r2: 0.8041810851835126\n",
            "\n",
            "\n",
            "Linear Model for variable #1\n",
            "12.372681911531405 [0.11078268]\n",
            "MSE: 25.319422999265573\n",
            "STD: 5.031840915536338\n",
            "r2: 0.12816274133263839\n",
            "\n",
            "\n",
            "Linear Model for variable #2\n",
            "13.713035670627983 [0.03672209]\n",
            "MSE: 29.43323394655041\n",
            "STD: 5.425240450574556\n",
            "r2: -0.013490315257973062\n",
            "\n",
            "\n"
          ],
          "name": "stdout"
        },
        {
          "output_type": "execute_result",
          "data": {
            "text/html": [
              "<div>\n",
              "<style scoped>\n",
              "    .dataframe tbody tr th:only-of-type {\n",
              "        vertical-align: middle;\n",
              "    }\n",
              "\n",
              "    .dataframe tbody tr th {\n",
              "        vertical-align: top;\n",
              "    }\n",
              "\n",
              "    .dataframe thead th {\n",
              "        text-align: right;\n",
              "    }\n",
              "</style>\n",
              "<table border=\"1\" class=\"dataframe\">\n",
              "  <thead>\n",
              "    <tr style=\"text-align: right;\">\n",
              "      <th></th>\n",
              "      <th>TV</th>\n",
              "      <th>Newspaper</th>\n",
              "      <th>Radio</th>\n",
              "    </tr>\n",
              "  </thead>\n",
              "  <tbody>\n",
              "    <tr>\n",
              "      <th>0</th>\n",
              "      <td>50</td>\n",
              "      <td>50</td>\n",
              "      <td>50</td>\n",
              "    </tr>\n",
              "  </tbody>\n",
              "</table>\n",
              "</div>"
            ],
            "text/plain": [
              "   TV  Newspaper  Radio\n",
              "0  50         50     50"
            ]
          },
          "metadata": {
            "tags": []
          },
          "execution_count": 33
        },
        {
          "output_type": "display_data",
          "data": {
            "image/png": "[encoded data removed]",
            "text/plain": [
              "<Figure size 1152x576 with 3 Axes>"
            ]
          },
          "metadata": {
            "tags": [],
            "needs_background": "light"
          }
        }
      ]
    },
    {
      "cell_type": "code",
      "metadata": {
        "id": "55PRrI-wiM-a"
      },
      "source": [
        "def plot_regression(lr,ds, feature, color):\n",
        "\n",
        "  lr.fit(ds[[feature]], ds[['Sales']])\n",
        "\n",
        "  #predict\n",
        "  X_hat = np.linspace(start= ds[feature].min(), stop= ds[feature].max())\n",
        "  y_hat = lr.predict(X_hat.reshape(-1,1))\n",
        "\n",
        "\n",
        "  plt.scatter(ds[feature] , ds['Sales'], c=color, marker='o')\n",
        "  plt.ylabel('Sales')\n",
        "  plt.xlabel(feature)\n",
        "  plt.title(\"$y$= %3f + %3f$x$\" %(lr.intercept_, lr.coef_))\n",
        "  plt.plot(X_hat, y_hat, color='red')"
      ],
      "execution_count": 31,
      "outputs": []
    },
    {
      "cell_type": "code",
      "metadata": {
        "colab": {
          "base_uri": "https://localhost:8080/",
          "height": 513
        },
        "id": "b1V5ABe5hSRN",
        "outputId": "38cceb02-5371-4ddd-baff-c7d84d05a97d"
      },
      "source": [
        "plt.figure(figsize=(16,8))\n",
        "\n",
        "plt.subplot(131)\n",
        "plot_regression(lm[0],dataset, 'TV','g')\n",
        "\n",
        "plt.subplot(132)\n",
        "plot_regression(lm[0],dataset, 'Radio','b')\n",
        "\n",
        "plt.subplot(133)\n",
        "plot_regression(lm[0],dataset, 'Newspaper','purple')"
      ],
      "execution_count": 32,
      "outputs": [
        {
          "output_type": "display_data",
          "data": {
            "image/png": "[encoded data removed]",
            "text/plain": [
              "<Figure size 1152x576 with 3 Axes>"
            ]
          },
          "metadata": {
            "tags": [],
            "needs_background": "light"
          }
        }
      ]
    },
    {
      "cell_type": "code",
      "metadata": {
        "colab": {
          "base_uri": "https://localhost:8080/",
          "height": 795
        },
        "id": "KNBN3yfjb9cp",
        "outputId": "f19ed081-9458-44f8-e9ed-f41d6cffd2d6"
      },
      "source": [
        "\n",
        "feats = [\n",
        "  ['TV', 'Radio'],\n",
        "  ['TV', 'Newspaper'],\n",
        "  ['Newspaper', 'Radio']\n",
        "]\n",
        "lm = []\n",
        "fig, axs = plt.subplots(1,3)\n",
        "fig.set_size_inches(16,8)\n",
        "for i in range(X.shape[1]):\n",
        "  print(\"Linear Model for variable #{}\".format(i))\n",
        "  xxtrain = xtrain.loc[:, feats[i]]\n",
        "  xxtest = xtest.loc[:, feats[i]]\n",
        "\n",
        "  lm.append(LinearRegression())\n",
        "  lm[i].fit(xxtrain, ytrain)\n",
        "  y_pred = lm[i].predict(xxtest)\n",
        "  print(lm[i].intercept_, lm[i].coef_)\n",
        "  print(\"MSE:\", mean_squared_error(ytest,y_pred))\n",
        "  print(\"STD:\", sqrt(mean_squared_error(ytest,y_pred)))\n",
        "  print(\"r2:\", lm[i].score(xxtest, ytest))\n",
        "\n",
        "  sqr_error = (ytest - y_pred)\n",
        "\n",
        "\n",
        "  axs[i].hist(sqr_error)\n",
        "\n",
        "  print()"
      ],
      "execution_count": null,
      "outputs": [
        {
          "output_type": "stream",
          "text": [
            "Linear Model for variable #0\n",
            "4.800619876786589 [0.05490107 0.09830077]\n",
            "MSE: 2.341958208661954\n",
            "STD: 1.5303457807508583\n",
            "r2: 0.9193580981441566\n",
            "\n",
            "Linear Model for variable #1\n",
            "5.840332314147696 [0.05552496 0.03467377]\n",
            "MSE: 5.9919982144351644\n",
            "STD: 2.4478558402069277\n",
            "r2: 0.7936743148781704\n",
            "\n",
            "Linear Model for variable #2\n",
            "12.232929062644661 [0.00819403 0.10628783]\n",
            "MSE: 25.256637112033157\n",
            "STD: 5.025598184498355\n",
            "r2: 0.13032468142934972\n",
            "\n"
          ],
          "name": "stdout"
        },
        {
          "output_type": "display_data",
          "data": {
            "image/png": "[encoded data removed]",
            "text/plain": [
              "<Figure size 1152x576 with 3 Axes>"
            ]
          },
          "metadata": {
            "tags": [],
            "needs_background": "light"
          }
        }
      ]
    },
    {
      "cell_type": "markdown",
      "metadata": {
        "id": "wViOrmxod_-k"
      },
      "source": [
        "# 8. prediction based on Test Dataset"
      ]
    },
    {
      "cell_type": "code",
      "metadata": {
        "colab": {
          "base_uri": "https://localhost:8080/",
          "height": 420
        },
        "id": "AOJyezvwSEw7",
        "outputId": "352001e3-1086-4506-de83-002b593e8343"
      },
      "source": [
        "\n",
        "lm=LinearRegression()\n",
        "lm.fit(xtrain,ytrain)\n",
        "\n",
        "# lets predict on test data\n",
        "y_preds=lm.predict(xtest)\n",
        "\n",
        "\n",
        "print(lm.intercept_, lm.coef_)\n",
        "print(\"MSE:\", mean_squared_error(ytest,y_pred))\n",
        "print(\"STD:\", sqrt(mean_squared_error(ytest,y_pred)))\n",
        "print(\"r2:\", lm.score(xtest, ytest))\n",
        "\n",
        "plt.hist((ytest - y_pred))\n",
        "\n"
      ],
      "execution_count": 34,
      "outputs": [
        {
          "output_type": "stream",
          "text": [
            "4.63226201614081 [0.0549163  0.09294998 0.00974809]\n",
            "MSE: 29.43323394655041\n",
            "STD: 5.425240450574556\n",
            "r2: 0.9119365079893469\n"
          ],
          "name": "stdout"
        },
        {
          "output_type": "execute_result",
          "data": {
            "text/plain": [
              "(array([ 6.,  5.,  6.,  2.,  9., 12.,  6.,  8.,  2.,  4.]),\n",
              " array([-8.97117319, -6.92372048, -4.87626777, -2.82881506, -0.78136235,\n",
              "         1.26609036,  3.31354307,  5.36099578,  7.40844848,  9.45590119,\n",
              "        11.5033539 ]),\n",
              " <a list of 10 Patch objects>)"
            ]
          },
          "metadata": {
            "tags": []
          },
          "execution_count": 34
        },
        {
          "output_type": "display_data",
          "data": {
            "image/png": "[encoded data removed]",
            "text/plain": [
              "<Figure size 432x288 with 1 Axes>"
            ]
          },
          "metadata": {
            "tags": [],
            "needs_background": "light"
          }
        }
      ]
    },
    {
      "cell_type": "code",
      "metadata": {
        "id": "3k6Z31HqidRA"
      },
      "source": [
        "plot_regression(lm, )"
      ],
      "execution_count": null,
      "outputs": []
    }
  ]
}